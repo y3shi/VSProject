{
 "cells": [
  {
   "cell_type": "markdown",
   "metadata": {},
   "source": [
    "### Sentiment Analysis on the [IMDB dataset](https://www.dropbox.com/s/rx0w6wflu8ltx4c/movie_data.csv?dl=0)"
   ]
  },
  {
   "cell_type": "code",
   "execution_count": 2,
   "metadata": {},
   "outputs": [
    {
     "name": "stdout",
     "output_type": "stream",
     "text": [
      "50000\n"
     ]
    },
    {
     "data": {
      "text/html": [
       "<div>\n",
       "<style scoped>\n",
       "    .dataframe tbody tr th:only-of-type {\n",
       "        vertical-align: middle;\n",
       "    }\n",
       "\n",
       "    .dataframe tbody tr th {\n",
       "        vertical-align: top;\n",
       "    }\n",
       "\n",
       "    .dataframe thead th {\n",
       "        text-align: right;\n",
       "    }\n",
       "</style>\n",
       "<table border=\"1\" class=\"dataframe\">\n",
       "  <thead>\n",
       "    <tr style=\"text-align: right;\">\n",
       "      <th></th>\n",
       "      <th>review</th>\n",
       "      <th>sentiment</th>\n",
       "    </tr>\n",
       "  </thead>\n",
       "  <tbody>\n",
       "    <tr>\n",
       "      <th>0</th>\n",
       "      <td>In 1974, the teenager Martha Moxley (Maggie Gr...</td>\n",
       "      <td>1</td>\n",
       "    </tr>\n",
       "    <tr>\n",
       "      <th>1</th>\n",
       "      <td>OK... so... I really like Kris Kristofferson a...</td>\n",
       "      <td>0</td>\n",
       "    </tr>\n",
       "    <tr>\n",
       "      <th>2</th>\n",
       "      <td>***SPOILER*** Do not read this, if you think a...</td>\n",
       "      <td>0</td>\n",
       "    </tr>\n",
       "    <tr>\n",
       "      <th>3</th>\n",
       "      <td>hi for all the people who have seen this wonde...</td>\n",
       "      <td>1</td>\n",
       "    </tr>\n",
       "    <tr>\n",
       "      <th>4</th>\n",
       "      <td>I recently bought the DVD, forgetting just how...</td>\n",
       "      <td>0</td>\n",
       "    </tr>\n",
       "    <tr>\n",
       "      <th>5</th>\n",
       "      <td>Leave it to Braik to put on a good show. Final...</td>\n",
       "      <td>1</td>\n",
       "    </tr>\n",
       "    <tr>\n",
       "      <th>6</th>\n",
       "      <td>Nathan Detroit (Frank Sinatra) is the manager ...</td>\n",
       "      <td>1</td>\n",
       "    </tr>\n",
       "    <tr>\n",
       "      <th>7</th>\n",
       "      <td>To understand \"Crash Course\" in the right cont...</td>\n",
       "      <td>1</td>\n",
       "    </tr>\n",
       "    <tr>\n",
       "      <th>8</th>\n",
       "      <td>I've been impressed with Chavez's stance again...</td>\n",
       "      <td>1</td>\n",
       "    </tr>\n",
       "    <tr>\n",
       "      <th>9</th>\n",
       "      <td>This movie is directed by Renny Harlin the fin...</td>\n",
       "      <td>1</td>\n",
       "    </tr>\n",
       "  </tbody>\n",
       "</table>\n",
       "</div>"
      ],
      "text/plain": [
       "                                              review  sentiment\n",
       "0  In 1974, the teenager Martha Moxley (Maggie Gr...          1\n",
       "1  OK... so... I really like Kris Kristofferson a...          0\n",
       "2  ***SPOILER*** Do not read this, if you think a...          0\n",
       "3  hi for all the people who have seen this wonde...          1\n",
       "4  I recently bought the DVD, forgetting just how...          0\n",
       "5  Leave it to Braik to put on a good show. Final...          1\n",
       "6  Nathan Detroit (Frank Sinatra) is the manager ...          1\n",
       "7  To understand \"Crash Course\" in the right cont...          1\n",
       "8  I've been impressed with Chavez's stance again...          1\n",
       "9  This movie is directed by Renny Harlin the fin...          1"
      ]
     },
     "execution_count": 2,
     "metadata": {},
     "output_type": "execute_result"
    }
   ],
   "source": [
    "import pandas as pd\n",
    "\n",
    "df = pd.read_csv('movie_data.csv')\n",
    "\n",
    "print(len(df))\n",
    "\n",
    "df.head(10)"
   ]
  },
  {
   "cell_type": "code",
   "execution_count": 2,
   "metadata": {},
   "outputs": [
    {
     "data": {
      "text/plain": [
       "'In 1974, the teenager Martha Moxley (Maggie Grace) moves to the high-class area of Belle Haven, Greenwich, Connecticut. On the Mischief Night, eve of Halloween, she was murdered in the backyard of her house and her murder remained unsolved. Twenty-two years later, the writer Mark Fuhrman (Christopher Meloni), who is a former LA detective that has fallen in disgrace for perjury in O.J. Simpson trial and moved to Idaho, decides to investigate the case with his partner Stephen Weeks (Andrew Mitchell) with the purpose of writing a book. The locals squirm and do not welcome them, but with the support of the retired detective Steve Carroll (Robert Forster) that was in charge of the investigation in the 70\\'s, they discover the criminal and a net of power and money to cover the murder.<br /><br />\"Murder in Greenwich\" is a good TV movie, with the true story of a murder of a fifteen years old girl that was committed by a wealthy teenager whose mother was a Kennedy. The powerful and rich family used their influence to cover the murder for more than twenty years. However, a snoopy detective and convicted perjurer in disgrace was able to disclose how the hideous crime was committed. The screenplay shows the investigation of Mark and the last days of Martha in parallel, but there is a lack of the emotion in the dramatization. My vote is seven.<br /><br />Title (Brazil): Not Available'"
      ]
     },
     "execution_count": 2,
     "metadata": {},
     "output_type": "execute_result"
    }
   ],
   "source": [
    "list(df.review)[0]"
   ]
  },
  {
   "cell_type": "markdown",
   "metadata": {},
   "source": [
    "#### The following snippet is directly copied from lecture 0 with little revision"
   ]
  },
  {
   "cell_type": "code",
   "execution_count": 3,
   "metadata": {},
   "outputs": [
    {
     "name": "stdout",
     "output_type": "stream",
     "text": [
      "[nltk_data] Downloading package punkt to\n",
      "[nltk_data]     C:\\Users\\云舒\\AppData\\Roaming\\nltk_data...\n",
      "[nltk_data]   Unzipping tokenizers\\punkt.zip.\n",
      "[nltk_data] Downloading package stopwords to\n",
      "[nltk_data]     C:\\Users\\云舒\\AppData\\Roaming\\nltk_data...\n",
      "[nltk_data]   Unzipping corpora\\stopwords.zip.\n"
     ]
    }
   ],
   "source": [
    "import nltk\n",
    "nltk.download('punkt') # downloads you a model\n",
    "\n",
    "nltk.download('stopwords') # <--- this is new\n",
    "from nltk.corpus import stopwords\n",
    "stop = set(stopwords.words('english'))\n",
    "\n",
    "# print(stop)\n",
    "\n",
    "from nltk.tokenize import word_tokenize\n",
    "from nltk.tokenize import sent_tokenize\n",
    "from nltk.stem import PorterStemmer \n",
    "\n",
    "ps = PorterStemmer() \n",
    "\n",
    "# return a list of tokens\n",
    "def pre_processing_by_nltk(doc, stemming = True, need_sent = False):\n",
    "    # step 1: get sentences\n",
    "    sentences = sent_tokenize(doc)\n",
    "    # step 2: get tokens\n",
    "    tokens = []\n",
    "    for sent in sentences:\n",
    "        words = word_tokenize(sent)\n",
    "        # step 3 (optional): stemming\n",
    "        if stemming:\n",
    "            words = [ps.stem(word) for word in words]\n",
    "        if need_sent:\n",
    "            tokens.append(words)\n",
    "        else:\n",
    "            tokens += words\n",
    "    return [w.lower() for w in tokens if w not in stop]"
   ]
  },
  {
   "cell_type": "code",
   "execution_count": 4,
   "metadata": {},
   "outputs": [
    {
     "data": {
      "text/plain": [
       "0    [in, 1974, ,, teenag, martha, moxley, (, maggi...\n",
       "1    [ok, ..., ..., i, realli, like, kri, kristoffe...\n",
       "2    [***spoiler***, do, read, thi, ,, think, watch...\n",
       "3    [hi, peopl, seen, thi, wonder, movi, im, sure,...\n",
       "4    [i, recent, bought, dvd, ,, forget, much, i, h...\n",
       "5    [leav, braik, put, good, show, ., final, zorak...\n",
       "6    [nathan, detroit, (, frank, sinatra, ), manag,...\n",
       "7    [to, understand, ``, crash, cours, '', right, ...\n",
       "8    [i, 've, impress, chavez, 's, stanc, globalis,...\n",
       "9    [thi, movi, direct, renni, harlin, finnish, mi...\n",
       "Name: review, dtype: object"
      ]
     },
     "execution_count": 4,
     "metadata": {},
     "output_type": "execute_result"
    }
   ],
   "source": [
    "df.review[:10].apply(pre_processing_by_nltk)"
   ]
  },
  {
   "cell_type": "markdown",
   "metadata": {},
   "source": [
    "### Testing Zip'f Law"
   ]
  },
  {
   "cell_type": "code",
   "execution_count": 5,
   "metadata": {},
   "outputs": [],
   "source": [
    "from collections import defaultdict\n",
    "freq = defaultdict(int)\n",
    "import re\n",
    "\n",
    "corpus = ' '.join(list(df.review))\n",
    "\n",
    "new_corpus = re.sub(r'[^\\w\\s]', ' ', corpus)\n",
    "\n",
    "raw_tokens = new_corpus.lower().split()\n",
    "for token in raw_tokens:\n",
    "    freq[token] += 1"
   ]
  },
  {
   "cell_type": "code",
   "execution_count": 6,
   "metadata": {},
   "outputs": [
    {
     "name": "stdout",
     "output_type": "stream",
     "text": [
      "101944\n"
     ]
    }
   ],
   "source": [
    "print(len(freq))"
   ]
  },
  {
   "cell_type": "code",
   "execution_count": 7,
   "metadata": {},
   "outputs": [
    {
     "name": "stdout",
     "output_type": "stream",
     "text": [
      "[('the', 667993), ('and', 324441), ('a', 322970), ('of', 289410), ('to', 268124), ('is', 211082), ('br', 201951), ('it', 190857), ('in', 186781), ('i', 175633)]\n"
     ]
    }
   ],
   "source": [
    "order_tokens = sorted(list(freq.items()), key = lambda x : -x[1])\n",
    "print(order_tokens[:10])"
   ]
  },
  {
   "cell_type": "code",
   "execution_count": 8,
   "metadata": {},
   "outputs": [
    {
     "data": {
      "text/plain": [
       "[<matplotlib.lines.Line2D at 0x2a477c9d0>]"
      ]
     },
     "execution_count": 8,
     "metadata": {},
     "output_type": "execute_result"
    },
    {
     "data": {
      "image/png": "[encoded data removed]",
      "text/plain": [
       "<Figure size 432x288 with 1 Axes>"
      ]
     },
     "metadata": {
      "needs_background": "light"
     },
     "output_type": "display_data"
    }
   ],
   "source": [
    "import matplotlib.pyplot as plt\n",
    "\n",
    "y = [freq for token, freq in order_tokens]\n",
    "\n",
    "plt.loglog(y)\n",
    "# it is supposed to be log-linear"
   ]
  },
  {
   "cell_type": "markdown",
   "metadata": {},
   "source": [
    "### Code TF-IDF ourselves!"
   ]
  },
  {
   "cell_type": "code",
   "execution_count": 8,
   "metadata": {},
   "outputs": [
    {
     "name": "stderr",
     "output_type": "stream",
     "text": [
      "100%|██████████| 50000/50000 [07:56<00:00, 104.85it/s]\n"
     ]
    }
   ],
   "source": [
    "from tqdm import tqdm\n",
    "\n",
    "DF = defaultdict(float)\n",
    "for doc in tqdm(df.review):\n",
    "    tokens = pre_processing_by_nltk(doc)\n",
    "    for token in set(tokens):\n",
    "        DF[token] += 1"
   ]
  },
  {
   "cell_type": "code",
   "execution_count": 10,
   "metadata": {},
   "outputs": [
    {
     "name": "stdout",
     "output_type": "stream",
     "text": [
      "131316 7807\n"
     ]
    }
   ],
   "source": [
    "from math import log\n",
    "IDF, vocab = dict(), dict()\n",
    "for token in DF:\n",
    "    if DF[token] < 50:\n",
    "        # this becomes an unk\n",
    "        pass\n",
    "    else:\n",
    "        vocab[token] = len(vocab)\n",
    "        IDF[token] = log(1 + len(df.review) / DF[token])\n",
    "print(len(DF), len(vocab))"
   ]
  },
  {
   "cell_type": "code",
   "execution_count": 11,
   "metadata": {},
   "outputs": [],
   "source": [
    "IDF['<UNK>'] = 1\n",
    "vocab['<UNK>'] = len(vocab)"
   ]
  },
  {
   "cell_type": "code",
   "execution_count": 12,
   "metadata": {},
   "outputs": [
    {
     "name": "stdout",
     "output_type": "stream",
     "text": [
      "{'mother': 0, 'robert': 1, 'wealthi': 2, 'parallel': 3, 'eve': 4, 'support': 5, 'night': 6, 'backyard': 7, 'remain': 8, 'maggi': 9, ':': 10, 'year': 11, '<': 12, 'br': 13, 'simpson': 14, 'lack': 15, 'old': 16, 'influenc': 17, 'discov': 18, 'decid': 19, 'carrol': 20, 'true': 21, 'disclos': 22, 'halloween': 23, 'power': 24, 'martha': 25, 'steve': 26, 'net': 27, 'wa': 28, 'former': 29, 'writer': 30, '1974': 31, 'move': 32, 'howev': 33, 'area': 34, 'murder': 35, 'christoph': 36, 'crimin': 37, 'crime': 38, 'fifteen': 39, 'la': 40, 'mark': 41, 'whose': 42, 'day': 43, 'convict': 44, 'andrew': 45, 'detect': 46, 'retir': 47, 'write': 48, 'good': 49, 'girl': 50, '>': 51, 'kennedi': 52, 'purpos': 53, 'hous': 54, 'emot': 55, 'brazil': 56, 'welcom': 57, 'investig': 58, 'grace': 59, 'hideou': 60, 'dramat': 61, 'movi': 62, 'tv': 63, 'mitchel': 64, 'ha': 65, 'vote': 66, 'avail': 67, 'teenag': 68, '/': 69, 'local': 70, 'squirm': 71, 'disgrac': 72, 'twenti': 73, '(': 74, 'later': 75, 'money': 76, 'hi': 77, '.': 78, \"''\": 79, 'commit': 80, 'trial': 81, 'partner': 82, 'fallen': 83, 'case': 84, 'last': 85, ',': 86, 'show': 87, 'use': 88, ')': 89, 'stori': 90, 'rich': 91, '70': 92, \"'s\": 93, 'stephen': 94, 'screenplay': 95, 'abl': 96, 'charg': 97, 'book': 98, 'titl': 99, 'bell': 100, 'week': 101, 'cover': 102, 'famili': 103, 'garbag': 104, 'time': 105, 'includ': 106, 'back': 107, \"'ll\": 108, 'deliveri': 109, \"n't\": 110, 'want': 111, 'budget': 112, '1': 113, 'none': 114, 'room': 115, 'give': 116, 'line': 117, 'watch': 118, 'dvd': 119, 'hold': 120, '!': 121, 'seen': 122, 'either': 123, 'project': 124, 'go': 125, 'sake': 126, 'kudo': 127, 'effortlessli': 128, 'f': 129, 'motion': 130, 'soft': 131, 'love': 132, 'goofi': 133, 'everyon': 134, 'advic': 135, 'sceneri': 136, 'rent': 137, 'reason': 138, 'age': 139, 'thank': 140, 'probabl': 141, 'ok': 142, 'valuabl': 143, 'open': 144, 'hour': 145, 'low': 146, '...': 147, 'nonsens': 148, 'holi': 149, 'kri': 150, 'confus': 151, 'piec': 152, 'energi': 153, '2': 154, 'like': 155, 'someon': 156, 'would': 157, 'thi': 158, 'even': 159, 'easi': 160, 'pass': 161, 'tri': 162, 'must': 163, 'steal': 164, \"'ve\": 165, 'minut': 166, 'believ': 167, 'empti': 168, 'play': 169, 'style': 170, 'realli': 171, 'plot': 172, 'celluloid': 173, 'disappear': 174, 'sens': 175, 'usual': 176, 'wast': 177, 'scene': 178, 'bad': 179, 'kristofferson': 180, 'tell': 181, 'complet': 182, 'made': 183, 'cinematographi': 184, 'help': 185, 'invest': 186, 'grade': 187, 'spoken': 188, 'talent': 189, 'make': 190, 'care': 191, 'hope': 192, 'understand': 193, 'come': 194, 'buck': 195, 'actor': 196, 'anyway': 197, 'sing': 198, 'american': 199, 'instead': 200, 'jersey': 201, 'audienc': 202, 'thing': 203, 'typic': 204, 'ridicul': 205, 'chanc': 206, 'put': 207, '60': 208, 'way': 209, 'two': 210, 'shallow': 211, 'script': 212, 'air': 213, 'entertain': 214, 'ani': 215, 'much': 216, 'succeed': 217, 'funni': 218, 'con': 219, 'convinc': 220, 'flick.': 221, 'ray': 222, 'second': 223, 'charli': 224, 'difficulti': 225, 'desper': 226, 'depth': 227, 'better': 228, 'father': 229, 'astonish': 230, '*': 231, 'new': 232, 'worth': 233, 'due': 234, 'say': 235, 'good-look': 236, 'vh': 237, 'quit': 238, 'fear': 239, 'veri': 240, 'director': 241, 'attempt': 242, 'ugli': 243, 'happen': 244, 'jerri': 245, 'great': 246, 'piti': 247, 'read': 248, 'arous': 249, 'relax': 250, 'could': 251, 'think': 252, '3': 253, 'wonder': 254, 'movie.': 255, 'goodman': 256, 'stuff.': 257, 'front': 258, '``': 259, 'spoiler': 260, 'look': 261, 'see': 262, 'town': 263, 'dream': 264, 'although': 265, 'relationship': 266, 'rock': 267, 'john': 268, 'especi': 269, 'thumb': 270, 'sad': 271, 'differ': 272, 'ticket': 273, 'women': 274, 'first': 275, 'doe': 276, 'predict': 277, 'accid': 278, 'york': 279, 'whether': 280, '?': 281, 'repres': 282, '10': 283, 'one': 284, 'big': 285, 'boyfriend': 286, 'version': 287, 'tragic': 288, 'superfici': 289, 'angel': 290, 'gone': 291, 'produc': 292, 'act': 293, 'success': 294, 'small': 295, 'onli': 296, 'coyot': 297, 'young': 298, 'piper': 299, 'fail': 300, 'becom': 301, 'danc': 302, 'peopl': 303, 'oh': 304, 'end': 305, 'part': 306, 'im': 307, 'onc': 308, 'sure': 309, 'along': 310, 'mirror': 311, 'though': 312, 'song': 313, 'music': 314, 'hit': 315, 'despit': 316, 'chang': 317, 'choru': 318, 'attenborough': 319, 'stage': 320, 'forget': 321, 'shatter': 322, 'get': 323, 'spontan': 324, 'rush': 325, 'character.': 326, 'number': 327, 'still': 328, 'film': 329, 'promin': 330, 'entir': 331, 'squeez': 332, 'sail': 333, 'joy': 334, 'recent': 335, 'mean': 336, 'given': 337, 'bit': 338, 'hate': 339, 'overal': 340, 'enjoy': 341, 'becaus': 342, 'bought': 343, 'everi': 344, 'popular': 345, 'adult': 346, 'live': 347, 'classic': 348, 'histori': 349, 'ton': 350, 'outsid': 351, 'swim': 352, 'hey': 353, 'ghost': 354, 'whi': 355, 'coast': 356, 'start': 357, 'leav': 358, 'lot': 359, 'may': 360, '2000': 361, 'came': 362, 'ever': 363, 'album': 364, 'final': 365, 'whole': 366, \"'\": 367, 'need': 368, 'bet': 369, 'walk': 370, 'sinatra': 371, 'exud': 372, 'perfectli': 373, 'ski': 374, 'simmon': 375, 'vocal': 376, 'sequenc': 377, 'uptight': 378, 'shell': 379, 'sarah': 380, 'themselv': 381, 'audrey': 382, '1000': 383, 'halfway': 384, 'remov': 385, 'bing': 386, 'contend': 387, 'contrast': 388, 'dub': 389, 'least': 390, 'fantasi': 391, 'citi': 392, 'mayb': 393, 'seem': 394, 'movement': 395, 'suggest': 396, 'game': 397, 'art': 398, 'sound': 399, 'establish': 400, 'crowd': 401, 'dazzl': 402, 'receiv': 403, 'yet': 404, 'underground': 405, 'alcohol': 406, 'idealist': 407, 'review': 408, 'respond': 409, 'might': 410, 'hepburn': 411, 'blend': 412, 'voic': 413, 'role': 414, 'charisma': 415, 'doll': 416, 'well': 417, 'detroit': 418, 'manag': 419, 'float': 420, 'ca': 421, 'brando': 422, 'unbeliev': 423, 'sam': 424, 'pair': 425, 'marlon': 426, 'secur': 427, 'word': 428, 'crap': 429, 'gambl': 430, 'colour': 431, 'rhythm': 432, 'jean': 433, '$': 434, 'locat': 435, 'begin': 436, 'away': 437, 'frank': 438, 'cue': 439, 'follow': 440, 'matter': 441, 'nathan': 442, 'carri': 443, \"'d\": 444, 'rendit': 445, 'brought': 446, 'world': 447, 'loos': 448, 'masterson': 449, 'stop': 450, 'let': 451, 'brown': 452, 'pedestrian': 453, 'confid': 454, 'odd': 455, 'realiti': 456, 'busi': 457, 'dure': 458, 'woo': 459, '80': 460, '1955': 461, 'ador': 462, 'penchant': 463, 'moon': 464, 'fare': 465, 'simplist': 466, 'al': 467, 'point': 468, 'crash': 469, 'all-star': 470, 'cours': 471, 'chief': 472, 'cross': 473, 'bold': 474, 'matur': 475, 'cast': 476, 'view': 477, 'member': 478, 'sometim': 479, 'step': 480, 'offer': 481, 'bring': 482, 'et': 483, 'context': 484, 'boss': 485, 'certain': 486, 'sitcom': 487, 'figur': 488, 'featur': 489, 'togeth': 490, 'made-for-tv': 491, 'heroism': 492, 'light': 493, 'hail': 494, 'tie': 495, 'right': 496, 'drama': 497, 'corrupt': 498, 'elit': 499, 'intern': 500, 'saw': 501, 'save': 502, 'achiev': 503, 'oil': 504, 'compani': 505, 'impress': 506, 'realiz': 507, 'hand': 508, 'rest': 509, 'govern': 510, 'take': 511, 'presid': 512, 'freedom': 513, 'commend': 514, 'democrat': 515, 'justic': 516, 'also': 517, 'western': 518, 'regim': 519, 'bush': 520, 'countri': 521, 'festiv': 522, 'elect': 523, 'anyon': 524, 'documentari': 525, 'brutal': 526, 'lesson': 527, 'return': 528, 'stanc': 529, 'micheal': 530, 'man': 531, 'video': 532, 'walker': 533, 'star': 534, 'ice': 535, 'spectacular': 536, 'guy': 537, 'place': 538, 'cat': 539, 'weather': 540, 'extrem': 541, 'ruthless': 542, 'mous': 543, 'track': 544, 'special': 545, 'edit': 546, 'cold': 547, 'extra': 548, 'snow': 549, 'straight': 550, 'snowi': 551, 'mountain': 552, 'medicin': 553, 'turner': 554, 'action': 555, 'rememb': 556, 'know': 557, 'miracl': 558, 'soon': 559, 'collector': 560, 'direct': 561, 'excit': 562, 'strong': 563, 'terrorist': 564, 'beauti': 565, 'portrait': 566, 'stallon': 567, 'heard': 568, 'went': 569, 'quickli': 570, 'never': 571, 'hill': 572, 'heck': 573, 'bear': 574, 'idea': 575, 'hidden': 576, 'work': 577, 'best': 578, 'physic': 579, 'cup': 580, 'season': 581, 'greatest': 582, 'background': 583, 'tea': 584, 'virtual': 585, 'seri': 586, 'run': 587, 'volum': 588, 'regard': 589, 'longest': 590, 'footag': 591, 'insert': 592, 'set': 593, 'result': 594, 'sinc': 595, 'starship': 596, 'fan': 597, 'deal': 598, 'stride': 599, 'trek': 600, 'larg': 601, 'voyag': 602, 'product': 603, ';': 604, 'high': 605, 'third': 606, 'qualiti': 607, 'serv': 608, 'notabl': 609, 'sheer': 610, 'note': 611, 'concentr': 612, 'par': 613, 'digit': 614, 'shot': 615, 'frontier': 616, 'modern': 617, 'round': 618, 'felt': 619, '2007': 620, 'dark': 621, 'lighten': 622, 'laurenc': 623, 'feel': 624, 'jude': 625, 'miss': 626, 'blue': 627, 'ago': 628, 'somebodi': 629, 'weakest': 630, 'alway': 631, 'perform': 632, 'anoth': 633, 'mid': 634, 'kenneth': 635, 'adapt': 636, 'lover': 637, 'past': 638, 'confess': 639, 'dislik': 640, 'mysteri': 641, 'clean': 642, 'design': 643, 'origin': 644, 'aw': 645, 'interest': 646, 'photographi': 647, '1972': 648, 'friendli': 649, 'wife': 650, 'marvel': 651, 'asleep': 652, 'masterpiec': 653, 'cain': 654, 'olivi': 655, 'green': 656, 'got': 657, 'michael': 658, 'remak': 659, 'fantast': 660, 'law': 661, 'eyes.': 662, 'critic': 663, 'husband': 664, 'uncomfort': 665, 'twice': 666, 'stylish': 667, 'trilog': 668, 'roll': 669, 'wrong': 670, 'skip': 671, 'term': 672, 'lewi': 673, 'ball': 674, 'us': 675, 'fight': 676, 'allan': 677, 'whatsoev': 678, 'school': 679, 'tissu': 680, 'strangest': 681, 'theme': 682, 'effect': 683, 'standard': 684, 'three': 685, 'wilson': 686, \"'re\": 687, 'william': 688, 'tobi': 689, 'fine': 690, 'boy': 691, 'amateur': 692, 'keep': 693, 'throw': 694, 'french': 695, 'noth': 696, 'faith': 697, 'cook': 698, 'edgar': 699, 'time.': 700, 'snack': 701, 'depend': 702, 'mess': 703, 'menu': 704, \"'m\": 705, 'fellini': 706, 'els': 707, 'stamp': 708, 'dinner': 709, 'spirit': 710, 'actual': 711, 'segment': 712, 'poe': 713, 'job': 714, 'appar': 715, 'unlik': 716, 'contain': 717, 'strang': 718, 'west': 719, 'real': 720, 'anyth': 721, 'resembl': 722, 'startl': 723, 'vision': 724, 'sorri': 725, 'choreograph': 726, 'nightmar': 727, 'imag': 728, 'unsettl': 729, 'singl': 730, '7': 731, 'excruciatingli': 732, 'sleep': 733, 'shall': 734, 'impli': 735, 'rate': 736, 'street': 737, '8': 738, 'definit': 739, 'avoid': 740, 'valu': 741, 'bore': 742, 'actress': 743, 'far': 744, 'girlfriend': 745, 'this.': 746, 'sit': 747, 'lead': 748, 'strength': 749, 'obtain': 750, 'posit': 751, 'simpli': 752, 'hardli': 753, 'imagin': 754, 'buddi': 755, 'aid': 756, 'drink': 757, 'femal': 758, '10.': 759, 'banal': 760, 'absurd': 761, 'overdon': 762, 'dead': 763, 'dismal': 764, 'drive-in': 765, 'scale': 766, 'among': 767, 'worthi': 768, 'five': 769, 'event': 770, 'dimension': 771, 'turn': 772, 'apart': 773, 'gener': 774, 'impact': 775, 'hollywood': 776, 'sever': 777, 'life': 778, 'crown': 779, 'stuck': 780, 'tempt': 781, 'gun': 782, 'question': 783, 'everybodi': 784, 'crank': 785, 'stupid': 786, 'cinema': 787, 'philosoph': 788, 'truli': 789, 'glad': 790, 'dopey': 791, 'worri': 792, 'die': 793, 'statu': 794, 'deepli': 795, 'premis': 796, 'battl': 797, 'pauli': 798, 'almost': 799, 'mtv': 800, 'beach': 801, 'skateboard': 802, 'surfer': 803, '........': 804, 'tattoo': 805, '100': 806, 'stuff': 807, 'late': 808, 'muscl': 809, 'top': 810, 'brother': 811, 'venic': 812, 'dude': 813, 'dialogu': 814, 'befor': 815, 'target': 816, 'except': 817, 'flick': 818, 'remind': 819, 'nice': 820, 'name': 821, 'bar': 822, 'border': 823, 'drunk': 824, \"'the\": 825, 'charact': 826, 'rabbit': 827, 'introduc': 828, 'flair': 829, 'match': 830, 'fall': 831, 'tip': 832, 'film.': 833, 'univers': 834, 'damm': 835, 'patrol': 836, 'intens': 837, 'flashback': 838, 'men': 839, 'mani': 840, 'mouth': 841, 'ss': 842, 'hard': 843, 'soldier': 844, 'stunt': 845, 'p': 846, 'averag': 847, 'hat': 848, 'van': 849, 'split': 850, 'shame': 851, 'shepherd': 852, 'cheap': 853, 'mad': 854, 'famou': 855, 'mask': 856, 'normal': 857, 'landscap': 858, 'tortur': 859, 'wherein': 860, 'unexpect': 861, 'conceal': 862, 'creepi': 863, 'solut': 864, 'practic': 865, 'children.': 866, 'coupl': 867, 'ad': 868, 'fascin': 869, 'gore': 870, 'form': 871, 'brilliant': 872, 'lightn': 873, 'twist': 874, 'provid': 875, 'difficult': 876, 'kill': 877, 'tone': 878, 'person': 879, 'black': 880, 'widescreen': 881, 'picturesqu': 882, 'raini': 883, 'delus': 884, 'poor': 885, 'puzzl': 886, 'horror': 887, 'plenti': 888, 'midway': 889, 'killer': 890, 'wind': 891, 'littl': 892, 'low-key': 893, 'obviou': 894, 'vulner': 895, 'visual': 896, 'storylin': 897, 'voodoo': 898, 'compet': 899, 'composit': 900, 'dismiss': 901, 'legitim': 902, 'argento': 903, 'giallo': 904, 'behind': 905, 'viewer': 906, 'slasher': 907, 'jazz': 908, 'thunder': 909, 'assum': 910, 'rural': 911, 'near': 912, 'render': 913, 'whistl': 914, 'enhanc': 915, 'red': 916, 'alone.': 917, 'thriller': 918, 'fulci': 919, 'nevertheless': 920, 'enough': 921, 'agenda': 922, 'clue': 923, 'suspens': 924, 'themat': 925, 'itali': 926, 'insight': 927, 'rang': 928, 'italian': 929, 'dario': 930, 'suspect': 931, 'class': 932, '1920': 933, 'surfac': 934, 'prove': 935, 'america': 936, 'dr.': 937, 'henri': 938, 'spectacl': 939, 'flop': 940, 'theodor': 941, 'steril': 942, 'costum': 943, 'endur': 944, 'chew': 945, 'photograph': 946, 'woman': 947, 'jan': 948, 'camera-work': 949, 'comedi': 950, 'melodramat': 951, 'tale': 952, 'static': 953, 'overcom': 954, 'deserv': 955, 'ran': 956, 'thought': 957, 'ram': 958, 'nobodi': 959, 'justifi': 960, 'slept': 961, 'suck': 962, 'unfortun': 963, 'spoil': 964, 'theater': 965, 'middl': 966, 'foolish': 967, 'crew': 968, 'screw': 969, 'christian': 970, 'measur': 971, 'tire': 972, 'bigot': 973, 'heaven': 974, 'god': 975, 'white': 976, 'perpetu': 977, 'mostli': 978, 'level': 979, 'misus': 980, 'suffer': 981, 'children': 982, 'hell': 983, 'earth': 984, 'judg': 985, 'armageddon': 986, 'credit': 987, 'creator': 988, 'find': 989, 'chronolog': 990, 'atroc': 991, 'offens': 992, 'bibl': 993, 'involv': 994, 'correct': 995, 'church': 996, 'order': 997, 'gave': 998, 'factual': 999, 'anybodi': 1000, 'associ': 1001, 'nbc': 1002, 'ok.': 1003, '0': 1004, 'rip-off': 1005, 'gang': 1006, 'louis': 1007, 'annoy': 1008, 'zombi': 1009, 'scienc': 1010, 'doubl': 1011, 'over-act': 1012, 'paycheck': 1013, 'wild': 1014, '3000': 1015, 'compar': 1016, 'check': 1017, 'embarrass': 1018, 'appear': 1019, 'plain': 1020, 'adam': 1021, 'stun': 1022, 'credibl': 1023, 'death': 1024, 'began': 1025, 'societi': 1026, 'exagger': 1027, 'prison': 1028, 'punish': 1029, 'camp': 1030, 'bay': 1031, 'deceit': 1032, 'somewhat': 1033, 'choos': 1034, 'relev': 1035, 'less': 1036, 'unit': 1037, 'combat': 1038, 'aspect': 1039, 'element': 1040, '30': 1041, 'cia': 1042, 'unnecessari': 1043, 'sadden': 1044, 'incid': 1045, 'iraq': 1046, 'full': 1047, 'moder': 1048, 'similar': 1049, 'accur': 1050, 'park': 1051, 'state': 1052, 'date': 1053, '1979': 1054, 'slip': 1055, 'usa': 1056, 'grew': 1057, 'polar': 1058, 'easili': 1059, 'present': 1060, 'situat': 1061, 'secret': 1062, 'certainli': 1063, 'rumor': 1064, 'hippi': 1065, 'close': 1066, 'path': 1067, 'ye': 1068, 'specif': 1069, 'enemi': 1070, 'era': 1071, 'import': 1072, 'terror': 1073, 'raw': 1074, 'sentiment': 1075, 'eye': 1076, 'side': 1077, 'respect': 1078, 'polit': 1079, 'clear': 1080, 'someth': 1081, 'hear': 1082, 'earli': 1083, 'perfect': 1084, 'spectrum': 1085, 'daili': 1086, 'war': 1087, 'orient': 1088, 'metal': 1089, 'hunter': 1090, 'tasti': 1091, 'addit': 1092, 'atmospher': 1093, 'sloppi': 1094, 'violenc': 1095, 'remark': 1096, 'stick': 1097, 'heavi': 1098, 'vampir': 1099, 'ralph': 1100, 'nuditi': 1101, 'fire': 1102, 'imit': 1103, 'prefer': 1104, '-': 1105, 'blood': 1106, 'add': 1107, 'mediocr': 1108, 'spice': 1109, 'ladi': 1110, 'around': 1111, 'instanc': 1112, 'shock': 1113, 'familiar': 1114, 'captur': 1115, 'comic': 1116, 'anim': 1117, 'soundtrack': 1118, 'object': 1119, 'sexi': 1120, 'trust': 1121, 'draw': 1122, 'chick': 1123, 'terribl': 1124, 'wizard': 1125, 'rare': 1126, 'bill': 1127, '1985': 1128, 'pretend': 1129, '4': 1130, '&': 1131, 'logic': 1132, 'hilari': 1133, 'crazi': 1134, 'opinion': 1135, 'aforement': 1136, 'suppos': 1137, 'lightli': 1138, 'appreci': 1139, 'laugh': 1140, 'window': 1141, 'sharp': 1142, 'lyric': 1143, 'speak': 1144, 'joe': 1145, 'announc': 1146, 'blame': 1147, 'david': 1148, 'candi': 1149, 'eugen': 1150, 'slow': 1151, 'nearli': 1152, 'found': 1153, 'stoog': 1154, 'funniest': 1155, 'shown': 1156, 'recommend': 1157, 'routin': 1158, 'uneven': 1159, 'releas': 1160, 'upon': 1161, 'zero': 1162, 'incred': 1163, 'incomprehens': 1164, 'dumb': 1165, 'thrown': 1166, 'print': 1167, 'absolut': 1168, 'lose': 1169, 'funnier': 1170, 'asid': 1171, 'basic': 1172, 'razor': 1173, 'listen': 1174, 'yeah': 1175, 'done': 1176, 'nerv': 1177, 'pant': 1178, 'devic': 1179, 'transpir': 1180, 'levi': 1181, 'divers': 1182, 'worst': 1183, 'to.': 1184, 'game.': 1185, 'mind': 1186, 'one.': 1187, 'movies.': 1188, 'wo': 1189, 'jurass': 1190, 'base': 1191, 'scare': 1192, 'super': 1193, 'favorit': 1194, 'control': 1195, 'kid': 1196, 'classic.': 1197, 'out.': 1198, 'sick': 1199, 'wish': 1200, 'shooter': 1201, 'cost': 1202, 'excel': 1203, 'slower': 1204, '5': 1205, 'tension': 1206, 'throughout': 1207, 'lost': 1208, 'liter': 1209, 'kick': 1210, 'plan': 1211, 'slowli': 1212, 'pace': 1213, 'bang': 1214, 'answer': 1215, 'episod': 1216, 'advis': 1217, 'flow': 1218, '1960': 1219, 'meyer': 1220, 'station': 1221, 'sought': 1222, 'trashi': 1223, 'uncut': 1224, 'idol': 1225, 'water': 1226, 'sunday': 1227, 'afternoon': 1228, 'gordon': 1229, 'cool': 1230, 'highli': 1231, '1970': 1232, 'russ': 1233, '1969': 1234, 'cult': 1235, \"'60\": 1236, 'surpris': 1237, 'scari': 1238, 'sleazi': 1239, 't.v': 1240, 'feast': 1241, 'acquir': 1242, 'fact': 1243, 'surprisingli': 1244, 'warn': 1245, 'ruth': 1246, 'nazi': 1247, 'claw': 1248, 'fbi': 1249, 'bright': 1250, 'agent': 1251, 'grandpar': 1252, 'teach': 1253, '6': 1254, 'rip': 1255, 'lifetim': 1256, 'mrs.': 1257, '22': 1258, 'spit': 1259, 'crush': 1260, 'brat': 1261, 'author': 1262, 'parent': 1263, 'trash': 1264, 'innoc': 1265, 'today': 1266, 'sharon': 1267, 'treatment': 1268, 'clearli': 1269, 'threw': 1270, 'filth': 1271, 'hair': 1272, 'comfort': 1273, 'worthless': 1274, 'consid': 1275, 'diari': 1276, 'call': 1277, 'folk': 1278, 'cut': 1279, 'ann': 1280, 'is.': 1281, 'ask': 1282, 'daughter': 1283, 'servic': 1284, 'depress': 1285, 'refer': 1286, 'butt': 1287, 'aliv': 1288, 'short': 1289, 'caught': 1290, 'discrimin': 1291, 'free': 1292, 'applaud': 1293, 'chines': 1294, 'despic': 1295, 'housekeep': 1296, 'spot': 1297, 'beat': 1298, 'talk': 1299, 'jew': 1300, 'dirti': 1301, 'finish': 1302, '12': 1303, 'sob': 1304, 'award': 1305, 'hitler': 1306, 'across': 1307, 'kept': 1308, 'dose': 1309, 'mom': 1310, 'whatev': 1311, 'dad': 1312, 'patti': 1313, 'reev': 1314, 'upset': 1315, 'favor': 1316, 'horribl': 1317, 'thiev': 1318, 'commun': 1319, 'teacher': 1320, 'kubrick': 1321, 'danni': 1322, 'novel': 1323, 'obsess': 1324, 'pictur': 1325, 'massiv': 1326, 'explan': 1327, 'comment': 1328, 'fanci': 1329, 'barri': 1330, 'reli': 1331, 'corridor': 1332, 'previou': 1333, 'humbl': 1334, 'isol': 1335, 'huge': 1336, 'overlook': 1337, 'rather': 1338, 'expect': 1339, 'corner': 1340, 'decor': 1341, 'johnson': 1342, 'rotten': 1343, 'filmmak': 1344, 'suicid': 1345, 'psycholog': 1346, 'everyth': 1347, 'month': 1348, 'shine': 1349, 'six': 1350, 'stanley': 1351, 'flawless': 1352, 'shorter': 1353, 'technic': 1354, 'harsh': 1355, 'frantic': 1356, 'disappoint': 1357, 'exclus': 1358, 'smooth': 1359, 'haunt': 1360, 'hotel': 1361, 'murki': 1362, 'english': 1363, 'escap': 1364, 'insan': 1365, 'space': 1366, 'grip': 1367, 'son': 1368, 'basement': 1369, 'dispos': 1370, 'bug': 1371, 'duval': 1372, 'lit': 1373, 'nelson': 1374, 'stuart': 1375, 'lloyd': 1376, 'goe': 1377, 'wendi': 1378, 'maze': 1379, 'expans': 1380, 'nicholson': 1381, 'toilet': 1382, 'king': 1383, 'clichéd': 1384, 'axe': 1385, 'respons': 1386, 'trap': 1387, 'drive': 1388, 'co-written': 1389, 'explos': 1390, 'dian': 1391, 'long': 1392, 'distinct': 1393, 'neg': 1394, 'length': 1395, 'shelley': 1396, 'anytim': 1397, 'interview': 1398, 'psychic': 1399, 'camera': 1400, 'without': 1401, 'caretak': 1402, 'exist': 1403, 'absorb': 1404, 'type': 1405, 'abil': 1406, 'european': 1407, 'winter': 1408, 'total': 1409, 'jack': 1410, 'cheesi': 1411, 'pilot': 1412, 'complain': 1413, 'warrant': 1414, 'loss': 1415, 'bad.': 1416, 'alien': 1417, 'happi': 1418, 'friend': 1419, 'disney': 1420, 'speed': 1421, 'decent': 1422, 'learn': 1423, 'central': 1424, 'alreadi': 1425, 'issu': 1426, 'destroy': 1427, 'vow': 1428, 'dedic': 1429, 'arrest': 1430, 'besid': 1431, 'steer': 1432, 'stock': 1433, 'identifi': 1434, 'japanes': 1435, 'frankli': 1436, 'develop': 1437, 'quirk': 1438, 'rage': 1439, 'romanc': 1440, 'allud': 1441, 'resign': 1442, 'prepar': 1443, 'bottl': 1444, 'depart': 1445, 'demonstr': 1446, 'restrain': 1447, '50': 1448, 'decis': 1449, 'rout': 1450, 'pour': 1451, 'seek': 1452, 'signific': 1453, 'sink': 1454, 'pain': 1455, 'bag': 1456, 'troubl': 1457, 'accustom': 1458, 'fend': 1459, 'enlighten': 1460, 'payment': 1461, 'affect': 1462, 'exchang': 1463, 'attract': 1464, 'fate': 1465, 'immers': 1466, 'deliv': 1467, 'flight': 1468, 'affection': 1469, 'hopeless': 1470, 'quintessenti': 1471, 'guess': 1472, 'collect': 1473, 'occasion': 1474, 'glanc': 1475, 'spend': 1476, 'hall': 1477, 'club': 1478, 'milk': 1479, 'away.': 1480, 'facet': 1481, 'custom': 1482, 'consumm': 1483, 'pink': 1484, 'sweet': 1485, 'glimps': 1486, 'moment': 1487, 'pen': 1488, 'acknowledg': 1489, 'lifestyl': 1490, 'san': 1491, 'contact': 1492, 'romant': 1493, 'suppress': 1494, 'beaten': 1495, 'regret': 1496, 'earlier': 1497, 'notion': 1498, 'health': 1499, 'told': 1500, 'kind': 1501, 'wake': 1502, 'alon': 1503, 'stay': 1504, 'morn': 1505, 'bittersweet': 1506, 'peculiar': 1507, 'amount': 1508, 'left': 1509, 'behaviour': 1510, 'sort': 1511, 'damag': 1512, 'screen': 1513, 'marriag': 1514, 'hamper': 1515, 'affair': 1516, 'mood': 1517, 'narrat': 1518, 'danger': 1519, 'poet': 1520, 'neglect': 1521, 'grind': 1522, 'share': 1523, 'stair': 1524, 'reminisc': 1525, 'dimens': 1526, 'appeal': 1527, 'social': 1528, 'conclus': 1529, 'butcher': 1530, 'insipid': 1531, 'shoddi': 1532, 'pet': 1533, 'farcic': 1534, 'stagger': 1535, 'forc': 1536, 'celebr': 1537, 'relief': 1538, 'accent': 1539, 'unconvinc': 1540, 'showcas': 1541, 'jar': 1542, 'kline': 1543, 'shave': 1544, 'highlight': 1545, 'seriou': 1546, 'rebecca': 1547, 'join': 1548, 'cant': 1549, 'wait': 1550, 'soror': 1551, 'haircut': 1552, 'hook': 1553, 'casey': 1554, 'rusti': 1555, 'greek': 1556, 'head': 1557, 'team': 1558, 'pretti': 1559, 'hot': 1560, 'harvey': 1561, 'lie': 1562, 'lives.': 1563, 'plane': 1564, 'robin': 1565, 'ladder': 1566, 'introduct': 1567, 'main': 1568, 'idiot': 1569, 'charm': 1570, 'abc': 1571, 'insid': 1572, 'pond': 1573, 'player': 1574, 'shirley': 1575, 'truth': 1576, 'climb': 1577, 'reach': 1578, 'stardom': 1579, 'glu': 1580, 'marshal': 1581, 'network': 1582, 'sequel': 1583, 'stupidli': 1584, 'gothic': 1585, 'assist': 1586, 'uncanni': 1587, 'thief': 1588, 'dialog': 1589, 'immedi': 1590, 'resurrect': 1591, 'provok': 1592, 'fright': 1593, 'petti': 1594, 'hide': 1595, 'doctor': 1596, 'shadow': 1597, 'patient': 1598, 'stake': 1599, 'emphasi': 1600, 'sublim': 1601, 'sidekick': 1602, 'heart': 1603, 'eeri': 1604, 'spike': 1605, 'amaz': 1606, 'desert': 1607, 'worthwhil': 1608, 'emin': 1609, 'clinic': 1610, 'examin': 1611, 'memor': 1612, 'risk': 1613, 'castl': 1614, 'stalk': 1615, 'rescu': 1616, 'elderli': 1617, 'de': 1618, 'virgin': 1619, 'chase': 1620, 'museum': 1621, 'privat': 1622, 'wooden': 1623, 'soul': 1624, 'coffin': 1625, 'natur': 1626, 'omin': 1627, 'count': 1628, 'hire': 1629, 'corps': 1630, 'limit': 1631, 'maniac': 1632, 'clumsi': 1633, 'fairli': 1634, 'vault': 1635, 'screenwrit': 1636, 'wit': 1637, 'upper': 1638, 'maker': 1639, 'demis': 1640, 'faster': 1641, 'dim': 1642, 'meet': 1643, 'blow': 1644, 'captain': 1645, 'fun': 1646, 'okay': 1647, 'so-cal': 1648, 'build': 1649, 'polic': 1650, 'skeleton': 1651, 'offic': 1652, 'corni': 1653, 'fat': 1654, 'suit': 1655, 'ruin': 1656, 'took': 1657, 'must-se': 1658, 'cb': 1659, 'catch': 1660, 'strongli': 1661, 'cgi': 1662, 'preachi': 1663, 'sore': 1664, 'thrill': 1665, 'minor': 1666, 'convolut': 1667, 'chalk': 1668, 'tackl': 1669, 'failur': 1670, 'human': 1671, 'plod': 1672, 'mention': 1673, 'creation': 1674, 'with.': 1675, 'grow': 1676, 'promis': 1677, 'proverbi': 1678, 'adequ': 1679, 'mildli': 1680, 'silli': 1681, 'wisecrack': 1682, 'entri': 1683, 'watchabl': 1684, 'tim': 1685, 'mere': 1686, 'sky': 1687, 'perhap': 1688, 'creat': 1689, 'profess': 1690, 'egg': 1691, 'peril': 1692, 'bunch': 1693, 'cell': 1694, 'travel': 1695, 'cab': 1696, 'scar': 1697, 'plu': 1698, 'face': 1699, '9/11': 1700, 'needlessli': 1701, 'offici': 1702, 'allow': 1703, 'driver': 1704, 'possibl': 1705, 'defi': 1706, 'stephani': 1707, 'kapoor': 1708, 'retard': 1709, 'comedy.': 1710, 'eventu': 1711, 'brain': 1712, 'bridg': 1713, 'brit': 1714, 'graviti': 1715, 'audience.': 1716, 'wall': 1717, 'mental': 1718, 'post': 1719, 'india': 1720, 'digest': 1721, 'wee': 1722, 'pure': 1723, 'jade': 1724, 'wound': 1725, 'pull': 1726, 'authent': 1727, 'boob': 1728, 'anymor': 1729, 'seal': 1730, 'nose': 1731, '1930': 1732, 'amus': 1733, 'sensat': 1734, 'mindless': 1735, 'refresh': 1736, 'close-up': 1737, 'tast': 1738, 'decad': 1739, 'harri': 1740, 'island': 1741, 'fresh': 1742, 'threat': 1743, 'tedium': 1744, 'pretens': 1745, 'lip': 1746, 'contemporari': 1747, 'scottish': 1748, 'nation': 1749, 'often': 1750, 'sandi': 1751, 'taken': 1752, 'sex': 1753, 'galor': 1754, 'display': 1755, 'britain': 1756, 'magnific': 1757, 'fals': 1758, 'briefli': 1759, 'next': 1760, 'refug': 1761, 'substanti': 1762, 'pointless': 1763, 'intrud': 1764, 'exampl': 1765, 'german': 1766, 'macdonald': 1767, 'execut': 1768, 'allur': 1769, 'hero': 1770, 'refus': 1771, 'properli': 1772, 'drug': 1773, 'heart-warm': 1774, 'delight': 1775, 'public': 1776, 'repuls': 1777, 'weapon': 1778, 'scientist': 1779, 'humour': 1780, 'skill': 1781, 'honest': 1782, 'rocket': 1783, 'market': 1784, 'grunt': 1785, 'starlet': 1786, 'remot': 1787, 'liu': 1788, 'toward': 1789, 'it.': 1790, 'foreign': 1791, 'sent': 1792, 'packag': 1793, 'male': 1794, 'studi': 1795, 'sexual': 1796, 'monster': 1797, 'center': 1798, 'portray': 1799, 'serial': 1800, 'oddli': 1801, 'belief': 1802, 'sympathet': 1803, 'attack': 1804, 'describ': 1805, 'rodney': 1806, 'victim': 1807, 'jeremi': 1808, 'thin': 1809, 'surviv': 1810, 'jeffrey': 1811, 'disjoint': 1812, 'futur': 1813, 'railroad': 1814, 'train': 1815, 'obvious': 1816, 'noon': 1817, 'columbia': 1818, 'iii': 1819, 'fit': 1820, 'sincer': 1821, 'arti': 1822, 'bargain': 1823, 'caus': 1824, 'balanc': 1825, 'greatli': 1826, 'born': 1827, 'sourc': 1828, 'independ': 1829, 'sailor': 1830, 'strike': 1831, 'major': 1832, 'richard': 1833, 'transport': 1834, 'insur': 1835, 'releg': 1836, '26': 1837, 'russel': 1838, 'score': 1839, 'bennett': 1840, 'suppli': 1841, 'outstand': 1842, 'forward': 1843, 'record': 1844, 'imdb': 1845, 'wwii': 1846, 'inch': 1847, 'contribut': 1848, 'victor': 1849, 'potenti': 1850, 'novelti': 1851, 'victori': 1852, 'process': 1853, 'sixti': 1854, 'repeat': 1855, 'depict': 1856, 'materi': 1857, 'alli': 1858, '16': 1859, 'ideal': 1860, 'individu': 1861, '1948': 1862, 'bin': 1863, 'determin': 1864, '13': 1865, 'ocean': 1866, 'trivia': 1867, 'ruler': 1868, 'somewher': 1869, 'sea': 1870, 'surpass': 1871, 'abstract': 1872, 'years.': 1873, 'badli': 1874, 'nowher': 1875, 'puke': 1876, 'weird': 1877, 'beforehand': 1878, 'gay': 1879, 'b': 1880, 'boxer': 1881, 'me.': 1882, 'eat': 1883, 'airplan': 1884, 'pleas': 1885, 'meant': 1886, 'strictli': 1887, 'forgotten': 1888, '20': 1889, 'complic': 1890, 'bless': 1891, 'weight': 1892, 'exercis': 1893, 'somehow': 1894, '1983': 1895, 'purchas': 1896, 'cabl': 1897, 'channel': 1898, 'sweat': 1899, 'pray': 1900, 'racist': 1901, 'racism': 1902, 'implaus': 1903, 'romeo': 1904, 'lame': 1905, 'pueril': 1906, 'simpl': 1907, 'genr': 1908, 'juliet': 1909, 'mario': 1910, 'said': 1911, 'hype': 1912, 'miser': 1913, 'uplift': 1914, 'goer': 1915, 'experi': 1916, 'grin': 1917, 'pleasant': 1918, 'ventur': 1919, 'his/her': 1920, 'peac': 1921, 'grate': 1922, 'blake': 1923, 'summer': 1924, 'excess': 1925, 'planet': 1926, '....': 1927, 'replay': 1928, '.....': 1929, 'vain': 1930, 'uk': 1931, 'restor': 1932, 'copi': 1933, 'whilst': 1934, 'wrote': 1935, 'reserv': 1936, 'wisdom': 1937, 'fellow': 1938, 'mr': 1939, 'lone': 1940, 'ala': 1941, 'inhabit': 1942, 'knowledg': 1943, 'citizen': 1944, 'loan': 1945, 'road': 1946, 'melodi': 1947, 'juli': 1948, 'wors': 1949, 'pleasur': 1950, 'weari': 1951, 'etern': 1952, 'search': 1953, 'silent': 1954, 'not.': 1955, 'continu': 1956, 'bottom': 1957, 'ms.': 1958, 'well-mad': 1959, 'explor': 1960, 'outrag': 1961, 'beyond': 1962, 'rule': 1963, 'domin': 1964, 'sympathi': 1965, 'privileg': 1966, 'werner': 1967, 'problem': 1968, 'frequent': 1969, 'illus': 1970, 'choic': 1971, 'countrysid': 1972, 'glamor': 1973, 'amazingli': 1974, 'enorm': 1975, 'selfish': 1976, 'brook': 1977, 'seed': 1978, 'particularli': 1979, 'shi': 1980, 'restless': 1981, 'erupt': 1982, 'staircas': 1983, 'suitor': 1984, 'grand': 1985, 'river': 1986, '--': 1987, 'ultim': 1988, 'idl': 1989, 'overwrought': 1990, 'interior': 1991, 'directli': 1992, 'sister': 1993, 'egyptian': 1994, 'cun': 1995, 'alfr': 1996, 'alter': 1997, 'weak': 1998, '18th': 1999, 'mission': 2000, 'survivor': 2001, 'peter': 2002, 'maid': 2003, 'dress': 2004, 'egypt': 2005, 'rag': 2006, 'distant': 2007, 'thru': 2008, 'half': 2009, 'gold': 2010, 'portion': 2011, 'adopt': 2012, 'gene': 2013, 'flaw': 2014, 'resist': 2015, 'newman': 2016, 'educ': 2017, 'wise': 2018, 'approxim': 2019, 'mistak': 2020, 'upbring': 2021, 'ego': 2022, 'fruit': 2023, 'orphan': 2024, 'text': 2025, 'ambiti': 2026, 'royal': 2027, 'devour': 2028, 'quest': 2029, 'child': 2030, 'richli': 2031, 'preach': 2032, 'bodi': 2033, 'p.': 2034, 'a.': 2035, 'ustinov': 2036, 'len': 2037, 'patriot': 2038, 'reveng': 2039, 'jewish': 2040, 'b.': 2041, 'imageri': 2042, 'becam': 2043, 'subtl': 2044, 'basi': 2045, 'edg': 2046, 'iren': 2047, 'damon': 2048, 'fashion': 2049, 'owe': 2050, 'fulfil': 2051, 'joseph': 2052, 'ceas': 2053, 'repris': 2054, 'nostalg': 2055, 'armi': 2056, 'prior': 2057, 'isabel': 2058, 'tribut': 2059, 'distinguish': 2060, 'salvat': 2061, 'suddenli': 2062, 'known': 2063, 'knew': 2064, 'otherwis': 2065, 'wiser': 2066, 'tend': 2067, 'squar': 2068, 'sissi': 2069, 'l.': 2070, 'unusu': 2071, 'vivian': 2072, 'kay': 2073, 'phrase': 2074, 'ny': 2075, 'canadian': 2076, 'laughabl': 2077, 'stiff': 2078, 'stretch': 2079, 'arrang': 2080, 'does.': 2081, 'imposs': 2082, 'reveal': 2083, 'foundat': 2084, 'overact': 2085, 'whenev': 2086, 'brink': 2087, 'variat': 2088, 'repetit': 2089, 'textur': 2090, 'unstabl': 2091, 'instrument': 2092, 'transit': 2093, 'shaki': 2094, 'soap': 2095, 'quaint': 2096, 'notic': 2097, 'miscast': 2098, 'thick': 2099, 'employ': 2100, 'glare': 2101, 'subsequ': 2102, 'opera': 2103, 'capac': 2104, 'overus': 2105, 'unrealist': 2106, 'test': 2107, 'grave': 2108, 'contempl': 2109, 'till': 2110, 'distributor': 2111, 'presum': 2112, 'altern': 2113, 'reel': 2114, 'predica': 2115, 'click': 2116, 'iron': 2117, 'written': 2118, 'akshay': 2119, 'commerci': 2120, 'fluid': 2121, 'maintain': 2122, 'debut': 2123, 'visibl': 2124, 'vehicl': 2125, 'industri': 2126, 'april': 2127, 'marri': 2128, 'toy': 2129, 'pitch': 2130, 'inconsist': 2131, 'kumar': 2132, 'effort': 2133, 'kinda': 2134, '2005': 2135, 'necessari': 2136, 'nuanc': 2137, 'jerki': 2138, 'ampl': 2139, 'possess': 2140, 'opportun': 2141, 'careless': 2142, 'gentlemen': 2143, 'story-tel': 2144, 'alik': 2145, 'trick': 2146, 'mar': 2147, 'climax': 2148, 'superstar': 2149, 'fenc': 2150, 'heroin': 2151, 'infus': 2152, 'increas': 2153, 'ingredi': 2154, 'bollywood': 2155, 'attitud': 2156, 'proceed': 2157, 'mass': 2158, 'initi': 2159, 'histrion': 2160, 'visit': 2161, 'amitabh': 2162, 'indian': 2163, 'woefulli': 2164, 'narr': 2165, 'damn': 2166, 'tad': 2167, 'boil': 2168, 'race': 2169, 'letter': 2170, 'sell': 2171, 'reaction': 2172, 'martial': 2173, 'land': 2174, '..': 2175, 'cameo': 2176, 'awesom': 2177, 'fighter': 2178, 'artist': 2179, 'brainless': 2180, 'angl': 2181, 'ethnic': 2182, 'rocki': 2183, 'latino': 2184, 'stabl': 2185, 'violent': 2186, 'box': 2187, 'smirk': 2188, 'mediev': 2189, '1936': 2190, 'politician': 2191, 'princ': 2192, 'wealth': 2193, 'worship': 2194, 'duti': 2195, 'athlet': 2196, 'russia': 2197, 'globe': 2198, 'howard': 2199, 'lake': 2200, 'wwi': 2201, 'foot': 2202, 'triumph': 2203, 'disast': 2204, 'equal': 2205, 'propaganda': 2206, 'tediou': 2207, 'shield': 2208, 'lieuten': 2209, 'defeat': 2210, 'counterpart': 2211, 'wartim': 2212, 'karl': 2213, 'invad': 2214, 'berlin': 2215, 'bomber': 2216, 'cinemat': 2217, 'obstacl': 2218, 'germani': 2219, 'convent': 2220, 'would-b': 2221, 'master': 2222, 'ritter': 2223, 'fortun': 2224, 'alexand': 2225, 'trade': 2226, '1943': 2227, 'speech': 2228, 'st.': 2229, 'descend': 2230, 'expertis': 2231, 'hawk': 2232, 'wherea': 2233, 'cleverli': 2234, 'collabor': 2235, 'underton': 2236, 'olymp': 2237, 'common': 2238, 'russian': 2239, 'inspir': 2240, 'honor': 2241, 'conquer': 2242, 'tactic': 2243, 'sight': 2244, 'veteran': 2245, 'loyalti': 2246, 'leader': 2247, 'merchant': 2248, 'tall': 2249, 'disturb': 2250, 'bond': 2251, 'break': 2252, '1938': 2253, 'militari': 2254, 'mismatch': 2255, 'england': 2256, 'repel': 2257, 'orchestra': 2258, 'devot': 2259, 'chosen': 2260, 'shakespear': 2261, 'peasant': 2262, 'accept': 2263, 'wilder': 2264, 'myth': 2265, 'invas': 2266, 'histor': 2267, 'eisenstein': 2268, 'styliz': 2269, 'superior': 2270, 'rant': 2271, 'cheer': 2272, 'nobl': 2273, 'flynn': 2274, 'adventur': 2275, 'epic': 2276, 'lee': 2277, 'errol': 2278, '90': 2279, 'davi': 2280, 'biggest': 2281, 'afraid': 2282, 'centuri': 2283, 'separ': 2284, 'na': 2285, 'ronni': 2286, 'jane': 2287, 'addict': 2288, 'pick': 2289, 'annoyingli': 2290, 'e': 2291, 'lynch': 2292, 'chri': 2293, 'model': 2294, 'higher': 2295, 'volunt': 2296, 'ex': 2297, 'juic': 2298, 'promot': 2299, 'sign': 2300, 'wing': 2301, 'j': 2302, 'unpleas': 2303, 'you.': 2304, 'elizabeth': 2305, 'beth': 2306, 'bank': 2307, 'seat': 2308, 'unwatch': 2309, 'car': 2310, 'jail': 2311, 'gon': 2312, 'thompson': 2313, 'solid': 2314, 'uninterest': 2315, 'led': 2316, 'scott': 2317, 'paul': 2318, 'knight': 2319, 'funny.': 2320, 'older': 2321, 'lawyer': 2322, 'foul': 2323, 'assign': 2324, 'thirti': 2325, 'british': 2326, 'aim': 2327, 'schlock': 2328, 'civil': 2329, 'youngster': 2330, 'humor': 2331, 'trip': 2332, 'tabloid': 2333, 'subject': 2334, 'vast': 2335, 'latter': 2336, 'wreck': 2337, 'joke': 2338, 'ensu': 2339, 'encourag': 2340, 'patron': 2341, 'expand': 2342, 'strict': 2343, 'rough': 2344, 'engag': 2345, 'sadli': 2346, 'group': 2347, 'outlin': 2348, 'bed': 2349, 'door': 2350, 'subway': 2351, 'jim': 2352, 'homicid': 2353, 'mate': 2354, 'glass': 2355, 'buy': 2356, 'dog': 2357, 'confront': 2358, 'beer': 2359, 'giggl': 2360, 'fast': 2361, 'abov': 2362, '23': 2363, 'needless': 2364, 'psychiatr': 2365, 'gate': 2366, 'fed': 2367, 'surround': 2368, 'report': 2369, 'hole': 2370, 'capabl': 2371, 'voice-ov': 2372, 'happili': 2373, 'explain': 2374, 'telegraph': 2375, 'cure': 2376, 'naiv': 2377, 'intellig': 2378, 'linear': 2379, 'spoon': 2380, 'thoroughli': 2381, 'gape': 2382, 'allegedli': 2383, 'messag': 2384, 'brainwash': 2385, 'bondag': 2386, 'chao': 2387, 'walter': 2388, 'deriv': 2389, 'forgiv': 2390, 'tabl': 2391, 'insult': 2392, 'sociopath': 2393, 'coincid': 2394, 'reader': 2395, 'thirst': 2396, 'comparison': 2397, 'fade': 2398, 'carrey': 2399, 'particip': 2400, 'film-mak': 2401, 'platform': 2402, 'condit': 2403, 'color': 2404, 'grotesqu': 2405, 'sophist': 2406, 'linger': 2407, 'obligatori': 2408, 'straightforward': 2409, 'requir': 2410, 'hospit': 2411, 'tendenc': 2412, 'lovabl': 2413, 'hack': 2414, 'virtu': 2415, 'shtick': 2416, 'interpret': 2417, 'noir': 2418, 'treasur': 2419, 'moodi': 2420, 'lazi': 2421, 'detail': 2422, 'drastic': 2423, 'brilliantli': 2424, 'occupi': 2425, 'rubi': 2426, 'franc': 2427, 'courag': 2428, 'focus': 2429, 'coffe': 2430, 'deep': 2431, '1940': 2432, 'useless': 2433, 'lighter': 2434, 'depardieu': 2435, 'le': 2436, 'parisian': 2437, 'bon': 2438, 'civilian': 2439, 'luxuri': 2440, 'e.g': 2441, 'aesthet': 2442, 'tap': 2443, 'fell': 2444, 'yell': 2445, 'preview': 2446, 'pretenti': 2447, 'randomli': 2448, 'slight': 2449, 'understood': 2450, 'duplic': 2451, 'languag': 2452, 'cruelti': 2453, 'fake': 2454, 'liber': 2455, 'sentenc': 2456, 'maria': 2457, 'explicit': 2458, 'realist': 2459, 'coher': 2460, 'subtitl': 2461, 'reward': 2462, 'extraordinari': 2463, 'shannon': 2464, 'factor': 2465, 'porn': 2466, 'shower': 2467, 'abus': 2468, 'hairi': 2469, 'mustach': 2470, 'chest': 2471, 'moustach': 2472, 'bat': 2473, 'wow': 2474, 'bite': 2475, 'poorli': 2476, 'laid': 2477, '1981': 2478, 'librari': 2479, 'tropic': 2480, 'pan': 2481, 'wear': 2482, 'backdrop': 2483, 'well-written': 2484, 'oscar': 2485, 'shoulder': 2486, 'rene': 2487, 'russo': 2488, 'booth': 2489, 'hatr': 2490, 'tommi': 2491, 'fugit': 2492, 'assassin': 2493, 'eastwood': 2494, 'malkovich': 2495, 'peek': 2496, 'jone': 2497, 'rain': 2498, 'block': 2499, 'alex': 2500, 'robinson': 2501, 'march': 2502, 'string': 2503, 'stumbl': 2504, 'lauren': 2505, 'georg': 2506, 'illustr': 2507, '1968': 2508, 'sport': 2509, 'lion': 2510, 'roy': 2511, 'alan': 2512, 'sugar': 2513, 'mike': 2514, 'knock': 2515, 'dictat': 2516, 'dare': 2517, 'hostag': 2518, 'unwant': 2519, 'etc': 2520, 'gross': 2521, 'rais': 2522, 'mr.': 2523, 'belov': 2524, 'endear': 2525, '8/10': 2526, 'adjust': 2527, '250': 2528, 'content': 2529, 'cope': 2530, 'there.': 2531, 'junk': 2532, 'tripe': 2533, 'i.e': 2534, 'admit': 2535, 'key': 2536, 'clich': 2537, 'quentin': 2538, 'topic': 2539, 'gangster': 2540, 'excus': 2541, 'fourth': 2542, 'extent': 2543, 'site': 2544, 'declin': 2545, 'held': 2546, 'countless': 2547, 'popul': 2548, 'pocket': 2549, 'impati': 2550, 'r': 2551, 'downsid': 2552, 'hr': 2553, 'fair': 2554, 'u': 2555, 'rear': 2556, 'was.': 2557, 'masochist': 2558, 'brand': 2559, 'forev': 2560, 'laughter': 2561, 'dunn': 2562, 'longer': 2563, 'gain': 2564, 'prank': 2565, 'sicken': 2566, 'wet': 2567, 'bam': 2568, 'ryan': 2569, 'jackass': 2570, 'taylor': 2571, 'birthday': 2572, 'christina': 2573, 'lili': 2574, 'stole': 2575, 'edward': 2576, 'deliber': 2577, 'parodi': 2578, 'ricci': 2579, 'goldberg': 2580, 'underr': 2581, 'serious': 2582, '10/10': 2583, 'whoopi': 2584, 'wed': 2585, 'poetri': 2586, 'k': 2587, 'overweight': 2588, 'consist': 2589, '1998': 2590, 'jacki': 2591, 'ham': 2592, 'shirt': 2593, 'drunken': 2594, 'salman': 2595, 'singer': 2596, 'sudden': 2597, 'khan': 2598, 'character': 2599, '\\x96': 2600, 'bare': 2601, 'closet': 2602, 'gasp': 2603, 'colleg': 2604, 'lord': 2605, 'showtim': 2606, 'henc': 2607, 'ben': 2608, 'million': 2609, 'heterosexu': 2610, 'size': 2611, 'stereotyp': 2612, 'grown': 2613, 'broadcast': 2614, 'taglin': 2615, 'usag': 2616, 'friendship': 2617, 'wolf': 2618, 'hammer': 2619, 'fiction': 2620, 'clock': 2621, 'lower': 2622, 'succumb': 2623, 'leg': 2624, 'tight': 2625, 'stab': 2626, 'accident': 2627, 'preced': 2628, 'spade': 2629, 'wider': 2630, 'solv': 2631, 'popcorn': 2632, 'seven': 2633, 'drawn': 2634, 'evid': 2635, 'rank': 2636, 'ai': 2637, 'underdevelop': 2638, 'motiv': 2639, 'home': 2640, 'fabul': 2641, 'henson': 2642, 'unexplain': 2643, 'storytel': 2644, 'instead.': 2645, 'roughli': 2646, 'wonderland': 2647, 'ultra': 2648, 'eric': 2649, 'pari': 2650, '1980': 2651, 'immatur': 2652, 'likabl': 2653, 'boogi': 2654, 'kilmer': 2655, 'hilton': 2656, 'holm': 2657, 'curti': 2658, 'hung': 2659, 'val': 2660, 'gusto': 2661, 'hang': 2662, 'someday': 2663, 'intent': 2664, 'adulteri': 2665, 'pine': 2666, 'fish': 2667, 'roof': 2668, 'seren': 2669, 'yard': 2670, 'myriad': 2671, 'ground': 2672, 'dock': 2673, 'europ': 2674, 'vessel': 2675, 'warmth': 2676, 'bird': 2677, 'skirt': 2678, 'feet': 2679, 'plung': 2680, 'prais': 2681, 'paint': 2682, 'flock': 2683, 'potter': 2684, 'fli': 2685, 'yellow': 2686, 'amid': 2687, 'harbor': 2688, 'sidewalk': 2689, 'southern': 2690, 'skin': 2691, 'smell': 2692, 'rude': 2693, 'mansion': 2694, 'yearn': 2695, 'gaze': 2696, 'forehead': 2697, 'daylight': 2698, 'spring': 2699, 'drone': 2700, 'palm': 2701, 'ship': 2702, 'africa': 2703, 'silver': 2704, 'greet': 2705, 'slit': 2706, 'bullet': 2707, 'rise': 2708, 'cri': 2709, 'ring': 2710, 'gentl': 2711, 'connect': 2712, 'asia': 2713, 'rose': 2714, 'nostalgia': 2715, 'sway': 2716, 'weep': 2717, 'recal': 2718, 'tree': 2719, 'convert': 2720, 'paus': 2721, 'ninja': 2722, 'technolog': 2723, 'samurai': 2724, 'borrow': 2725, 'admir': 2726, 'palat': 2727, 'deadli': 2728, 'rubber': 2729, 'unknown': 2730, 'luck': 2731, 'clunker': 2732, 'dull': 2733, 'creatur': 2734, 'semblanc': 2735, 'nake': 2736, 'inan': 2737, 'paper': 2738, 'mix': 2739, 'troma': 2740, 'giant': 2741, 'lightheart': 2742, 'bud': 2743, 'degre': 2744, 'gilbert': 2745, 'spoof': 2746, 'roland': 2747, 'rental': 2748, 'spaghetti': 2749, 'spencer': 2750, 'combin': 2751, 'joli': 2752, 'cloth': 2753, 'suffici': 2754, 'distract': 2755, 'dick': 2756, 'makeup': 2757, 'downhil': 2758, 'randi': 2759, 'angelina': 2760, 'nativ': 2761, 'four': 2762, 'cute': 2763, \"o'neil\": 2764, 'garner': 2765, 'guest': 2766, 'bridget': 2767, 'great.': 2768, 'ed': 2769, 'jame': 2770, 'kelli': 2771, 'handl': 2772, 'prevent': 2773, 'insect': 2774, 'eleg': 2775, 'wipe': 2776, 'desir': 2777, 'defens': 2778, 'macho': 2779, 'unremark': 2780, 'mechan': 2781, 'disabl': 2782, 'send': 2783, 'starv': 2784, 'poison': 2785, 'b-movi': 2786, 'drop': 2787, 'layer': 2788, 'protect': 2789, 'system': 2790, 'concept': 2791, 'stupidest': 2792, 'slim': 2793, 'pitt': 2794, 'misfortun': 2795, 'here.': 2796, 'desk': 2797, 'tcm': 2798, 'through.': 2799, 'floor': 2800, 'disappointed.': 2801, 'polli': 2802, 'again.': 2803, 'honeymoon': 2804, 'drag': 2805, 'minist': 2806, 'elli': 2807, 'him.': 2808, 'spotlight': 2809, 'compel': 2810, 'deceiv': 2811, 'clerk': 2812, 'absent': 2813, 'kiss': 2814, 'imprison': 2815, 'tom': 2816, 'rifl': 2817, 'repli': 2818, 'strongest': 2819, 'subtli': 2820, 'unintent': 2821, 'african': 2822, 'gibson': 2823, 'warrior': 2824, 'imho': 2825, 'hamlet': 2826, 'disrespect': 2827, 'god-aw': 2828, 'merci': 2829, 'tacki': 2830, 'cheat': 2831, 'crystal': 2832, 'experienc': 2833, 'fierc': 2834, 'sli': 2835, 'eva': 2836, 'blackmail': 2837, 'smart': 2838, 'self-consci': 2839, 'clever': 2840, 'one-lin': 2841, 'fisher': 2842, 'betray': 2843, 'lesbian': 2844, 'revolv': 2845, 'meg': 2846, 'mari': 2847, 'tough': 2848, 'exactli': 2849, 'asham': 2850, 'proud': 2851, 'gossip': 2852, 'torn': 2853, 'bett': 2854, 'cruel': 2855, 'sassi': 2856, 'boundari': 2857, 'babi': 2858, 'profession': 2859, '21st': 2860, 'end.': 2861, 'updat': 2862, 'edi': 2863, 'behavior': 2864, 'miller': 2865, 'ethic': 2866, 'younger': 2867, 'quot': 2868, 'moral': 2869, 'debra': 2870, 'darker': 2871, 'kidnap': 2872, 'essenc': 2873, 'shockingli': 2874, 'win': 2875, 'her.': 2876, 'particular': 2877, 'banter': 2878, 'craig': 2879, 'graphic': 2880, 'endless': 2881, 'shot.': 2882, 'adrenalin': 2883, 'splendid': 2884, 'pathet': 2885, 'express': 2886, 'approach': 2887, 'finest': 2888, 'rodriguez': 2889, 'cop': 2890, 'dash': 2891, 'pixar': 2892, '40': 2893, 'ideolog': 2894, 'stronger': 2895, 'montag': 2896, 'numer': 2897, 'futurist': 2898, 'comput': 2899, 'reflect': 2900, 'stroke': 2901, 'rival': 2902, 'stubborn': 2903, 'challeng': 2904, 'sin': 2905, 'irrelev': 2906, 'fill': 2907, 'random': 2908, 'raunchi': 2909, 'sketch': 2910, 'uniqu': 2911, 'and/or': 2912, 'readi': 2913, 'glori': 2914, 'low-budget': 2915, 'recit': 2916, 'extens': 2917, '1/10': 2918, 'unbear': 2919, '18': 2920, 'career.': 2921, 'arquett': 2922, 'ignor': 2923, 'yawn': 2924, 'coverag': 2925, 'clint': 2926, 'moor': 2927, 'scorses': 2928, 'trunk': 2929, 'firmli': 2930, 'martin': 2931, 'roman': 2932, 'arrog': 2933, 'bob': 2934, 'taxi': 2935, 'jami': 2936, 'applaus': 2937, 'controversi': 2938, 'norman': 2939, 'polanski': 2940, 'sweep': 2941, 'agre': 2942, 'host': 2943, 'ross': 2944, 'categori': 2945, 'ceremoni': 2946, 'freeman': 2947, 'format': 2948, 'bbc': 2949, 'robertson': 2950, 'academi': 2951, 'link': 2952, 'boo': 2953, 'genuin': 2954, 'bull': 2955, 'mafia': 2956, 'competit': 2957, 'complaint': 2958, 'loser': 2959, '2003': 2960, 'jonathan': 2961, 'winner': 2962, 'arena': 2963, 'morgan': 2964, 'dollar': 2965, 'snob': 2966, 'foxx': 2967, 'immor': 2968, 'downey': 2969, 'satisfi': 2970, 'jr.': 2971, 'circumst': 2972, 'sung': 2973, 'reincarn': 2974, 'substanc': 2975, 'fluff': 2976, 'tradit': 2977, 'daniel': 2978, 'brenda': 2979, 'collin': 2980, 'hopkin': 2981, 'period': 2982, 'actor.': 2983, 'multipl': 2984, 'crippl': 2985, 'silenc': 2986, 'cerebr': 2987, 'lamb': 2988, 'field': 2989, 'cole': 2990, 'christi': 2991, 'career': 2992, 'hugh': 2993, 'irish': 2994, 'household': 2995, 'nomin': 2996, 'shambl': 2997, 'shaw': 2998, 'walt': 2999, 'netflix': 3000, 'alicia': 3001, 'unabl': 3002, 'good.': 3003, 'r.': 3004, 'nonetheless': 3005, 'titil': 3006, 'fifti': 3007, 'seen.': 3008, 'suspend': 3009, 'mano': 3010, 'wretch': 3011, 'christma': 3012, 'sub-par': 3013, 'doubt': 3014, 'rehears': 3015, 'writer/director': 3016, 'deconstruct': 3017, 'tremend': 3018, 'disbelief': 3019, 'contriv': 3020, 'kane': 3021, 'student': 3022, 'gag': 3023, 'saturday': 3024, 'greedi': 3025, 'boat': 3026, 'termin': 3027, 'sunk': 3028, 'cameron': 3029, 'comed': 3030, 'shelf': 3031, 'forgot': 3032, 'musician': 3033, 'unexpectedli': 3034, 'resid': 3035, 'around.': 3036, 'hyster': 3037, 'mail': 3038, 'bee': 3039, 'turtl': 3040, 'formula': 3041, 'hank': 3042, 'chemistri': 3043, 'judi': 3044, 'stale': 3045, 'neck': 3046, 'violin': 3047, 'spark': 3048, 'garland': 3049, 'studio': 3050, 'bland': 3051, 'creek': 3052, 'stand': 3053, 'misfit': 3054, 'televis': 3055, 'warner': 3056, 'band': 3057, 'spray': 3058, '1953': 3059, 'gimmick': 3060, 'essenti': 3061, 'non-stop': 3062, 'polish': 3063, 'task': 3064, 'madison': 3065, 'cattl': 3066, 'pursu': 3067, '3d': 3068, 'fault': 3069, 'mainli': 3070, 'flat': 3071, '.the': 3072, 'circl': 3073, 'improv': 3074, 'bomb': 3075, 'blew': 3076, 'horizon': 3077, 'hitchcock': 3078, 'spin': 3079, 'rework': 3080, 'semi': 3081, 'weekend': 3082, 'unless': 3083, 'boast': 3084, 'middle-ag': 3085, 'embodi': 3086, 'progress': 3087, 'filthi': 3088, 'wander': 3089, 'nicola': 3090, 'fame': 3091, 'splash': 3092, 'list': 3093, 'lay': 3094, 'unfold': 3095, 'dump': 3096, 'entic': 3097, 'spectat': 3098, 'atroci': 3099, 'spanish': 3100, 'verhoeven': 3101, 'liquid': 3102, 'farm': 3103, 'asylum': 3104, 'condemn': 3105, 'immens': 3106, 'burn': 3107, 'onto': 3108, 'financ': 3109, '+': 3110, 'within': 3111, 'well-don': 3112, 'similarli': 3113, 'folklor': 3114, 'dutch': 3115, 'page': 3116, 'flesh': 3117, 'hors': 3118, 'drown': 3119, 'dung': 3120, 'legend': 3121, 'grandeur': 3122, 'julian': 3123, 'refund': 3124, 'chicago': 3125, 'numb': 3126, 'wong': 3127, 'amateurish': 3128, 'loud': 3129, 'youtub': 3130, 'cohes': 3131, 'salvag': 3132, 'amanda': 3133, 'them.': 3134, 'rob': 3135, 'row': 3136, 'hint': 3137, 'fetish': 3138, 'sat': 3139, 'pay': 3140, 'unexcit': 3141, 'latin': 3142, 'rosi': 3143, 'vanessa': 3144, 'wheel': 3145, 'exuber': 3146, 'error': 3147, 'translat': 3148, 'on.': 3149, 'fulli': 3150, 'newer': 3151, 'creativ': 3152, 'jason': 3153, '1963': 3154, 'broadway': 3155, 'youth': 3156, 'gloomi': 3157, 'astound': 3158, 'medium': 3159, 'farc': 3160, 'merit': 3161, 'forth': 3162, 'lacklust': 3163, 'albert': 3164, 'parti': 3165, 'suprem': 3166, 'flash': 3167, '1995': 3168, 'struggl': 3169, 'redeem': 3170, 'threaten': 3171, 'keaton': 3172, 'colin': 3173, 'oldest': 3174, 'job.': 3175, 'debat': 3176, 'gruesom': 3177, 'duke': 3178, 'actors.': 3179, 'sparkl': 3180, 'genre.': 3181, 'tunnel': 3182, 'monstros': 3183, 'theatric': 3184, 'canada': 3185, 'unawar': 3186, 'spite': 3187, 'religi': 3188, 'danish': 3189, 'everyday': 3190, 'touch': 3191, 'heal': 3192, 'amber': 3193, 'rachel': 3194, 'nerd': 3195, 'geniu': 3196, 'posey': 3197, 'villain': 3198, 'cream': 3199, 'sophi': 3200, 'monk': 3201, 'miranda': 3202, 'guarante': 3203, 'parker': 3204, 'ami': 3205, 'phillip': 3206, 'slightli': 3207, 'min': 3208, 'woke': 3209, 'stood': 3210, 'kingdom': 3211, '1941': 3212, 'remad': 3213, 'tape': 3214, 'lens': 3215, 'tenni': 3216, 'appal': 3217, 'accus': 3218, 'seemingli': 3219, 'pressur': 3220, 'convers': 3221, 'anthoni': 3222, 'swap': 3223, 'lunch': 3224, 'amor': 3225, 'divorc': 3226, 'journey': 3227, 'stranger': 3228, 'hain': 3229, 'strangl': 3230, 'bruno': 3231, 'senat': 3232, 'carniv': 3233, 'ballet': 3234, 'arizona': 3235, 'anna': 3236, 'cheek': 3237, 'lola': 3238, 'notori': 3239, 'francisco': 3240, 'bandit': 3241, 'heyday': 3242, 'revolut': 3243, 'coach': 3244, 'jewel': 3245, 'mistress': 3246, 'tongu': 3247, 'vaudevil': 3248, 'myer': 3249, 'donald': 3250, 'shape': 3251, 'curs': 3252, 'stone': 3253, 'machin': 3254, 'knack': 3255, 'vietnam': 3256, 'claim': 3257, 'assert': 3258, 'fought': 3259, 'disgust': 3260, 'south': 3261, 'favour': 3262, 'standpoint': 3263, 'honestli': 3264, 'arm': 3265, 'oliv': 3266, 'treat': 3267, 'ii': 3268, '20th': 3269, 'cartoon': 3270, 'elimin': 3271, '1937': 3272, '9': 3273, 'farmer': 3274, 'contract': 3275, 'discuss': 3276, 'story.': 3277, 'asian': 3278, 'wang': 3279, 'diner': 3280, 'implic': 3281, 'uneasi': 3282, 'neighborhood': 3283, 'climact': 3284, 'tomorrow': 3285, 'magic': 3286, 'proport': 3287, 'harmless': 3288, 'envelop': 3289, 'appli': 3290, 'blown': 3291, 'pre-teen': 3292, 'missil': 3293, 'cuban': 3294, 'news': 3295, 'virginia': 3296, 'aunt': 3297, 'program': 3298, 'sun': 3299, 'crisi': 3300, 'shelter': 3301, '1962': 3302, '101': 3303, 'glen': 3304, 'lock': 3305, 'coat': 3306, 'fur': 3307, 'devil': 3308, 'groan': 3309, 'drew': 3310, 'deprav': 3311, 'gray': 3312, 'dread': 3313, 'slide': 3314, 'flounder': 3315, 'pro': 3316, 'stream': 3317, 'booz': 3318, 'quiet': 3319, 'newspap': 3320, 'ponder': 3321, 'wrap': 3322, 'deeper': 3323, 'ourselv': 3324, 'spiritu': 3325, 'pop': 3326, 'narrow': 3327, 'unravel': 3328, 'montana': 3329, 'pattern': 3330, 'conscious': 3331, 'graduat': 3332, 'teas': 3333, 'radic': 3334, 'attend': 3335, 'stoic': 3336, 'norm': 3337, 'beneath': 3338, 'urg': 3339, 'intend': 3340, 'stunningli': 3341, 'dustin': 3342, 'junior': 3343, 'wave': 3344, 'unwil': 3345, 'hoffman': 3346, 'redford': 3347, 'nearbi': 3348, 'current': 3349, 'construct': 3350, 'irresist': 3351, 'jesu': 3352, 'gap': 3353, 'chucki': 3354, 'jennif': 3355, 'hoot': 3356, 'fiend': 3357, 'instal': 3358, 'tilli': 3359, 'spell': 3360, 'dummi': 3361, 'hopper': 3362, 'sheriff': 3363, 'witti': 3364, 'delici': 3365, 'mistaken': 3366, 'femm': 3367, 'crook': 3368, 'dalla': 3369, 'drifter': 3370, 'terrif': 3371, 'cage': 3372, 'psycho': 3373, 'fatal': 3374, 'unlucki': 3375, 'quick': 3376, 'rick': 3377, 'boyl': 3378, 'walsh': 3379, 'exquisit': 3380, 'supernatur': 3381, 'fx': 3382, 'mile': 3383, 'bowl': 3384, 'ditto': 3385, 'irrit': 3386, 'variou': 3387, 'ritual': 3388, 'cg': 3389, 'klein': 3390, 'quarter': 3391, 'fred': 3392, 'calibr': 3393, 'backward': 3394, 'meander': 3395, 'l': 3396, 'midst': 3397, 'co-star': 3398, 'antic': 3399, 'timeless': 3400, 'fairi': 3401, 'mice': 3402, 'regular': 3403, 'overr': 3404, '9/10': 3405, 'standout': 3406, 'lavish': 3407, 'favourit': 3408, 'cox': 3409, 'cinderella': 3410, 'stepmoth': 3411, 'evil': 3412, 'gorgeou': 3413, 'madonna': 3414, 'warren': 3415, 'mob': 3416, 'traci': 3417, '2/10': 3418, 'glenn': 3419, 'beatti': 3420, 'pacino': 3421, 'capsul': 3422, 'berri': 3423, 'delet': 3424, 'hbo': 3425, 'featurett': 3426, 'superl': 3427, 'exec': 3428, 'surrealist': 3429, 'manner': 3430, 'skit': 3431, 'illumin': 3432, 'unsur': 3433, 'bride': 3434, 'vignett': 3435, 'forti': 3436, 'akin': 3437, 'underneath': 3438, 'swedish': 3439, 'guilti': 3440, 'strip': 3441, 'dorm': 3442, 'style.': 3443, 'downward': 3444, 'compassion': 3445, 'raymond': 3446, 'sacr': 3447, 'spread': 3448, 'ambit': 3449, 'shift': 3450, 'demand': 3451, 'franci': 3452, 'birth': 3453, 'sensit': 3454, 'abomin': 3455, 'integr': 3456, 'mythic': 3457, 'mighti': 3458, 'passion': 3459, 'occur': 3460, 'accord': 3461, 'vividli': 3462, 'inde': 3463, 'storm': 3464, 'spiral': 3465, 'judgment': 3466, 'retain': 3467, 'ark': 3468, 'en': 3469, 'perman': 3470, 'prophet': 3471, 'massey': 3472, 'pregnant': 3473, 'unhappi': 3474, 'outweigh': 3475, 'plight': 3476, 'command': 3477, 'court': 3478, 'superb': 3479, 'consequ': 3480, 'offend': 3481, 'greed': 3482, 'bath': 3483, 'testament': 3484, 'peck': 3485, 'brief': 3486, 'mose': 3487, 'queen': 3488, 'defin': 3489, 'palac': 3490, 'attain': 3491, 'lust': 3492, 'meanwhil': 3493, 'biblic': 3494, 'nick': 3495, '2004': 3496, 'basebal': 3497, 'boston': 3498, 'fever': 3499, 'transform': 3500, 'comedian': 3501, 'abandon': 3502, 'hopelessli': 3503, 'soccer': 3504, 'tour': 3505, 'consum': 3506, 'loyal': 3507, 'jimmi': 3508, 'eighti': 3509, 'dealt': 3510, 'own.': 3511, 'barrymor': 3512, 'meek': 3513, 'firm': 3514, 'bobbi': 3515, 'world.': 3516, 'store': 3517, 'darkest': 3518, 'rot': 3519, 'campi': 3520, 'outer': 3521, 'flee': 3522, 'eddi': 3523, 'obscen': 3524, 'murphi': 3525, 'h': 3526, 'dave': 3527, 'meadow': 3528, 'goodby': 3529, 'farewel': 3530, 'steven': 3531, 'script.': 3532, 'chees': 3533, 'lousi': 3534, 'lawrenc': 3535, 'eloqu': 3536, '19th': 3537, 'lesser': 3538, 'discern': 3539, 'indiffer': 3540, 'ride': 3541, 'research': 3542, 'artwork': 3543, 'moviego': 3544, 'buri': 3545, 'document': 3546, 'viscer': 3547, 'urgenc': 3548, 'raid': 3549, 'pc': 3550, 'rehash': 3551, 'apt': 3552, 'liberti': 3553, 'bleed': 3554, 'verbal': 3555, 'attent': 3556, 'action.': 3557, 'kansa': 3558, 'satir': 3559, 'work.': 3560, 'referenc': 3561, 'marathon': 3562, 'unfunni': 3563, 'sophomor': 3564, 'carl': 3565, 'snail': 3566, 'bu': 3567, 'placement': 3568, 'worn': 3569, 'emphas': 3570, 'penelop': 3571, 'versu': 3572, 'massacr': 3573, 'warhol': 3574, 'compromis': 3575, 'mobil': 3576, 'gift': 3577, 'therapi': 3578, 'sold': 3579, 'thu': 3580, 'realis': 3581, 'sundanc': 3582, 'denni': 3583, 'prize': 3584, 'bloodi': 3585, 'dandi': 3586, 'postur': 3587, 'phone': 3588, 'brush': 3589, 'bust': 3590, 'teeth': 3591, 'ferri': 3592, 'brian': 3593, 'juri': 3594, 'dig': 3595, 'instant': 3596, 'elev': 3597, 'sheen': 3598, 'seldom': 3599, 'lucki': 3600, 'vet': 3601, 'advantag': 3602, 'saint': 3603, 'succe': 3604, 'summari': 3605, 'distress': 3606, 'slam': 3607, 'frame': 3608, 'simon': 3609, 'sander': 3610, 'leigh': 3611, 'gabl': 3612, 'butler': 3613, 'scarlett': 3614, 'pale': 3615, \"o'hara\": 3616, 'dalton': 3617, 'clark': 3618, '11': 3619, 'ireland': 3620, 'regardless': 3621, 'joann': 3622, 'timothi': 3623, 'scan': 3624, '%': 3625, 'lung': 3626, 'scream': 3627, 'princip': 3628, 'address': 3629, 'cloud': 3630, 'previous': 3631, 'preston': 3632, 'chill': 3633, 'edgi': 3634, 'defend': 3635, 'kathleen': 3636, 'resourc': 3637, 'inclin': 3638, 'estrang': 3639, 'sterl': 3640, 'ranch': 3641, 'subplot': 3642, 'legal': 3643, 'earl': 3644, 'abound': 3645, 'jeff': 3646, 'mentor': 3647, 'earn': 3648, 'jump': 3649, '1950': 3650, 'aka': 3651, 'penn': 3652, 'sean': 3653, 'struck': 3654, 'texa': 3655, 'roger': 3656, 'envis': 3657, 'utmost': 3658, 'jon': 3659, 'voight': 3660, 'carradin': 3661, 'moron': 3662, 'pile': 3663, 'bucket': 3664, 'utter': 3665, 'stilt': 3666, 'turd': 3667, 'editor': 3668, 'heavy-hand': 3669, 'witch': 3670, 'mess.': 3671, 'ta': 3672, 'wine': 3673, 'slum': 3674, 'bother': 3675, 'businessman': 3676, 'wrestler': 3677, 'verg': 3678, 'shake': 3679, 'wrestl': 3680, 'doom': 3681, 'entitl': 3682, 'sinist': 3683, 'black-and-whit': 3684, 'oper': 3685, 'mud': 3686, 'curiou': 3687, 'ape': 3688, '[': 3689, 'strikingli': 3690, 'over-the-top': 3691, 'u.s.': 3692, 'boot': 3693, 'frankenstein': 3694, 'replac': 3695, ']': 3696, 'eyebal': 3697, 'tame': 3698, 'hulk': 3699, 'transplant': 3700, 'nude': 3701, 'ill': 3702, 'reput': 3703, 'carlo': 3704, 'constantli': 3705, 'essay': 3706, '1942': 3707, 'vein': 3708, 'mexican': 3709, 'goof': 3710, 'tear': 3711, 'lopez': 3712, 'smack': 3713, 'bonu': 3714, 'tragedi': 3715, 'couch': 3716, 'socialist': 3717, 'forest': 3718, 'rid': 3719, 'campaign': 3720, 'fascist': 3721, 'whine': 3722, 'communist': 3723, 'shoot': 3724, 'mayor': 3725, 'arriv': 3726, 'immort': 3727, 'titan': 3728, 'craft': 3729, 'transcend': 3730, 'proce': 3731, 'tech': 3732, 'divin': 3733, 'engulf': 3734, 'yourself.': 3735, 'be.': 3736, 'j.': 3737, 'falk': 3738, 'much.': 3739, 'gem': 3740, 'concern': 3741, 'select': 3742, 'dire': 3743, 'harrow': 3744, 'heavili': 3745, 'cargo': 3746, 'terrifi': 3747, 'omar': 3748, 'temporarili': 3749, 'convincingli': 3750, 'nail': 3751, 'grit': 3752, 'rivet': 3753, 'altogeth': 3754, 'mutter': 3755, 'self': 3756, 'secretari': 3757, 'smith': 3758, 'first-rat': 3759, 'deadpan': 3760, 'london': 3761, 'cynic': 3762, 'breath': 3763, 'dens': 3764, 'inconsequenti': 3765, 'pose': 3766, 'chose': 3767, 'fragment': 3768, 'press': 3769, 'dougla': 3770, 'resolut': 3771, 'lionel': 3772, 'fay': 3773, 'embarrassingli': 3774, 'townspeopl': 3775, 'hunt': 3776, 'dwight': 3777, 'torch': 3778, 'scam': 3779, 'relat': 3780, 'mastermind': 3781, 'heist': 3782, 'ivan': 3783, 'niven': 3784, 'anchor': 3785, 'jordan': 3786, 'raider': 3787, 'romp': 3788, 'chop': 3789, 'suitabl': 3790, 'riot': 3791, 'conrad': 3792, '27': 3793, 'appl': 3794, 'echo': 3795, 'sub-plot': 3796, 'crop': 3797, 'imo': 3798, 'shed': 3799, 'backstori': 3800, 'focu': 3801, 'decidedli': 3802, 'nutshel': 3803, 'emul': 3804, 'synopsi': 3805, 'stripper': 3806, 'blockbust': 3807, 'uniform': 3808, 'fool': 3809, 'descript': 3810, '17': 3811, 'teddi': 3812, 'se': 3813, 'icon': 3814, 'lisa': 3815, 'wrath': 3816, 'torment': 3817, 'malcolm': 3818, 'andi': 3819, 'anger': 3820, 'tide': 3821, 'inform': 3822, 'x': 3823, 'finger': 3824, 'interrog': 3825, 'vigilant': 3826, 'gear': 3827, 'sieg': 3828, 'injur': 3829, 'punch': 3830, 'brillianc': 3831, 'frustrat': 3832, 'violat': 3833, 'ripe': 3834, 'mexico': 3835, 'perpetr': 3836, 'domino': 3837, 'weaker': 3838, 'frenet': 3839, 'vibrant': 3840, 'harden': 3841, 'load': 3842, 'paid': 3843, 'guard': 3844, 'dish': 3845, 'marc': 3846, 'role.': 3847, 'samuel': 3848, 'paramount': 3849, 'financi': 3850, 'disdain': 3851, 'clooney': 3852, 'disillus': 3853, 'toni': 3854, 'washington': 3855, 'flare': 3856, 'stem': 3857, 'innuendo': 3858, 'denzel': 3859, 'trait': 3860, 'mesmer': 3861, 'spi': 3862, 'terri': 3863, 'borderlin': 3864, 'ransom': 3865, 'walken': 3866, 'bitter': 3867, 'unleash': 3868, 'commentari': 3869, 'inflict': 3870, 'versa': 3871, 'chuck': 3872, 'norri': 3873, 'rig': 3874, 'underwhelm': 3875, 'varieti': 3876, 'thousand': 3877, 'bulk': 3878, 'complex': 3879, 'breathtak': 3880, 'precis': 3881, 'connor': 3882, 'funer': 3883, 'ward': 3884, 'prime': 3885, 'macbeth': 3886, 'snl': 3887, 'homag': 3888, 'lauri': 3889, 'thespian': 3890, 'resum': 3891, 'edmund': 3892, 'lena': 3893, 'rubbish': 3894, 'drill': 3895, 'explod': 3896, 'cord': 3897, 'wire': 3898, 'luke': 3899, 'hundr': 3900, 'belushi': 3901, 'wholesom': 3902, 'deterior': 3903, 'magnet': 3904, 'sci-fi': 3905, 'surreal': 3906, 'exhaust': 3907, 'dawn': 3908, 'emerg': 3909, 'argu': 3910, 'cathol': 3911, 'outcom': 3912, 'extermin': 3913, 'delinqu': 3914, 'jab': 3915, 'priest': 3916, 'temptat': 3917, 'amidst': 3918, 'regain': 3919, 'margin': 3920, 'recogn': 3921, 'afterward': 3922, 'ironi': 3923, 'trace': 3924, 'expos': 3925, 'christ': 3926, 'lui': 3927, 'love.': 3928, 'brim': 3929, 'intrigu': 3930, 'aggress': 3931, 'juvenil': 3932, 'heroic': 3933, 'atheist': 3934, 'irrever': 3935, 'entranc': 3936, 'screech': 3937, 'techniqu': 3938, 'richardson': 3939, 'ear': 3940, 'purist': 3941, 'everywher': 3942, 'sullivan': 3943, 'johnni': 3944, 'cliff': 3945, 'pg': 3946, 'underworld': 3947, 'oppos': 3948, 'presenc': 3949, 'odditi': 3950, 'writer-director': 3951, 'dinosaur': 3952, 'madman': 3953, 'file': 3954, 'labor': 3955, 'on-screen': 3956, 'warehous': 3957, 'mayhem': 3958, 'truck': 3959, 'bait': 3960, 'dumbest': 3961, 'grab': 3962, 'robberi': 3963, 'demon': 3964, 'dispatch': 3965, 'wreak': 3966, 'price': 3967, 'cinematograph': 3968, 'hijack': 3969, 'horrif': 3970, 'witless': 3971, 'spooki': 3972, 'stuf': 3973, 'burt': 3974, 'sustain': 3975, 'engin': 3976, 'gut': 3977, 'make-up': 3978, 'forebod': 3979, 'nervou': 3980, 'clown': 3981, 'scarecrow': 3982, 'ga': 3983, 'c.': 3984, 'push': 3985, 'stolen': 3986, 'slaughter': 3987, 'straw': 3988, 'wood': 3989, 'santa': 3990, 'clau': 3991, 'mst3k': 3992, 'keith': 3993, 'soil': 3994, 'steam': 3995, 'casablanca': 3996, 'd.': 3997, 'satan': 3998, 'happier': 3999, 'cann': 4000, 'memori': 4001, 'flower': 4002, 'inexplic': 4003, 'sum': 4004, 'over.': 4005, 'w': 4006, 'poignant': 4007, 'pianist': 4008, 'attach': 4009, 'ballad': 4010, 'swept': 4011, 'draft': 4012, 'blur': 4013, 'poetic': 4014, 'gloss': 4015, 'crane': 4016, 'accuraci': 4017, 'hatch': 4018, 'inaccuraci': 4019, 'bump': 4020, 'wtf': 4021, 'vivid': 4022, 'afflict': 4023, 'consult': 4024, 'restraint': 4025, 'scariest': 4026, 'picnic': 4027, 'shiver': 4028, 'dr': 4029, 'life.': 4030, 'jaw': 4031, 'rod': 4032, 'injuri': 4033, 'closer': 4034, 'heartbreak': 4035, 'loui': 4036, 'alic': 4037, 'freddi': 4038, 'before.': 4039, 'devoid': 4040, 'macabr': 4041, '4/10': 4042, 'joint': 4043, 'appropri': 4044, 'arnold': 4045, 'sixth': 4046, 'cooper': 4047, 'befriend': 4048, 'contest': 4049, 'guid': 4050, 'ludicr': 4051, 'coolest': 4052, 'um': 4053, 'angri': 4054, 'kurt': 4055, 'discount': 4056, 'garden': 4057, 'breast': 4058, 'rightli': 4059, 'burden': 4060, 'descent': 4061, 'rel': 4062, 'antonio': 4063, 'anti-semit': 4064, 'compuls': 4065, 'perceiv': 4066, 'lynn': 4067, 'foil': 4068, 'lush': 4069, 'consider': 4070, 'honesti': 4071, 'cring': 4072, 'destini': 4073, 'robber': 4074, 'shootout': 4075, 'engross': 4076, 'upcom': 4077, 'benefit': 4078, 'jule': 4079, 'glamour': 4080, 'aniston': 4081, 'met': 4082, 'emili': 4083, 'crack': 4084, 'seattl': 4085, 'throughout.': 4086, 'rewrit': 4087, 'unfair': 4088, 'safe': 4089, 'proof': 4090, 'playboy': 4091, 'barrier': 4092, 'velvet': 4093, 'censor': 4094, 'anywher': 4095, 'rack': 4096, 'stress': 4097, 'curtain': 4098, 'smile': 4099, 'distribut': 4100, 'distast': 4101, 'vincent': 4102, 'beau': 4103, 'charlott': 4104, 'kevin': 4105, 'pb': 4106, 'kathi': 4107, 'mummi': 4108, 'recogniz': 4109, 'arthur': 4110, 'bate': 4111, 'hooker': 4112, 'misunderstand': 4113, 'vagu': 4114, 'misplac': 4115, 'resolv': 4116, 'switch': 4117, 'cram': 4118, 'pie': 4119, '15': 4120, 'encount': 4121, 'urin': 4122, 'outlandish': 4123, 'epitom': 4124, 'tasteless': 4125, 'alley': 4126, 'hal': 4127, 'patrick': 4128, 'top-notch': 4129, 'well.': 4130, 'golden': 4131, 'north': 4132, 'miniseri': 4133, 'history.': 4134, 'swayz': 4135, 'poverti': 4136, 'ten': 4137, 'collaps': 4138, 'coup': 4139, 'ahead': 4140, 'empathi': 4141, 'muslim': 4142, 'veget': 4143, 'israel': 4144, 'widow': 4145, 'ernest': 4146, 'refuge': 4147, 'deaf': 4148, 'aftermath': 4149, 'films.': 4150, 'formerli': 4151, 'together.': 4152, 'slang': 4153, 'tube': 4154, 'extend': 4155, 'shoe': 4156, 'matrix': 4157, 'robot': 4158, 'choreographi': 4159, 'classi': 4160, 'bikini': 4161, 'dozen': 4162, 'poss': 4163, 'ass': 4164, 'cynthia': 4165, 'dignifi': 4166, 'lo': 4167, 'handsom': 4168, 'fu': 4169, 'map': 4170, 'kung': 4171, 'brawl': 4172, 'guardian': 4173, 'arab': 4174, 'enthusiast': 4175, 'helicopt': 4176, 'wan': 4177, 'opposit': 4178, 'bodyguard': 4179, 'tycoon': 4180, 'psychopath': 4181, 'feder': 4182, 'karat': 4183, 'bimbo': 4184, 'monologu': 4185, 'kong': 4186, 'professor': 4187, '1976': 4188, 'scenario': 4189, 'blah': 4190, 'superbl': 4191, 'grudg': 4192, 'crow': 4193, 'teen': 4194, 'ooz': 4195, 'metaphys': 4196, 'pun': 4197, 'conflict': 4198, 'smash': 4199, 'holden': 4200, 'legendari': 4201, 'yesterday': 4202, 'sunset': 4203, 'evolv': 4204, 're-mak': 4205, 'built': 4206, 'nuclear': 4207, 'latest': 4208, 'burton': 4209, 'anti-war': 4210, 'hurri': 4211, 'theori': 4212, 'well-act': 4213, 'banana': 4214, 'breed': 4215, 'monkey': 4216, 'helen': 4217, 'carter': 4218, 'heston': 4219, 'roth': 4220, 'duncan': 4221, 'fix': 4222, 'wrong.': 4223, 'prequel': 4224, 'plagu': 4225, 'fond': 4226, 'watcher': 4227, 'rapidli': 4228, 'interact': 4229, 'cube': 4230, 'dissolv': 4231, 'degrad': 4232, 'vacat': 4233, 'turkey': 4234, 'rave': 4235, 'articul': 4236, 'hokey': 4237, 'either.': 4238, 'dri': 4239, 'neither': 4240, 'wimp': 4241, 'baffl': 4242, 'hip': 4243, 'friday': 4244, 'rebelli': 4245, 'wont': 4246, 'sandwich': 4247, 'freaki': 4248, 'graham': 4249, 'reckless': 4250, 'wholli': 4251, 'conscienc': 4252, 'luca': 4253, 'vengeanc': 4254, '14': 4255, 'buffi': 4256, 'cancel': 4257, 'closur': 4258, 'matt': 4259, 'x-file': 4260, 'manipul': 4261, 'thread': 4262, 'rope': 4263, 'inherit': 4264, 'entireti': 4265, 'closest': 4266, 'arc': 4267, 'unansw': 4268, 'grief': 4269, 'prospect': 4270, 'bombard': 4271, 'mainstream': 4272, 'chaotic': 4273, 'nowaday': 4274, 'judgement': 4275, 'analyz': 4276, 'viewpoint': 4277, 'tag': 4278, 'observ': 4279, 'savag': 4280, 'ah': 4281, 'trademark': 4282, 'shamelessli': 4283, 'craven': 4284, 'rapist': 4285, 'nope': 4286, 'relentless': 4287, 'erot': 4288, 'correctli': 4289, 'wash': 4290, 'fuzzi': 4291, 'hmm': 4292, 'electr': 4293, 'cannib': 4294, 'horn': 4295, 'ordinari': 4296, 'sleaz': 4297, 'symbol': 4298, 'hello': 4299, 'coin': 4300, 'thug': 4301, 'bloodsh': 4302, 'tribe': 4303, 'lure': 4304, 'topless': 4305, 'policeman': 4306, 'direction.': 4307, 'scum': 4308, 'godfath': 4309, 'sponsor': 4310, 'account': 4311, 'everett': 4312, 'peer': 4313, 'vera': 4314, 'neighbor': 4315, 'homosexu': 4316, 'petit': 4317, 'basketbal': 4318, 'money.': 4319, 'fetch': 4320, 'co-wrot': 4321, 'equip': 4322, 'footbal': 4323, 'secondli': 4324, 'snicker': 4325, 'chuckl': 4326, 'freez': 4327, 'swell': 4328, 'firstli': 4329, 'year-old': 4330, 'bicker': 4331, 'honour': 4332, 'lest': 4333, 'disguis': 4334, 'valentin': 4335, 'kate': 4336, 'email': 4337, 'nois': 4338, 'hay': 4339, 'more.': 4340, 'pal': 4341, 'harp': 4342, 'slot': 4343, 'manufactur': 4344, 'fidel': 4345, 'increasingli': 4346, 'passabl': 4347, 'longtim': 4348, 'util': 4349, 'via': 4350, 'plug': 4351, 'card': 4352, 'intrus': 4353, 'phoni': 4354, 'gradi': 4355, 'shelv': 4356, 'advoc': 4357, 'bounc': 4358, 'dogma': 4359, '7/10': 4360, 'seduct': 4361, 'spent': 4362, 'shut': 4363, 'impregn': 4364, 'curl': 4365, 'whip': 4366, 'wallac': 4367, 'sir': 4368, 'batman': 4369, 'dungeon': 4370, 'elder': 4371, 'throwback': 4372, 'kinski': 4373, 'captiv': 4374, 'robe': 4375, 'pool': 4376, 'shadowi': 4377, 'buffoon': 4378, 'offbeat': 4379, 'klau': 4380, 'inspector': 4381, 'habit': 4382, 'subvers': 4383, 'flamboy': 4384, 'glow': 4385, 'uncl': 4386, 'bigger': 4387, 'action-pack': 4388, 'blatant': 4389, 'lurid': 4390, 'access': 4391, 'climat': 4392, 'hardship': 4393, 'session': 4394, 'medic': 4395, 'meaning': 4396, 'east': 4397, 'trite': 4398, 'moreov': 4399, 'structur': 4400, 'mean-spirit': 4401, 'awkward': 4402, 'baddi': 4403, 'angela': 4404, 'deni': 4405, 'toler': 4406, 'bounti': 4407, 'whini': 4408, 'blond': 4409, 'warm': 4410, 'egotist': 4411, 'smarmi': 4412, 'overboard': 4413, 'gina': 4414, 'ugh': 4415, 'muscular': 4416, 'lanc': 4417, 'optimist': 4418, 'mock': 4419, 'ricki': 4420, 'sole': 4421, 'statement': 4422, 'conceiv': 4423, 'sara': 4424, 'sarcasm': 4425, 'anderson': 4426, 'feminin': 4427, 'pamela': 4428, 'denis': 4429, 'smoke': 4430, 'redempt': 4431, 'christin': 4432, 'fart': 4433, 'devito': 4434, 'grinch': 4435, 'w.': 4436, 'ration': 4437, 'ron': 4438, '1966': 4439, 'jerk': 4440, 'self-cent': 4441, 'requisit': 4442, 'mine': 4443, 'penguin': 4444, 'supermarket': 4445, 'contrari': 4446, 'untal': 4447, 'tiresom': 4448, 'childhood': 4449, 'cultur': 4450, 'nanni': 4451, 'imperfect': 4452, 'urban': 4453, 'culprit': 4454, 'mold': 4455, 'barbara': 4456, 'dam': 4457, 'reluct': 4458, 'worker': 4459, 'backwood': 4460, 'heel': 4461, 'suav': 4462, 'plant': 4463, 'statur': 4464, 'stanwyck': 4465, 'gari': 4466, 'partli': 4467, 'defenc': 4468, 'sneer': 4469, 'disregard': 4470, 'traitor': 4471, 'lifelong': 4472, 'liner': 4473, 'lane': 4474, 'priscilla': 4475, 'cum': 4476, 'cabin': 4477, 'adrian': 4478, 'antagonist': 4479, 'artifici': 4480, 'dawson': 4481, 'cocki': 4482, 'monstrou': 4483, 'untouch': 4484, 'scratch': 4485, 'exit': 4486, 'intric': 4487, 'back-stori': 4488, 'uncov': 4489, 'enthral': 4490, 'lou': 4491, 'bunni': 4492, 'occas': 4493, 'growth': 4494, 'relentlessli': 4495, 'archetyp': 4496, 'bogart': 4497, 'humphrey': 4498, 'laura': 4499, 'cliché': 4500, 'colleagu': 4501, 'blink': 4502, 'frighten': 4503, 'ant': 4504, 'wore': 4505, 'bone': 4506, 'novemb': 4507, 'octob': 4508, 'scene.': 4509, 'frontal': 4510, 'bathtub': 4511, 'ban': 4512, 'nasti': 4513, 'altman': 4514, 'jungl': 4515, 'kidnapp': 4516, 'meal': 4517, 'undress': 4518, 'decapit': 4519, 'theatr': 4520, 'waist': 4521, 'darkli': 4522, 'movie-mak': 4523, 'artsi': 4524, 'c': 4525, 'well-craft': 4526, 'burst': 4527, 'luckili': 4528, 'japan': 4529, 'verdict': 4530, 'gather': 4531, 'invis': 4532, 'tarantino': 4533, 'chaplin': 4534, 'priceless': 4535, 'conquest': 4536, 'balloon': 4537, 'hungarian': 4538, 'switzerland': 4539, 'exhibit': 4540, 'chair': 4541, 'barber': 4542, 'ingeni': 4543, 'signal': 4544, 'pack': 4545, 'scandal': 4546, 'billi': 4547, 'wive': 4548, 'microphon': 4549, 'activ': 4550, 'propos': 4551, 'innov': 4552, 'overlong': 4553, 'awar': 4554, 'muddi': 4555, 'kaufman': 4556, 'allen': 4557, 'warp': 4558, 'unimagin': 4559, 'minion': 4560, 'pleasantli': 4561, 'pepper': 4562, 'loop': 4563, 'drab': 4564, 'wide': 4565, 'geek': 4566, 'incident': 4567, 'stylist': 4568, 'whoever': 4569, 'swear': 4570, 'mug': 4571, 'overt': 4572, 'protagonist': 4573, 'behold': 4574, 'rub': 4575, 'albeit': 4576, 'dilemma': 4577, 'user': 4578, 'chord': 4579, 'unforgett': 4580, 'necessarili': 4581, 'jess': 4582, 'facil': 4583, 'blossom': 4584, 'fragil': 4585, 'compliment': 4586, 'fleet': 4587, 'outright': 4588, 'elijah': 4589, 'nest': 4590, 'launch': 4591, 'eight': 4592, 'sexist': 4593, 'spawn': 4594, 'button': 4595, 'simul': 4596, '1990': 4597, 'realism': 4598, 'instantli': 4599, 'paragraph': 4600, 'code': 4601, 'lethal': 4602, 'expert': 4603, '2008': 4604, 'bourn': 4605, 'gush': 4606, 'empir': 4607, 'landmark': 4608, 'pit': 4609, 'else.': 4610, 'flood': 4611, 'refreshingli': 4612, 'di': 4613, 'smaller': 4614, 'deputi': 4615, 'calm': 4616, 'die-hard': 4617, 'harder': 4618, 'self-indulg': 4619, 'far-fetch': 4620, 'nightmarish': 4621, 'kiddi': 4622, 'hallucin': 4623, 'inher': 4624, 'trailer': 4625, 'circa': 4626, 'stoner': 4627, 'made.': 4628, 'wacki': 4629, 'gadget': 4630, 'legaci': 4631, 'live-act': 4632, 'interesting.': 4633, 'admittedli': 4634, 'peak': 4635, '1958': 4636, 'percept': 4637, 'fuller': 4638, 'meat': 4639, 'taboo': 4640, '2002': 4641, 'crawl': 4642, 'unforgiv': 4643, 'decay': 4644, 'asset': 4645, 'eccentr': 4646, 'retrospect': 4647, 'staff': 4648, 'septemb': 4649, '1956': 4650, 'versatil': 4651, 'shack': 4652, 'promptli': 4653, '1999': 4654, 'surrend': 4655, 'litter': 4656, 'mickey': 4657, 'desol': 4658, 'stapl': 4659, 'indulg': 4660, 'prolif': 4661, 'undoubtedli': 4662, 'underli': 4663, 'spout': 4664, 'exact': 4665, 'sunshin': 4666, 'toss': 4667, 'carel': 4668, 'steel': 4669, 'broad': 4670, 'conclud': 4671, 'utterli': 4672, 'aerial': 4673, 'option': 4674, 'naval': 4675, 'homeland': 4676, 'passag': 4677, 'exil': 4678, 'polici': 4679, 'newli': 4680, 'orbit': 4681, 'vital': 4682, '1971': 4683, 'death.': 4684, '......': 4685, 'ya': 4686, 'oz': 4687, 'saga': 4688, 'chat': 4689, 'rita': 4690, 'prompt': 4691, 'derang': 4692, 'rudi': 4693, 'outdoor': 4694, 'induc': 4695, '1949': 4696, 'bliss': 4697, 'huh': 4698, 'licens': 4699, 'thrive': 4700, '95': 4701, 'jealou': 4702, 'hayworth': 4703, 'heap': 4704, 'exterior': 4705, 'night.': 4706, 'galleri': 4707, 'elus': 4708, 'constant': 4709, 'himself.': 4710, 'widmark': 4711, 'fox': 4712, 'dust': 4713, 'so.': 4714, 'cardboard': 4715, 'photo': 4716, '1952': 4717, 'orang': 4718, 'reluctantli': 4719, 'diana': 4720, 'transfer': 4721, 'conveni': 4722, 'tender': 4723, 'unconvent': 4724, 'section': 4725, 'repress': 4726, 'region': 4727, 'slave': 4728, 'embark': 4729, 'brave': 4730, 'kitti': 4731, 'prostitut': 4732, 'imperson': 4733, 'novelist': 4734, 'revolutionari': 4735, 'madsen': 4736, 'cd': 4737, 'repeatedli': 4738, 'onlin': 4739, 'divis': 4740, 'internet': 4741, 'all.': 4742, 'knife': 4743, 'blunt': 4744, 'fort': 4745, 'stare': 4746, 'stink': 4747, 'zoom': 4748, 'canon': 4749, '@': 4750, 'hudson': 4751, 'enthusiasm': 4752, 'point.': 4753, 'disco': 4754, 'ol': 4755, 'blaxploit': 4756, 'erni': 4757, 'cave': 4758, 'nightclub': 4759, 'bark': 4760, 'incompet': 4761, 'rhyme': 4762, 'aveng': 4763, 'subtleti': 4764, '2006': 4765, 'promo': 4766, 'visitor': 4767, 'kindli': 4768, 'hillbilli': 4769, 'settl': 4770, 'ordeal': 4771, 'understat': 4772, 'lovingli': 4773, 'ever.': 4774, 'ineffect': 4775, 'expedit': 4776, 'pat': 4777, 'swamp': 4778, 'food': 4779, 'domain': 4780, 'motor': 4781, 'australian': 4782, 'strand': 4783, 'prey': 4784, 'dear': 4785, 'showdown': 4786, 'part.': 4787, 'hungri': 4788, 'shark': 4789, 'crocodil': 4790, 'helm': 4791, 'trio': 4792, 'ashley': 4793, 'anni': 4794, 'iq': 4795, 'daddi': 4796, 'molli': 4797, 'outfit': 4798, 'wig': 4799, 'alright': 4800, '1982': 4801, 'quirki': 4802, 'cherri': 4803, 'sleeper': 4804, 'tongue-in-cheek': 4805, 'tiger': 4806, 'furthermor': 4807, 'disagre': 4808, 'china': 4809, 'korea': 4810, 'detract': 4811, 'sword': 4812, 'complement': 4813, 'villag': 4814, 'chant': 4815, 'donat': 4816, 'sprinkl': 4817, 'interlud': 4818, 'suburban': 4819, 'reject': 4820, 'andr': 4821, 'harrison': 4822, 'declar': 4823, 'domest': 4824, 'holiday': 4825, 'compos': 4826, 'inept': 4827, 'first-tim': 4828, 'stars.': 4829, 'chip': 4830, 'aris': 4831, 'rex': 4832, 'samantha': 4833, 'monument': 4834, 'hallway': 4835, 'ancient': 4836, 'rainbow': 4837, 'earnest': 4838, '1939': 4839, 'equival': 4840, 'revel': 4841, \"o'tool\": 4842, 'lumin': 4843, 'palpabl': 4844, 'courtesi': 4845, 'mourn': 4846, 'forgett': 4847, 'herbert': 4848, 'predecessor': 4849, 'lesli': 4850, 'cohort': 4851, 'big-budget': 4852, 'real-lif': 4853, 'highest': 4854, 'cruis': 4855, 'ambigu': 4856, 'gestur': 4857, 'revers': 4858, 'historian': 4859, 'flourish': 4860, 'pole': 4861, 'perspect': 4862, 'psych': 4863, 'subdu': 4864, 'invit': 4865, 'inner': 4866, 'anonym': 4867, 'probe': 4868, 'odyssey': 4869, 'twentieth': 4870, 'sand': 4871, 'ident': 4872, 'geograph': 4873, 'greec': 4874, 'dant': 4875, 'outcast': 4876, 'leisur': 4877, 'medit': 4878, 'underst': 4879, 'paraphras': 4880, 'crumbl': 4881, 'misti': 4882, 'intim': 4883, 'homer': 4884, 'tourist': 4885, 'lowest': 4886, 'vanish': 4887, 'ether': 4888, 'strung': 4889, 'spare': 4890, 'retel': 4891, 'face.': 4892, 'blind': 4893, 'antiqu': 4894, 'ian': 4895, 'cusack': 4896, 'belli': 4897, 'scorpion': 4898, 'persona': 4899, 'magician': 4900, 'woodi': 4901, 'sensibl': 4902, 'tune': 4903, 'farrel': 4904, 'manhattan': 4905, 'strain': 4906, 'sid': 4907, 'evok': 4908, 'mia': 4909, 'eas': 4910, 'tick': 4911, 'importantli': 4912, 'purpl': 4913, '1994': 4914, \"c'mon\": 4915, 'muster': 4916, 'diva': 4917, 'span': 4918, 'repertoir': 4919, 'concert': 4920, 'meticul': 4921, 'inferior': 4922, 'formid': 4923, 'acclaim': 4924, 'sub': 4925, 'genius': 4926, 'dealer': 4927, 'belong': 4928, 'visconti': 4929, 'monday': 4930, 'vari': 4931, 'stark': 4932, 'encompass': 4933, 'instructor': 4934, 'twelv': 4935, 'dancer': 4936, 'reappear': 4937, 'june': 4938, 'gloriou': 4939, 'patricia': 4940, 'omit': 4941, 'acquaint': 4942, 'mandatori': 4943, '1959': 4944, 'curli': 4945, 'cent': 4946, 'venu': 4947, 'janitor': 4948, 'larri': 4949, '99': 4950, 'hilarious.': 4951, 'moe': 4952, 'elicit': 4953, 'spree': 4954, 'weirdo': 4955, 'illog': 4956, 'monoton': 4957, 'loneli': 4958, 'safeti': 4959, 'lurk': 4960, 'screen.': 4961, 'sorta': 4962, 'gabriel': 4963, 'orgi': 4964, 'crude': 4965, 'regist': 4966, 'non-exist': 4967, 'up.': 4968, 'today.': 4969, 'dismay': 4970, 'exot': 4971, 'stewart': 4972, 'jacobi': 4973, 'princess': 4974, 'oppon': 4975, 'swing': 4976, 'mumbl': 4977, 'blade': 4978, 'aloof': 4979, 'ensembl': 4980, 'fitzgerald': 4981, 'spacey': 4982, 'headlin': 4983, 'cheadl': 4984, 'traumat': 4985, 'matthew': 4986, 't.': 4987, 'pearl': 4988, 'turmoil': 4989, 'freak': 4990, 'california': 4991, 'northern': 4992, 'all-tim': 4993, '1977': 4994, \"'em\": 4995, 'percent': 4996, 'programm': 4997, 'seinfeld': 4998, 'for.': 4999, 'spew': 5000, 'brows': 5001, 'conspiraci': 5002, 'employe': 5003, 'show.': 5004, 'subtext': 5005, 'phenomenon': 5006, 'suffic': 5007, 'original.': 5008, 'fabric': 5009, 'quinn': 5010, 'superflu': 5011, '2nd': 5012, 'bradi': 5013, 'reviv': 5014, 'skinni': 5015, 'undercov': 5016, 'peggi': 5017, 'lampoon': 5018, 'diamond': 5019, 'goddess': 5020, 'buff': 5021, 'melodrama': 5022, 'bulli': 5023, 'bleak': 5024, 'expens': 5025, 'guitar': 5026, 'reynold': 5027, 'stomach': 5028, 'territori': 5029, 'cowboy': 5030, 'rape': 5031, 'performance.': 5032, 'coward': 5033, 'ned': 5034, 'pulp': 5035, 'core': 5036, 'hardest': 5037, 'caricatur': 5038, 'midnight': 5039, 'are.': 5040, 'duel': 5041, 'deliver': 5042, 'paula': 5043, 'babysit': 5044, 'mum': 5045, 'hum': 5046, 'devis': 5047, \"'it\": 5048, 'marion': 5049, 'recognis': 5050, 'crusad': 5051, 'scenes.': 5052, '1993': 5053, 'sorrow': 5054, 'chin': 5055, 'seduc': 5056, 'ceil': 5057, 'hood': 5058, 'minim': 5059, 'thwart': 5060, 'improvis': 5061, 'boredom': 5062, 'rickman': 5063, 'cart': 5064, 'hilar': 5065, 'slimi': 5066, 'mel': 5067, 'servant': 5068, 'blaze': 5069, 'havoc': 5070, 'saddl': 5071, 'cari': 5072, 'sh': 5073, 'tax': 5074, 'slightest': 5075, 'feminist': 5076, 'laugh-out-loud': 5077, 'freeli': 5078, 'z': 5079, 'misfir': 5080, 'insist': 5081, 'sacrific': 5082, 'pawn': 5083, 'opt': 5084, 'spoke': 5085, 'accentu': 5086, 'ken': 5087, 'porno': 5088, 'sneak': 5089, 'nyc': 5090, 'inevit': 5091, 'void': 5092, 'unreal': 5093, 'downright': 5094, 'groov': 5095, 'premier': 5096, 'evalu': 5097, 'candid': 5098, 'estat': 5099, 'jackson': 5100, 'negoti': 5101, 'effici': 5102, 'chicken': 5103, 'board': 5104, 'invari': 5105, 'divid': 5106, 'trump': 5107, 'chess': 5108, 'restaur': 5109, 'organ': 5110, 'applic': 5111, 'dive': 5112, 'casualti': 5113, 'corpor': 5114, 'advertis': 5115, 'recognit': 5116, 'reliabl': 5117, 'strategi': 5118, 'goal': 5119, 'indic': 5120, 'partial': 5121, 'exemplifi': 5122, 'infam': 5123, 'easier': 5124, 'jet': 5125, 'root': 5126, 'cush': 5127, 'comb': 5128, 'back.': 5129, 'nap': 5130, 'in.': 5131, 'principl': 5132, 'stadium': 5133, 'crucial': 5134, 'rigid': 5135, 'plead': 5136, 'fanat': 5137, 'qualifi': 5138, 'senior': 5139, 'wage': 5140, 'gender': 5141, 'dot': 5142, 'paradox': 5143, 'heat': 5144, '`': 5145, 'characters.': 5146, 'f.': 5147, 'poker': 5148, 'middle-class': 5149, 'crisp': 5150, 'feed': 5151, 'supposedli': 5152, 'vs': 5153, 'overshadow': 5154, 'hackney': 5155, 'tower': 5156, 'splatter': 5157, 'gratuit': 5158, 'rourk': 5159, 'unnot': 5160, 'forsyth': 5161, 'mini': 5162, 'aussi': 5163, 'smug': 5164, 'flush': 5165, 'analysi': 5166, 'us.': 5167, 'era.': 5168, 'post-war': 5169, 'outlook': 5170, 'bound': 5171, 'reform': 5172, 'slice': 5173, 'gerard': 5174, 'ellen': 5175, 'hubbi': 5176, 'abbott': 5177, 'that.': 5178, 'fi': 5179, 'disc': 5180, 'dorothi': 5181, 'costello': 5182, 'bid': 5183, 'disastr': 5184, 'grasp': 5185, 'monica': 5186, '500': 5187, 'inappropri': 5188, 'minu': 5189, 'ago.': 5190, 'accomplish': 5191, 'factori': 5192, 'heiress': 5193, 'redund': 5194, 'mend': 5195, 'trend': 5196, 'demograph': 5197, 'client': 5198, 'primarili': 5199, 'advanc': 5200, 'hitch': 5201, 'ditch': 5202, 'tout': 5203, 'belt': 5204, 'afford': 5205, 'apolog': 5206, 'kirk': 5207, 'contradict': 5208, 'strap': 5209, 'openli': 5210, 'sampl': 5211, 'prehistor': 5212, 'helmet': 5213, 'joan': 5214, 'primit': 5215, 'thrust': 5216, 'bloat': 5217, 'loot': 5218, 'elabor': 5219, 'log': 5220, 'flirt': 5221, 'bike': 5222, 'blast': 5223, 'clay': 5224, 'fling': 5225, 'skull': 5226, 'romanian': 5227, 'hmmm': 5228, 'down.': 5229, 'lol': 5230, 'bedroom': 5231, 'demean': 5232, 'neurot': 5233, 'awak': 5234, 'laser': 5235, 'limb': 5236, 'soviet': 5237, 'mode': 5238, 'max': 5239, 'pope': 5240, 'stalwart': 5241, 'nun': 5242, 'revolt': 5243, 'inject': 5244, 'tho': 5245, 'broke': 5246, 'retriev': 5247, 'winc': 5248, 'something.': 5249, 'argument': 5250, 'neat': 5251, 'nut': 5252, 'entertaining.': 5253, 'bloke': 5254, 'heather': 5255, 'artistri': 5256, 'streak': 5257, 'existenti': 5258, 'bizarr': 5259, 'lastli': 5260, 'method': 5261, 'diseas': 5262, 'cyborg': 5263, 'scrap': 5264, 'kim': 5265, 'set-up': 5266, 'em': 5267, 'scope': 5268, 'cake': 5269, 'twilight': 5270, 'wick': 5271, 'undergo': 5272, 'react': 5273, 'religion': 5274, 'sang': 5275, 'coma': 5276, 'dynam': 5277, 'pornograph': 5278, 'scarier': 5279, 'publish': 5280, 'alleg': 5281, '1988': 5282, 'carrier': 5283, 'deck': 5284, '25': 5285, 'gentli': 5286, 'enchant': 5287, 'anxiou': 5288, 'delic': 5289, 'label': 5290, 'hugo': 5291, 'brad': 5292, 'weav': 5293, 'heartwarm': 5294, 'australia': 5295, '13th': 5296, 'jacket': 5297, 'gori': 5298, 'cemeteri': 5299, 'deceas': 5300, 'owner': 5301, 'chan': 5302, 'realm': 5303, 'kung-fu': 5304, '1978': 5305, 'buzz': 5306, 'sergeant': 5307, 'roam': 5308, 'instruct': 5309, 'enter': 5310, 'superman': 5311, 'better.': 5312, 'stomp': 5313, 'twin': 5314, 'about.': 5315, 'incestu': 5316, 'vapid': 5317, 'katherin': 5318, 'olsen': 5319, 'abrupt': 5320, 'trauma': 5321, 'unfinish': 5322, 'griev': 5323, 'non': 5324, 'gritti': 5325, 'clair': 5326, 'pursuit': 5327, 'entertainment.': 5328, 'mankind': 5329, 'glover': 5330, 'impuls': 5331, 'spars': 5332, 'consciou': 5333, 'newcom': 5334, 'juliett': 5335, 'sarcast': 5336, 'bearabl': 5337, 'prop': 5338, '45': 5339, 'quaid': 5340, 'dana': 5341, 'steadi': 5342, '1965': 5343, 'stern': 5344, 'clip': 5345, 'kurosawa': 5346, 'lon': 5347, 'bruce': 5348, 'boon': 5349, 'chaney': 5350, 'accompani': 5351, 'media': 5352, 'sweden': 5353, 'distort': 5354, 'upbeat': 5355, 'mormon': 5356, 'halt': 5357, 'therefor': 5358, 'way.': 5359, 'decept': 5360, 'exhilar': 5361, 'blank': 5362, 'reduc': 5363, 'sigh': 5364, 'morri': 5365, 'undertak': 5366, 'dodgi': 5367, 'slash': 5368, 'sf': 5369, 'classifi': 5370, 'id': 5371, 'recruit': 5372, 'home.': 5373, 'cohen': 5374, 'simplic': 5375, 'majest': 5376, 'saddest': 5377, 'family.': 5378, 'grandpa': 5379, 'nurs': 5380, 'horrend': 5381, 'patent': 5382, 'incongru': 5383, 'operat': 5384, 'driven': 5385, 'betti': 5386, 'reconcil': 5387, 'leather': 5388, 'pornographi': 5389, 'ostens': 5390, 'phenomen': 5391, 'environ': 5392, 'taught': 5393, 'sensual': 5394, 'melancholi': 5395, 'gypsi': 5396, 'grant': 5397, 'rebel': 5398, 'shrink': 5399, 'veng': 5400, 'naturalist': 5401, 'centr': 5402, 'technicolor': 5403, 'susan': 5404, 'gregori': 5405, 'housewif': 5406, 'harm': 5407, 'african-american': 5408, 'lace': 5409, 'shout': 5410, 'mick': 5411, 'jam': 5412, 'pot': 5413, 'sadist': 5414, 'sordid': 5415, 'bronson': 5416, 'charl': 5417, 'owl': 5418, 'cousin': 5419, 'psychiatrist': 5420, 'dane': 5421, 'experience.': 5422, 'ms': 5423, 'setup': 5424, 'joel': 5425, 'slug': 5426, 'worm': 5427, 'eaten': 5428, 'andrea': 5429, 'intro': 5430, 'parrot': 5431, 'hindi': 5432, 'directori': 5433, 'crappi': 5434, 'overli': 5435, '1984': 5436, 'hurt': 5437, 'victoria': 5438, 'distinctli': 5439, 'kent': 5440, 'reign': 5441, 'ensur': 5442, 'problemat': 5443, 'rio': 5444, 'devast': 5445, 'convey': 5446, 'specul': 5447, 'destin': 5448, 'extract': 5449, 'romantic': 5450, 'pardon': 5451, 'miseri': 5452, 'brazilian': 5453, 'persuad': 5454, 'drum': 5455, 'pin': 5456, 'behav': 5457, 'pervert': 5458, 'von': 5459, '}': 5460, 'flashi': 5461, 'movie-go': 5462, 'keira': 5463, 'dizzi': 5464, 'sympath': 5465, '{': 5466, 'manifest': 5467, 'knightley': 5468, 'choppi': 5469, 'tangl': 5470, 'tini': 5471, 'billion': 5472, 'kitten': 5473, 'phil': 5474, 'unorigin': 5475, 'hunk': 5476, 'broken': 5477, 'interspers': 5478, 'know.': 5479, 'babbl': 5480, 'menac': 5481, 'highway': 5482, 'punchlin': 5483, \"'what\": 5484, 'inabl': 5485, 'dysfunct': 5486, 'arbitrari': 5487, 'econom': 5488, 'function': 5489, 'economi': 5490, 'conduct': 5491, 'incom': 5492, 'profit': 5493, 'exploit': 5494, 'science-fict': 5495, 'intellectu': 5496, 'campu': 5497, 'spielberg': 5498, 'mutat': 5499, 'obnoxi': 5500, 'modest': 5501, 'dean': 5502, 'hamilton': 5503, 'neil': 5504, 'goodi': 5505, 'rat': 5506, 'activist': 5507, 'willard': 5508, 'mutil': 5509, 'raven': 5510, 'pam': 5511, 'linda': 5512, 'disfigur': 5513, 'hellrais': 5514, 'keen': 5515, 'ending.': 5516, 'bent': 5517, 'ira': 5518, 'sue': 5519, 'peel': 5520, '1987': 5521, 'assort': 5522, 'julia': 5523, 'faint': 5524, 'messi': 5525, 'vinni': 5526, 'co': 5527, 'lift': 5528, 'muddl': 5529, 'governor': 5530, 'earthquak': 5531, 'apocalyps': 5532, 'furiou': 5533, 'demi': 5534, 'alert': 5535, 'coincident': 5536, 'natali': 5537, 'willing': 5538, 'dirt': 5539, 'traffic': 5540, 'counti': 5541, 'hitchhik': 5542, 'uncontrol': 5543, 'passiv': 5544, 'overwhelm': 5545, 'sack': 5546, 'meantim': 5547, 'grandfath': 5548, 'resent': 5549, 'motorcycl': 5550, 'effects.': 5551, 'evolut': 5552, 'butterfli': 5553, 'incap': 5554, 'dublin': 5555, 'joyc': 5556, 'intact': 5557, 'huston': 5558, 'shred': 5559, 'fritz': 5560, 'nine': 5561, 'bra': 5562, 'bauer': 5563, 'counter': 5564, 'sutherland': 5565, 'agenc': 5566, 'presidenti': 5567, '24': 5568, 'nina': 5569, 'conspir': 5570, 'primari': 5571, 'justin': 5572, 'reunit': 5573, 'howl': 5574, 'lt.': 5575, 'sgt': 5576, 'reunion': 5577, 'anticip': 5578, 'capt': 5579, '#': 5580, 'shore': 5581, 'elvi': 5582, 'suspici': 5583, 'molest': 5584, '1989': 5585, 'soup': 5586, '1992': 5587, 'nauseat': 5588, 'cash': 5589, 'herman': 5590, 'beast': 5591, 'pervers': 5592, 'boom': 5593, 'too.': 5594, 'noteworthi': 5595, 'nineti': 5596, 'hong': 5597, 'humili': 5598, 'calcul': 5599, 'wield': 5600, 'hk': 5601, 'plotlin': 5602, 'undeni': 5603, 'slapstick': 5604, 'wright': 5605, 'infatu': 5606, 'arrow': 5607, 'jenni': 5608, 'shini': 5609, 'afghanistan': 5610, 'runner': 5611, 'foster': 5612, '1/2': 5613, 'book.': 5614, 'pg-13': 5615, 'proper': 5616, 'energet': 5617, 'prone': 5618, 'ridden': 5619, 'kristin': 5620, 'vigor': 5621, 'hardcor': 5622, 'believable.': 5623, 'smoothli': 5624, 'stroll': 5625, 'pirat': 5626, 'compon': 5627, 'valley': 5628, 'patch': 5629, 's.': 5630, 'others.': 5631, 'fairbank': 5632, 'hart': 5633, 'day.': 5634, 'deservedli': 5635, 'brett': 5636, 'lifeless': 5637, 'gal': 5638, 'vaniti': 5639, 'poster': 5640, 'charismat': 5641, 'rapper': 5642, 'alongsid': 5643, 'clutch': 5644, 'knee': 5645, 'raimi': 5646, 'auto': 5647, 'minimalist': 5648, 'graini': 5649, 'shop': 5650, 'hackman': 5651, 'curios': 5652, 'dip': 5653, 'pipe': 5654, 'wax': 5655, 'mannequin': 5656, 'facial': 5657, 'other.': 5658, 'watson': 5659, 'times.': 5660, 'gentleman': 5661, 'outta': 5662, 'sooner': 5663, 'bubbl': 5664, 'acid': 5665, 'unnecessarili': 5666, 'chocol': 5667, 'nonexist': 5668, 'aspir': 5669, 'romania': 5670, 'wolv': 5671, 'occup': 5672, 'propheci': 5673, 'incest': 5674, '19': 5675, 'leap': 5676, 'morbid': 5677, 'republ': 5678, 'eastern': 5679, 'bori': 5680, 'czech': 5681, 'holocaust': 5682, 'unpredict': 5683, 'artifact': 5684, 'capitalist': 5685, 'per': 5686, 'poignanc': 5687, 'clash': 5688, 'reson': 5689, 'glorifi': 5690, 'metaphor': 5691, 'automat': 5692, 'uwe': 5693, 'dragon': 5694, 'boll': 5695, 'leagu': 5696, 'hardi': 5697, '1934': 5698, 'templ': 5699, 'carol': 5700, 'laurel': 5701, 'talki': 5702, 'hideous': 5703, 'digniti': 5704, 'now.': 5705, 'tonight': 5706, 'collar': 5707, 'colonel': 5708, 'brood': 5709, 'mystic': 5710, 'overbear': 5711, 'skeptic': 5712, 'carey': 5713, 'predat': 5714, 'speci': 5715, 'profan': 5716, 'profound': 5717, 'worse.': 5718, 'arguabl': 5719, 'resort': 5720, 'assembl': 5721, 'schwarzenegg': 5722, 'rous': 5723, 'adher': 5724, 'fundament': 5725, 'franchis': 5726, 'undermin': 5727, 'rapid': 5728, 'pander': 5729, 'punctuat': 5730, 'larger': 5731, 'array': 5732, 'absenc': 5733, 'personifi': 5734, 'heartless': 5735, 'whimsic': 5736, 'debacl': 5737, 'undevelop': 5738, 'motif': 5739, 'vile': 5740, 'transpar': 5741, 'tread': 5742, 'penetr': 5743, 'cutout': 5744, 'two-dimension': 5745, 'persuas': 5746, 'drivel': 5747, 'caribbean': 5748, 'outing': 5749, 'spinal': 5750, 'griffith': 5751, 'characterist': 5752, 'off.': 5753, 'introspect': 5754, 'trim': 5755, 'fund': 5756, 'bartend': 5757, 'discourag': 5758, 'appoint': 5759, 'detach': 5760, 'wri': 5761, 'grass': 5762, 'ethan': 5763, 'bum': 5764, 'brigitt': 5765, 'g.': 5766, 'slob': 5767, 'repair': 5768, 'margaret': 5769, 'expertli': 5770, 'replic': 5771, 'unconsci': 5772, 'feel-good': 5773, 'co.': 5774, 'sweetheart': 5775, 'felix': 5776, 'clara': 5777, 'cigarett': 5778, 'correspond': 5779, 'dreami': 5780, 'equat': 5781, 'impecc': 5782, 'therein': 5783, 'novak': 5784, 'breakdown': 5785, '75': 5786, '1933': 5787, 'exposur': 5788, 'sale': 5789, 'light-heart': 5790, 'leon': 5791, 'passeng': 5792, 'philadelphia': 5793, 'helpless': 5794, 'drove': 5795, 'caper': 5796, 'philip': 5797, 'shotgun': 5798, 'brick': 5799, 'scatter': 5800, 'unfamiliar': 5801, 'neatli': 5802, 'incarn': 5803, 'retreat': 5804, 'illeg': 5805, '1967': 5806, 'graffiti': 5807, 'unsatisfi': 5808, 'extern': 5809, 'aggrav': 5810, 'abruptli': 5811, 'caution': 5812, 'synchron': 5813, '1973': 5814, 'audio': 5815, 'crosbi': 5816, 'underwat': 5817, 'improb': 5818, 'reek': 5819, 'reliev': 5820, 'constitut': 5821, 'vega': 5822, 'gotten': 5823, 'moan': 5824, 'fist': 5825, 'dracula': 5826, 'depriv': 5827, 'conneri': 5828, 'junki': 5829, 'upstair': 5830, 'disord': 5831, 'toronto': 5832, 'pound': 5833, 'whack': 5834, 'preserv': 5835, 'adolesc': 5836, 'compens': 5837, 'horni': 5838, 'saniti': 5839, 'lectur': 5840, 'disciplin': 5841, 'coloni': 5842, 'branch': 5843, 'indi': 5844, 'pic': 5845, 'hobbi': 5846, 'rambl': 5847, 'austin': 5848, 'dumber': 5849, 'tank': 5850, 'rotat': 5851, 'preciou': 5852, 'exclud': 5853, 'infecti': 5854, 'northwest': 5855, 'grossli': 5856, 'buster': 5857, 'vertigo': 5858, 'tens': 5859, 'etc.': 5860, 'circu': 5861, 'gigant': 5862, 'ford': 5863, 'herd': 5864, 'coleman': 5865, 'wayn': 5866, 'wagon': 5867, 'swallow': 5868, 'raoul': 5869, 'box-offic': 5870, 'buffalo': 5871, 'trail': 5872, 'curri': 5873, 'gere': 5874, 'abysm': 5875, 'gorilla': 5876, 'assur': 5877, 'primal': 5878, 'uniformli': 5879, 'norton': 5880, 'mclaglen': 5881, 'foreshadow': 5882, 'lend': 5883, 'franki': 5884, 'architect': 5885, 'gee': 5886, 'atom': 5887, 'real.': 5888, 'ie': 5889, 'flag': 5890, 'bs': 5891, 'experiment': 5892, 'constraint': 5893, 'global': 5894, 'stellar': 5895, 'assess': 5896, 'filter': 5897, 'patton': 5898, 'radiat': 5899, 'rever': 5900, 'foremost': 5901, 'reason.': 5902, 'overdos': 5903, 'academ': 5904, 'downfal': 5905, 'place.': 5906, 'though.': 5907, 'abduct': 5908, 'chain': 5909, 'delud': 5910, 'influenti': 5911, 'michel': 5912, 'bloodthirsti': 5913, 'inhuman': 5914, 'enough.': 5915, 'cartoonish': 5916, 'palma': 5917, 'necess': 5918, 'pfeiffer': 5919, 'purs': 5920, 'slumber': 5921, 'r-rate': 5922, 'squad': 5923, 'cheerlead': 5924, 'tomb': 5925, 'pump': 5926, 'literatur': 5927, 'mgm': 5928, 'wardrob': 5929, 'eyr': 5930, 'magazin': 5931, 'tent': 5932, 'stimul': 5933, 'aristocrat': 5934, 'bewar': 5935, 'guilt': 5936, 'misunderstood': 5937, 'overton': 5938, 'powel': 5939, 'inadvert': 5940, 'ex-wif': 5941, 'golf': 5942, 'miami': 5943, 'telephon': 5944, 'busey': 5945, 'doyl': 5946, 'darl': 5947, 'conan': 5948, 'basil': 5949, '1946': 5950, 'afterthought': 5951, 'smuggl': 5952, 'rathbon': 5953, 'scotland': 5954, 'slack': 5955, 'sherlock': 5956, 'bumbl': 5957, 'hairstyl': 5958, 'stargat': 5959, 'compris': 5960, 'deem': 5961, 'companion': 5962, 'deed': 5963, 'notch': 5964, 'choke': 5965, 'sappi': 5966, 'sheep': 5967, 'drain': 5968, 'stinker': 5969, 'ranger': 5970, 'fast-forward': 5971, 'sleepwalk': 5972, 'run-of-the-mil': 5973, 'forbidden': 5974, 'camper': 5975, \"'80\": 5976, 'pad': 5977, 'coke': 5978, 'strut': 5979, 'amazon': 5980, 'snake': 5981, 'venom': 5982, 'so-so': 5983, 'ambianc': 5984, 'ancestor': 5985, 'hispan': 5986, 'mislead': 5987, 'zone': 5988, 'groundbreak': 5989, 'dime': 5990, 'advers': 5991, 'malon': 5992, 'thought-provok': 5993, 'ex-girlfriend': 5994, 'anti': 5995, 'hartley': 5996, 'cocktail': 5997, 'incorrect': 5998, 'impos': 5999, 'eyebrow': 6000, 'treacher': 6001, 'unattract': 6002, 'ginger': 6003, 'sleepi': 6004, 'quietli': 6005, 'youngest': 6006, 'awaken': 6007, 'discoveri': 6008, 'heart.': 6009, 'g': 6010, 'soak': 6011, 'herzog': 6012, 'airport': 6013, 'fiancé': 6014, 'horrifi': 6015, 'ate': 6016, 'notwithstand': 6017, 'streep': 6018, 'courtroom': 6019, 'meryl': 6020, 'jacob': 6021, 'drama.': 6022, 'paltrow': 6023, 'seclud': 6024, 'austen': 6025, 'envi': 6026, 'emma': 6027, 'webb': 6028, 'janet': 6029, 'characteris': 6030, 'testimoni': 6031, 'radio': 6032, 'dan': 6033, 'sylvia': 6034, 'upsid': 6035, 'wagner': 6036, 'alain': 6037, 'roar': 6038, 'airlin': 6039, 'starter': 6040, 'dolph': 6041, 'it´': 6042, 'troop': 6043, 'pill': 6044, 'uncompromis': 6045, 'disintegr': 6046, 'stir': 6047, 'thoma': 6048, 'futil': 6049, 'matthau': 6050, 'confirm': 6051, 'winston': 6052, 'lightweight': 6053, 'bergman': 6054, 'dentist': 6055, 'hawn': 6056, 'bachelor': 6057, 'goldi': 6058, 'ingrid': 6059, 'interplay': 6060, 'dexter': 6061, 'casual': 6062, 'overnight': 6063, 'coen': 6064, 'wannab': 6065, 'regularli': 6066, 'recur': 6067, 'curious': 6068, 'st': 6069, 'ronald': 6070, 'deepest': 6071, 'elia': 6072, 'cecil': 6073, 'miniatur': 6074, 'der': 6075, 'crap.': 6076, 'no-on': 6077, 'amongst': 6078, 'nephew': 6079, 'spectacularli': 6080, 'cindi': 6081, 'benni': 6082, 'optim': 6083, 'bash': 6084, 'journalist': 6085, 'stitch': 6086, 'brass': 6087, 'haha': 6088, 'hypocrisi': 6089, 'mall': 6090, 'fabl': 6091, 'departur': 6092, 'fraud': 6093, 'submit': 6094, 'symphoni': 6095, 'reassur': 6096, 'yup': 6097, 'fonda': 6098, 'chic': 6099, 'ho': 6100, 'splice': 6101, 'sour': 6102, 'satisfact': 6103, 'scifi': 6104, 'mind.': 6105, 'synthes': 6106, 'paradis': 6107, 'sense.': 6108, 'garag': 6109, 'btw': 6110, 'inventor': 6111, 'electron': 6112, 'flimsi': 6113, 'web': 6114, 'shade': 6115, 'opu': 6116, 'keyboard': 6117, 'titular': 6118, 'murray': 6119, 'plastic': 6120, 'follow-up': 6121, 'bro': 6122, 'surgeri': 6123, 'grenad': 6124, 'dont': 6125, 'mercenari': 6126, 'rambo': 6127, 'clone': 6128, 'goth': 6129, 'ghostli': 6130, 'bava': 6131, 'paranorm': 6132, 'ongo': 6133, 'fog': 6134, 'aficionado': 6135, 'tripl': 6136, 'annual': 6137, 'hypnot': 6138, 'sergio': 6139, 'gradual': 6140, 'bonni': 6141, 'hammi': 6142, 'grisli': 6143, 'momentum': 6144, 'letdown': 6145, 'cleaner': 6146, 'csi': 6147, 'build-up': 6148, 'restrict': 6149, 'graveyard': 6150, 'flicker': 6151, 'eleph': 6152, '1932': 6153, 'tarzan': 6154, 'maureen': 6155, 'height': 6156, 'rupert': 6157, 'yep': 6158, 'fieri': 6159, 'clive': 6160, 'palanc': 6161, 'aircraft': 6162, 'owen': 6163, 'charlton': 6164, 'er': 6165, 'sabotag': 6166, 'grandson': 6167, 'chunk': 6168, 'destruct': 6169, 'catastroph': 6170, 'ripoff': 6171, 'did.': 6172, 'boring.': 6173, 'chore': 6174, 'speechless': 6175, 'racial': 6176, 'wildli': 6177, 'pierc': 6178, 'environment': 6179, 'brosnan': 6180, 'grey': 6181, 'biopic': 6182, 'mute': 6183, 'stereo': 6184, 'bathroom': 6185, 'rabid': 6186, 'squander': 6187, 'crave': 6188, 'plot.': 6189, 'brandon': 6190, 'articl': 6191, 'pa': 6192, 'del': 6193, 'forgiven': 6194, 'costner': 6195, 'architectur': 6196, 'vs.': 6197, 'renown': 6198, 'legion': 6199, 'incomplet': 6200, 'sci': 6201, 'ufo': 6202, 'misguid': 6203, 'elementari': 6204, 'derek': 6205, 'summar': 6206, 'pizza': 6207, 'juxtapos': 6208, 'painter': 6209, 'showgirl': 6210, 'hug': 6211, 'roug': 6212, 'gown': 6213, 'represent': 6214, 'breakthrough': 6215, 'furi': 6216, 'waltz': 6217, 'piano': 6218, 'bald': 6219, 'dement': 6220, 'undercurr': 6221, 'lean': 6222, 'literari': 6223, 'mytholog': 6224, 'refrain': 6225, 'sock': 6226, 'unsympathet': 6227, 'blob': 6228, 'puppet': 6229, 'plate': 6230, 'tin': 6231, 'incoher': 6232, 'things.': 6233, 'compil': 6234, 'blair': 6235, 'assault': 6236, 'karen': 6237, 'simpler': 6238, 'item': 6239, 'looney': 6240, 'slaveri': 6241, 'donna': 6242, 'rap': 6243, 'willi': 6244, 'invent': 6245, \"o'brien\": 6246, 'spider': 6247, 'mors': 6248, 'doug': 6249, 'meter': 6250, 'disrupt': 6251, 'math': 6252, 'perplex': 6253, 'one-dimension': 6254, 'culmin': 6255, 'joey': 6256, 'angst': 6257, 'feat': 6258, 'trigger': 6259, 'frenzi': 6260, 'idioci': 6261, 'watch.': 6262, 'simultan': 6263, 'oblig': 6264, 'invok': 6265, 'comeback': 6266, 'hater': 6267, 'slow-mot': 6268, 'maximum': 6269, 'tightli': 6270, 'spock': 6271, 'mitchum': 6272, 'breathless': 6273, 'headach': 6274, 'beatl': 6275, 'recip': 6276, 'breakfast': 6277, 'ghastli': 6278, 'vaughn': 6279, 'perkin': 6280, 'vinc': 6281, 'mobster': 6282, 'seedi': 6283, 'uncertainti': 6284, 'jealousi': 6285, 'union': 6286, 'comprehens': 6287, 'aimlessli': 6288, 'doo': 6289, 'm.': 6290, 'carnag': 6291, 'carriag': 6292, 'entiti': 6293, 'art-hous': 6294, 'scrape': 6295, 'drip': 6296, 'kati': 6297, 'bake': 6298, 'exceed': 6299, 'jessica': 6300, '300': 6301, 'adversari': 6302, 'liam': 6303, 'lang': 6304, 'phantom': 6305, 'ted': 6306, 'deliri': 6307, 'churn': 6308, 'commiss': 6309, 'campbel': 6310, 'georgia': 6311, 'bias': 6312, 'dudley': 6313, 'clarenc': 6314, 'kyle': 6315, 'bernard': 6316, 'handi': 6317, 'good-natur': 6318, 'reed': 6319, 'fold': 6320, 'half-hour': 6321, 'psychot': 6322, 'liz': 6323, 'underus': 6324, 'glove': 6325, 'nanci': 6326, 'clunki': 6327, 'conserv': 6328, 'psychologist': 6329, 'lament': 6330, 'soft-cor': 6331, 'masturb': 6332, 'delv': 6333, 'info': 6334, 'q': 6335, 'holli': 6336, 'director/writ': 6337, 'ace': 6338, 'el': 6339, 'sheet': 6340, 'institut': 6341, 'sane': 6342, 'alarm': 6343, 'fifth': 6344, 'slay': 6345, 'anniversari': 6346, 'awhil': 6347, 'significantli': 6348, 'porter': 6349, 'ghetto': 6350, 'enabl': 6351, 'loom': 6352, 'flame': 6353, 'harold': 6354, 'duo': 6355, 'mill': 6356, 'rerun': 6357, 'limp': 6358, 'granni': 6359, 'critter': 6360, 'crass': 6361, 'justif': 6362, 'confeder': 6363, 'e.': 6364, 'verit': 6365, 'franklin': 6366, 'criticis': 6367, 'locker': 6368, 'clueless': 6369, 'compound': 6370, 'committe': 6371, 'reno': 6372, 'blatantli': 6373, 'preming': 6374, 'grim': 6375, 'otto': 6376, 'suspicion': 6377, 'sap': 6378, 'superhero': 6379, 'anyway.': 6380, 'bros.': 6381, 'mini-seri': 6382, 'nothing.': 6383, 't-shirt': 6384, 'franco': 6385, 'battlefield': 6386, 'escal': 6387, 'maci': 6388, 'automobil': 6389, 'greater': 6390, 'modern-day': 6391, 'diaz': 6392, 'uncertain': 6393, 'drawback': 6394, 'pollut': 6395, 'florida': 6396, 'logan': 6397, 'runaway': 6398, 'go.': 6399, 'auteur': 6400, 'goldblum': 6401, 'disconcert': 6402, 'neighbour': 6403, 'marijuana': 6404, 'cocain': 6405, 'chock': 6406, 'rice': 6407, 'clad': 6408, 'scantili': 6409, 'sidney': 6410, '200': 6411, 'retro': 6412, 'lester': 6413, '400': 6414, 'imperi': 6415, 'reckon': 6416, 'vcr': 6417, 'stoop': 6418, 'footstep': 6419, 'lump': 6420, 'miner': 6421, 'bow': 6422, 'shaft': 6423, 'reality.': 6424, 'cough': 6425, 'coal': 6426, 'taut': 6427, 'mixtur': 6428, 'orchestr': 6429, 'caption': 6430, 'infuri': 6431, 'wade': 6432, 'relish': 6433, 'vulgar': 6434, 'reliv': 6435, 'woven': 6436, 'done.': 6437, 'jake': 6438, 'madam': 6439, 'cotton': 6440, 'weaver': 6441, 'warden': 6442, 'sandra': 6443, 'punk': 6444, 'underestim': 6445, 'pete': 6446, 'vibe': 6447, 'affirm': 6448, 'zani': 6449, 'rampant': 6450, '1997': 6451, 'properti': 6452, 'debbi': 6453, 'dope': 6454, 'goat': 6455, 'bicycl': 6456, 'unseen': 6457, 'knive': 6458, 'hapless': 6459, 'persist': 6460, 'biograph': 6461, 'distanc': 6462, 'await': 6463, 'monitor': 6464, 'weigh': 6465, 'mount': 6466, 'cloak': 6467, 'redgrav': 6468, 'ingenu': 6469, 'creep': 6470, 'people.': 6471, 'shameless': 6472, 'pride': 6473, 'masquerad': 6474, 'laboratori': 6475, 'amusingli': 6476, \"'50\": 6477, \"'70\": 6478, 'outdat': 6479, 'lemmon': 6480, 'gloria': 6481, 'harass': 6482, 'cannon': 6483, 'meaningless': 6484, 'mac': 6485, 'pronounc': 6486, 'bloom': 6487, 'uninspir': 6488, 'slick': 6489, 'weed': 6490, 'co-writ': 6491, 'truman': 6492, 'biolog': 6493, 'perri': 6494, 'olivia': 6495, 'jolt': 6496, 'lawn': 6497, 'python': 6498, 'monti': 6499, 'case.': 6500, 'catherin': 6501, 'chapter': 6502, 'da': 6503, 'casper': 6504, 'token': 6505, 'mcdonald': 6506, 'keeper': 6507, 'poem': 6508, 'seagal': 6509, 'nod': 6510, 'heartili': 6511, 'undead': 6512, 'intimaci': 6513, 'idyl': 6514, 'recept': 6515, 'inclus': 6516, 'voyeur': 6517, 'dispar': 6518, 'dwell': 6519, 'allus': 6520, 'antonioni': 6521, 'rider': 6522, 'errat': 6523, 'floyd': 6524, 'slut': 6525, 'bout': 6526, 'subconsci': 6527, 'somber': 6528, 'occurr': 6529, 'deer': 6530, 'cassavet': 6531, 'sarandon': 6532, '1931': 6533, 'duck': 6534, 'orson': 6535, 'lunat': 6536, 'branagh': 6537, 'scoobi': 6538, 'obscur': 6539, 'astonishingli': 6540, 'funki': 6541, 'giovanni': 6542, 'underscor': 6543, 'narcissist': 6544, '21': 6545, 'grown-up': 6546, 'arkin': 6547, 'sonni': 6548, 'closeup': 6549, 'sync': 6550, 'bacon': 6551, 'pioneer': 6552, 'jagger': 6553, 'jay': 6554, 'tighten': 6555, 'hick': 6556, 'irv': 6557, 'quantiti': 6558, 'randolph': 6559, 'physician': 6560, 'immigr': 6561, 'sammi': 6562, 'protest': 6563, 'unapp': 6564, 'possible.': 6565, 'shudder': 6566, 'galaxi': 6567, 'overpow': 6568, 'geoffrey': 6569, 'prosecut': 6570, 'sydow': 6571, 'vocabulari': 6572, 'cherish': 6573, 'soar': 6574, 'denial': 6575, 'nemesi': 6576, 'comrad': 6577, 'rivalri': 6578, 'outburst': 6579, 'penalti': 6580, 'viciou': 6581, 'profil': 6582, 'calib': 6583, 'interfer': 6584, 'behalf': 6585, 'greg': 6586, 'contempt': 6587, 'wallow': 6588, 'elliot': 6589, 'downbeat': 6590, 'vastli': 6591, 'lad': 6592, 'lab': 6593, 'yourselv': 6594, 'su': 6595, 'mister': 6596, 'vice': 6597, 'guidanc': 6598, 'kitchen': 6599, 'oop': 6600, 'gu': 6601, 'easiest': 6602, 'tail': 6603, 'incorpor': 6604, 'discard': 6605, 'permiss': 6606, 'websit': 6607, 'godard': 6608, 'underdog': 6609, 'diet': 6610, 'dangl': 6611, 'slayer': 6612, 'spain': 6613, 'endeavor': 6614, 'mockeri': 6615, 'hostil': 6616, 'cobra': 6617, 'unnatur': 6618, 'watching.': 6619, 'snappi': 6620, 'bitchi': 6621, 'coaster': 6622, 'talentless': 6623, 'tribul': 6624, 'download': 6625, 'scientif': 6626, '1957': 6627, 'ebert': 6628, 'substitut': 6629, 'judd': 6630, 'garbo': 6631, 'dusti': 6632, 'hustler': 6633, 'surgeon': 6634, 'prayer': 6635, '~': 6636, 'mason': 6637, 'cagney': 6638, 'prologu': 6639, 'shanghai': 6640, 'berkeley': 6641, 'parad': 6642, 'chainsaw': 6643, 'direct-to-video': 6644, 'dynamit': 6645, 'corman': 6646, 'corey': 6647, 'mild': 6648, 'rocker': 6649, 'riff': 6650, 'ramon': 6651, 'napoleon': 6652, 'n': 6653, 'enforc': 6654, 'effortless': 6655, 'tool': 6656, 'grandmoth': 6657, 'camcord': 6658, 'shove': 6659, 'specialist': 6660, 'actors/actress': 6661, 'goon': 6662, 'vomit': 6663, 'bog': 6664, 'drift': 6665, 'smallest': 6666, 'conjur': 6667, 'dug': 6668, 'potent': 6669, 'throat': 6670, 'sebastian': 6671, 'dissect': 6672, 'frozen': 6673, 'interestingli': 6674, 'vers': 6675, 'cigar': 6676, \"'caus\": 6677, 'filler': 6678, 'thorn': 6679, 'bia': 6680, 'pivot': 6681, 'request': 6682, 'midget': 6683, 'drool': 6684, 'skate': 6685, 'hockey': 6686, 'duh': 6687, 'stray': 6688, 'recycl': 6689, 'intertwin': 6690, 'despair': 6691, 'outset': 6692, 'seiz': 6693, 'doc': 6694, 'eli': 6695, 'baker': 6696, 'biographi': 6697, 'yarn': 6698, 'shortli': 6699, 'reportedli': 6700, 'forrest': 6701, 'sydney': 6702, 'whisper': 6703, 'year.': 6704, 'philipp': 6705, 'unfaith': 6706, 'cheung': 6707, 'filmographi': 6708, 'falcon': 6709, 'high-school': 6710, 'stunk': 6711, 'rooki': 6712, 'avid': 6713, 'gig': 6714, 'jill': 6715, 'minutes.': 6716, 'stalker': 6717, 'hop': 6718, 'bullock': 6719, 'slap': 6720, 'screwbal': 6721, 'madli': 6722, 'affleck': 6723, 'collid': 6724, 'springer': 6725, 'puls': 6726, '1991': 6727, 'casino': 6728, 'snipe': 6729, 'deniro': 6730, 'keanu': 6731, 'maiden': 6732, 'estim': 6733, 'abund': 6734, 'mimic': 6735, 'pig': 6736, 'norma': 6737, 'pacif': 6738, 'marin': 6739, '1947': 6740, 'l.a.': 6741, 'archiv': 6742, 'provoc': 6743, 'marilyn': 6744, '1951': 6745, 'januari': 6746, 'manic': 6747, 'monro': 6748, 'groceri': 6749, 'honey': 6750, '1945': 6751, 'travolta': 6752, 'hannah': 6753, 'decemb': 6754, 'hollow': 6755, 'unrel': 6756, 'dreck': 6757, 'karloff': 6758, 'pre-cod': 6759, 'radar': 6760, 'fodder': 6761, 'durat': 6762, 'grandma': 6763, 'wrongli': 6764, 'fishburn': 6765, 'coloss': 6766, '2001': 6767, 'ps': 6768, 'redneck': 6769, 'infect': 6770, 'frost': 6771, 'craze': 6772, 'reagan': 6773, 'thing.': 6774, 'pompou': 6775, 'cuba': 6776, 'viru': 6777, 'administr': 6778, 'abraham': 6779, 'whale': 6780, 'man.': 6781, 'stiller': 6782, 'h.': 6783, 'trooper': 6784, 'shuttl': 6785, 'bend': 6786, 'turkish': 6787, 'champion': 6788, 'philosophi': 6789, 'cronenberg': 6790, 'trivial': 6791, 'baldwin': 6792, 'dee': 6793, 'eras': 6794, 'paranoia': 6795, 'comprehend': 6796, 'flip': 6797, 'carpent': 6798, 'infiltr': 6799, 'mindset': 6800, 'almighti': 6801, 'confin': 6802, 'tack': 6803, 'salt': 6804, 'cycl': 6805, 'staci': 6806, 'babe': 6807, 'embrac': 6808, 'paranoid': 6809, 'recov': 6810, 'mutant': 6811, 'freshman': 6812, 'shenanigan': 6813, 'chiller': 6814, 'sunni': 6815, 'harvest': 6816, 'motel': 6817, 'contin': 6818, 'beg': 6819, 'carv': 6820, 'prejudic': 6821, 'shawn': 6822, 'enigmat': 6823, 'rooney': 6824, 'reinforc': 6825, 'cowardli': 6826, 'carpet': 6827, 'furnitur': 6828, 'deviat': 6829, 'eager': 6830, 'eponym': 6831, 'extraordinarili': 6832, 'instinct': 6833, 'reid': 6834, 'compass': 6835, '3rd': 6836, 'werewolv': 6837, 'scout': 6838, 'patienc': 6839, 'proclaim': 6840, 'nearest': 6841, 'preval': 6842, 'lucio': 6843, 'theft': 6844, 'fuel': 6845, 'handicap': 6846, 'attorney': 6847, 'scheme': 6848, 'temper': 6849, 'dubiou': 6850, 'yacht': 6851, 'conductor': 6852, 'choir': 6853, 'boost': 6854, 'awkwardli': 6855, 'meteor': 6856, 'reginald': 6857, 'jolli': 6858, 'anguish': 6859, 'dicken': 6860, 'ought': 6861, 'scroog': 6862, 'concoct': 6863, 'frail': 6864, 'lambert': 6865, 'nifti': 6866, 'lugosi': 6867, 'bela': 6868, 'recreat': 6869, 'oblivion': 6870, 'tailor': 6871, 'emperor': 6872, 'full-length': 6873, 'han': 6874, 'ounc': 6875, 'houston': 6876, 'wherev': 6877, 'iv': 6878, 'smarter': 6879, 'late-night': 6880, 'dupe': 6881, 'congratul': 6882, 'awe': 6883, \"'real\": 6884, 'acting.': 6885, 'shriek': 6886, 'bean': 6887, 'potato': 6888, 'woeful': 6889, 'dreari': 6890, 'plausibl': 6891, 'flew': 6892, 'unmistak': 6893, 'frog': 6894, 'millionair': 6895, 'cite': 6896, 'interrupt': 6897, 'stan': 6898, 'masculin': 6899, 'oscar-win': 6900, 'waitress': 6901, 'agon': 6902, 'sub-genr': 6903, 'jewelri': 6904, 'unintellig': 6905, 'district': 6906, 'mistreat': 6907, 'hoodlum': 6908, 'crummi': 6909, 'niro': 6910, 'dine': 6911, 'revisit': 6912, 'forbid': 6913, 'pierr': 6914, 'spear': 6915, 'sleev': 6916, 'hustl': 6917, 'championship': 6918, 'evan': 6919, 'patriarch': 6920, 'downtown': 6921, 'largest': 6922, 'mutual': 6923, 'judith': 6924, 'prototyp': 6925, 'stand-up': 6926, 'leonard': 6927, 'misogynist': 6928, 'warfar': 6929, 'scarc': 6930, 'output': 6931, 'antholog': 6932, 'diabol': 6933, 'prevail': 6934, 'elsewher': 6935, 'glossi': 6936, 'godzilla': 6937, 'throne': 6938, 'shrill': 6939, 'terrible.': 6940, 'metropoli': 6941, 'snippet': 6942, 'typecast': 6943, 'glimmer': 6944, 'proudli': 6945, 'ach': 6946, 'panel': 6947, 'secretli': 6948, 'overblown': 6949, 'gambler': 6950, 'soprano': 6951, 'bacal': 6952, 'dwarf': 6953, 'rariti': 6954, 'gladli': 6955, 'jacqu': 6956, 'readili': 6957, 'mundan': 6958, 'du': 6959, 'swiss': 6960, 'temporari': 6961, 'candl': 6962, 'guis': 6963, 'infinit': 6964, 'tramp': 6965, 'tomato': 6966, 'josh': 6967, 'mitch': 6968, 'insecur': 6969, 'nolan': 6970, 'remors': 6971, 'senseless': 6972, 'syndrom': 6973, '35': 6974, 'siren': 6975, 'bach': 6976, 'rug': 6977, 'spous': 6978, 'enterpris': 6979, 'appetit': 6980, 'seymour': 6981, 'roller': 6982, 'anything.': 6983, 'wahlberg': 6984, 'crawford': 6985, 'baron': 6986, 'emotionless': 6987, 'armor': 6988, 'attribut': 6989, 'riski': 6990, 'formal': 6991, 'earliest': 6992, 'flavor': 6993, 'lap': 6994, 'signifi': 6995, '1986': 6996, 'cutter': 6997, 'uh': 6998, 'cooki': 6999, 'nichol': 7000, '1st': 7001, 'chariti': 7002, 'pastor': 7003, 'byrn': 7004, 'aaron': 7005, 'ledger': 7006, 'heath': 7007, 'b-grade': 7008, 'turbul': 7009, 'miracul': 7010, 'horrid': 7011, 'tickl': 7012, 'straight-to-video': 7013, 'basket': 7014, 'dispens': 7015, 'labour': 7016, 'looni': 7017, 'fictiti': 7018, 'heritag': 7019, 'playwright': 7020, 'cancer': 7021, 'offset': 7022, 'healthi': 7023, 'beard': 7024, 'strive': 7025, 'capit': 7026, 'willingli': 7027, 'childish': 7028, 'unimpress': 7029, 'anita': 7030, 'satisfactori': 7031, 'condens': 7032, 'farley': 7033, 'fratern': 7034, 'melissa': 7035, 'britney': 7036, \"'n\": 7037, 'period.': 7038, 'penni': 7039, 'chart': 7040, 'werewolf': 7041, 'gunshot': 7042, '85': 7043, 'snowman': 7044, 'adject': 7045, 'smitten': 7046, 'zellweg': 7047, 'oblivi': 7048, 'kinnear': 7049, 'co-work': 7050, 'astronaut': 7051, '.......': 7052, 'escapist': 7053, 'juan': 7054, 'victorian': 7055, 'despis': 7056, 'abroad': 7057, 'bio': 7058, 'mann': 7059, 'best.': 7060, 'beam': 7061, 'mccoy': 7062, 'off-screen': 7063, '4th': 7064, 'solo': 7065, 'renew': 7066, 'nichola': 7067, 'claustrophob': 7068, '1964': 7069, 'impend': 7070, 'ici': 7071, 'corn': 7072, 'forum': 7073, 'agreement': 7074, 'slate': 7075, 'hypocrit': 7076, 'surf': 7077, 'invinc': 7078, 'hybrid': 7079, 'griffin': 7080, 'puppi': 7081, 'rosemari': 7082, 'exposit': 7083, 'societ': 7084, 'elliott': 7085, 'sandler': 7086, 'todd': 7087, 'nielsen': 7088, 'anatomi': 7089, 'heir': 7090, 'bishop': 7091, 'textbook': 7092, 'clumsili': 7093, 'denver': 7094, 'navi': 7095, 'imaginari': 7096, 'audit': 7097, 'unlock': 7098, 'irrat': 7099, 'insignific': 7100, 'roach': 7101, 'thereaft': 7102, 'wheelchair': 7103, 'gripe': 7104, 'liv': 7105, 'tyler': 7106, 'roommat': 7107, 'snap': 7108, 'themselves.': 7109, 'come.': 7110, 'intimid': 7111, 'glue': 7112, 'mama': 7113, 'denouement': 7114, 'cassel': 7115, 'riddl': 7116, 'cardin': 7117, 'right.': 7118, 'melt': 7119, 'stupid.': 7120, 'cockney': 7121, 'idea.': 7122, 'roosevelt': 7123, 'oddbal': 7124, '28': 7125, '1996': 7126, 'gruff': 7127, 'marit': 7128, 'grumpi': 7129, 'overplay': 7130, 'finney': 7131, 'pub': 7132, 'level.': 7133, 'vintag': 7134, 'ebay': 7135, 'payoff': 7136, 'seth': 7137, 'mortal': 7138, 'sen': 7139, 'drake': 7140, 'saloon': 7141, 'ash': 7142, 'preposter': 7143, 'leer': 7144, 'clyde': 7145, 'isra': 7146, 'signatur': 7147, 'jock': 7148, 'avenu': 7149, 'witchcraft': 7150, 'disput': 7151, 'eg': 7152, 'pryor': 7153, 'accomplic': 7154, 'bewild': 7155, 'botch': 7156, 'groom': 7157, 'begun': 7158, 'loner': 7159, 'rochest': 7160, 'procedur': 7161, 'hostel': 7162, 'remaind': 7163, 'joker': 7164, 'approv': 7165, 'classroom': 7166, 'brash': 7167, 'ploy': 7168, 'romero': 7169, 'hord': 7170, 'amok': 7171, 'dj': 7172, 'veer': 7173, 'hit-man': 7174, 'acrobat': 7175, 'jumbl': 7176, 'poke': 7177, 'jr': 7178, 'runtim': 7179, 'astut': 7180, 'nigel': 7181, 'secondari': 7182, 'ravish': 7183, 'unemploy': 7184, 'psychedel': 7185, 'kinki': 7186, 'minimum': 7187, 'itself.': 7188, 'videotap': 7189, 'cast.': 7190, 'cedric': 7191, 'lengthi': 7192, 'analog': 7193, 'tumbl': 7194, 'abort': 7195, 'fast-pac': 7196, 'plainli': 7197, 'stud': 7198, 'beverli': 7199, 'wink': 7200, 'cap': 7201, 'zealand': 7202, 'satellit': 7203, 'logo': 7204, 'hyde': 7205, 'sucker': 7206, 'nicol': 7207, 'kidman': 7208, 'natasha': 7209, 'thelma': 7210, 'espionag': 7211, 'panic': 7212, '1975': 7213, 'triangl': 7214, 'excruci': 7215, 'hallmark': 7216, 'spur': 7217, 'luci': 7218, 'shepard': 7219, 'insuffer': 7220, 'millennium': 7221, 'geeki': 7222, 'barbarian': 7223, 'hogan': 7224, 'bravo': 7225, 'hercul': 7226, 'admiss': 7227, 'bitch': 7228, 'salli': 7229, 'tara': 7230, 'custodi': 7231, 'competitor': 7232, 'butch': 7233, 'burnt': 7234, 'v': 7235, 'pistol': 7236, 'paxton': 7237, 'tenant': 7238, 'recount': 7239, 'needl': 7240, 'likeabl': 7241, 'dud': 7242, 'uncredit': 7243, 'mauric': 7244, 'loath': 7245, 'denomin': 7246, 'speaker': 7247, 'faux': 7248, 'curv': 7249, 'chevi': 7250, 'electrocut': 7251, 'days.': 7252, 'old-fashion': 7253, 'anyhow': 7254, 'henchman': 7255, 'transvestit': 7256, 'panti': 7257, 'glenda': 7258, 'carson': 7259, 'preacher': 7260, 'alec': 7261, 'garfield': 7262, 'coron': 7263, 'degener': 7264, 'gym': 7265, 'oppress': 7266, 'quibbl': 7267, 'intoler': 7268, 'thirteen': 7269, 'bo': 7270, 'sibl': 7271, 'cliffhang': 7272, 'loi': 7273, 'cape': 7274, 'valid': 7275, 'demeanor': 7276, 'yr': 7277, 're-run': 7278, 'august': 7279, 'rome': 7280, 'insomnia': 7281, 'inmat': 7282, 're-releas': 7283, 'miik': 7284, 'milo': 7285, 'atlanti': 7286, 'mermaid': 7287, 'hometown': 7288, 'd-': 7289, 'chronicl': 7290, 'noah': 7291, 'suburb': 7292, 'whim': 7293, 'permit': 7294, 'illiter': 7295, 'a.k.a': 7296, '3/10': 7297, 'barn': 7298, 'stack': 7299, 'alexandra': 7300, 'see.': 7301, 'unnerv': 7302, 'korean': 7303, 'occult': 7304, 'harmoni': 7305, 'endors': 7306, 'fest': 7307, 'exorcist': 7308, 'shakespearean': 7309, 'seamlessli': 7310, 'sfx': 7311, 'babysitt': 7312, 'burk': 7313, 'bitten': 7314, 'miyazaki': 7315, 'long-tim': 7316, 'allegori': 7317, 'half-way': 7318, 'wrist': 7319, 'rogu': 7320, 'tokyo': 7321, 'freed': 7322, 'naughti': 7323, 'coppola': 7324, 'story-lin': 7325, 'impal': 7326, 'lizard': 7327, 'palett': 7328, 'rebellion': 7329, 'thereof': 7330, 'critiqu': 7331, 'shatner': 7332, 'cater': 7333, 'care.': 7334, '1954': 7335, 'streisand': 7336, 'norwegian': 7337, 'facad': 7338, 'plea': 7339, 'friends.': 7340, 'fiasco': 7341, 'beef': 7342, 'rampag': 7343, 'turgid': 7344, 'gospel': 7345, 'kramer': 7346, 'foe': 7347, 'morph': 7348, 'later.': 7349, 'fewer': 7350, 'prolong': 7351, 'hunki': 7352, 'well-known': 7353, 'defect': 7354, 'martian': 7355, 'grammar': 7356, 'spine': 7357, 'unclear': 7358, 'classmat': 7359, 'clan': 7360, 'cow': 7361, 'travesti': 7362, 'mistakenli': 7363, 'rewind': 7364, 'memoir': 7365, 'li': 7366, 'eclips': 7367, 'tricki': 7368, 'dialect': 7369, 'canva': 7370, 'elm': 7371, 'melvil': 7372, '=': 7373, 'yea': 7374, 'scriptwrit': 7375, '0/10': 7376, 'war.': 7377, 'catchi': 7378, 'swift': 7379, 'feebl': 7380, 'awri': 7381, 'recaptur': 7382, 'pimp': 7383, 'picture.': 7384, 'outlaw': 7385, 'nutti': 7386, 'feather': 7387, 'wrench': 7388, 'eleven': 7389, 'implement': 7390, 'gosh': 7391, 'astair': 7392, 'overtli': 7393, 'hand-held': 7394, 'delusion': 7395, 'unresolv': 7396, 'feisti': 7397, 'slant': 7398, 'genet': 7399, 'episode.': 7400, 'platoon': 7401, 'do.': 7402, 'delay': 7403, 'elmer': 7404, 'syndic': 7405, 'bogu': 7406, 'infidel': 7407, 'eh': 7408, 'distraught': 7409, 'heartfelt': 7410, 'fienn': 7411, 'schedul': 7412, 'allianc': 7413, 'highland': 7414, 'snatch': 7415, 'liar': 7416, 'music.': 7417, 'troup': 7418, 'barker': 7419, 'slew': 7420, 'cheapli': 7421, 'deviou': 7422, 'infant': 7423, 'barrel': 7424, 'duchovni': 7425, 'abli': 7426, 'empath': 7427, 'mcdowel': 7428, 'intermin': 7429, 'lorr': 7430, 'submarin': 7431, 'didnt': 7432, 'yorker': 7433, 'homework': 7434, 'fri': 7435, 'slow-mov': 7436, 'merri': 7437, 'refin': 7438, 'republican': 7439, 'phoenix': 7440, 'debt': 7441, 'democraci': 7442, 'unsuccess': 7443, 'toe': 7444, 'claud': 7445, 'medal': 7446, 'wobbl': 7447, 'segal': 7448, 'lumber': 7449, 'ralli': 7450, 'outbreak': 7451, 'elvira': 7452, 'summon': 7453, 'unsuspect': 7454, 'guinea': 7455, 'alison': 7456, 'joanna': 7457, '48': 7458, 'thurman': 7459, 'uma': 7460, 'timberlak': 7461, 'cameraman': 7462, 'intellect': 7463, 'islam': 7464, 'loudli': 7465, 'bread': 7466, 'why.': 7467, 'aura': 7468, 'phase': 7469, 'carolin': 7470, 'taunt': 7471, 'cheaper': 7472, 'brent': 7473, 'ali': 7474, 'spill': 7475, 'anti-hero': 7476, 'cassidi': 7477, 'endlessli': 7478, 'foray': 7479, 'bastard': 7480, 'divert': 7481, 'shadi': 7482, 'shun': 7483, 'eagerli': 7484, 'kingsley': 7485, 'marisa': 7486, 'tepid': 7487, 'commando': 7488, 'robbin': 7489, 'salesman': 7490, 'columbo': 7491, 'indiana': 7492, 'dori': 7493, 'dunno': 7494, 'marx': 7495, 'mae': 7496, 'disconnect': 7497, 'un': 7498, 'hesit': 7499, 'ineptitud': 7500, 'untru': 7501, 'hysteria': 7502, 'daytim': 7503, 'leo': 7504, 'emmanuel': 7505, 'series.': 7506, 'self-absorb': 7507, 'grader': 7508, '5th': 7509, 'quigley': 7510, 'armstrong': 7511, 'evoc': 7512, 'greas': 7513, 'loy': 7514, 'myrna': 7515, 'stella': 7516, 'mischiev': 7517, 'emmi': 7518, 'guru': 7519, 'dame': 7520, 'jodi': 7521, 'sacrif': 7522, 'shuffl': 7523, 'atlant': 7524, 'shortcom': 7525, 'hound': 7526, 'niec': 7527, 'scorn': 7528, 'diminish': 7529, 'il': 7530, 'autobiographi': 7531, 'peep': 7532, 'fuss': 7533, 'inaccur': 7534, 'i.e.': 7535, 'seventi': 7536, 'escort': 7537, \"'bad\": 7538, 'darren': 7539, 'persecut': 7540, 'rori': 7541, 'consol': 7542, 'rko': 7543, 'bryan': 7544, 'muppet': 7545, 'clariti': 7546, 'yanke': 7547, 'cracker': 7548, 'tooth': 7549, 'ritchi': 7550, 'steami': 7551, 'erika': 7552, 'aptli': 7553, 'omen': 7554, 'performances.': 7555, 'rees': 7556, 'eleanor': 7557, 'tub': 7558, 'spaceship': 7559, 'dodg': 7560, 'fanni': 7561, 'anxieti': 7562, 'lucil': 7563, 'whore': 7564, 'zane': 7565, 'chemic': 7566, 'aimless': 7567, 'oversea': 7568, 'suzi': 7569, 'wayan': 7570, 'henchmen': 7571, 'daisi': 7572, 'basing': 7573, 'ww2': 7574, 'edison': 7575, 'carmen': 7576, 'exceedingli': 7577, 'perki': 7578, '-the': 7579, 'fun.': 7580, 'quip': 7581, 'montgomeri': 7582, 'leak': 7583, 'patho': 7584, 'darn': 7585, '150': 7586, '1944': 7587, 'boggl': 7588, 'gullibl': 7589, 'injustic': 7590, 'jose': 7591, 'daft': 7592, 'carefre': 7593, 'worldwid': 7594, 'benjamin': 7595, 'conceit': 7596, 'deform': 7597, 'fathom': 7598, 'set-piec': 7599, 'concret': 7600, 'telli': 7601, 'ripper': 7602, 'sting': 7603, 'unwittingli': 7604, 'travi': 7605, 'biker': 7606, 'schizophren': 7607, 'bunuel': 7608, 'regrett': 7609, 'enrag': 7610, 'emil': 7611, 'heighten': 7612, 'journal': 7613, 'lincoln': 7614, 'long.': 7615, 'conniv': 7616, 'braveri': 7617, 'nerdi': 7618, 'laps': 7619, 'director.': 7620, 'schneider': 7621, 'policemen': 7622, 'ing': 7623, 'personnel': 7624, 'production.': 7625, 'alejandro': 7626, 'wesley': 7627, 'amiabl': 7628, 'ratio': 7629, 'crypt': 7630, 'peni': 7631, 'kathryn': 7632, 'robbi': 7633, 'permeat': 7634, 'deborah': 7635, 'ambush': 7636, 'yank': 7637, 'taint': 7638, 'portman': 7639, 'aboard': 7640, 'brooklyn': 7641, 'homeless': 7642, 'gunfight': 7643, 'nomine': 7644, 'unnam': 7645, 'satur': 7646, 'cement': 7647, 'likewis': 7648, 'of.': 7649, 'stain': 7650, 'maverick': 7651, 'schtick': 7652, 'laden': 7653, 'nicknam': 7654, 'deplor': 7655, 'geraldin': 7656, 'disgruntl': 7657, 'lindsay': 7658, 'propel': 7659, 'filmic': 7660, 'sporad': 7661, 'inexperienc': 7662, 'hunger': 7663, 'excerpt': 7664, 'alot': 7665, 'rowland': 7666, 'meredith': 7667, 'recollect': 7668, 'canyon': 7669, 'http': 7670, 'cavalri': 7671, 'raj': 7672, 'nolt': 7673, 'marcu': 7674, 'irrespons': 7675, 'selleck': 7676, 'copyright': 7677, 'hooper': 7678, 'moss': 7679, 'acquit': 7680, 'sant': 7681, 'drummer': 7682, 'barney': 7683, 'seller': 7684, 'shoestr': 7685, 'throwaway': 7686, 'snuff': 7687, 'enlist': 7688, 'underwear': 7689, 'ilk': 7690, 'submiss': 7691, 'discredit': 7692, 'therebi': 7693, 'roles.': 7694, 'profoundli': 7695, 'organis': 7696, 'chow': 7697, 'mccarthi': 7698, 'shorten': 7699, 'trendi': 7700, 'self-destruct': 7701, 'chamber': 7702, 'chef': 7703, 'stall': 7704, 'einstein': 7705, 'brunett': 7706, 'feud': 7707, 'grain': 7708, 'lick': 7709, 'digress': 7710, 'malevol': 7711, 'dillon': 7712, 'lara': 7713, 'randal': 7714, 'dylan': 7715, 'dove': 7716, 'condescend': 7717, 'agoni': 7718, 'firth': 7719, 'lansburi': 7720, 'orlean': 7721, 'pow': 7722, 'tit': 7723, 'mildr': 7724, 'bolt': 7725, 'apocalypt': 7726, 'gielgud': 7727, '2009': 7728, 'spin-off': 7729, 'decenc': 7730, 'assumpt': 7731, 'happen.': 7732, 'interven': 7733, 'conform': 7734, 'sober': 7735, 'brute': 7736, 'weekli': 7737, 'successor': 7738, 'shocker': 7739, 'unrat': 7740, 'valeri': 7741, 'gerald': 7742, 'blunder': 7743, 'pod': 7744, 'euro': 7745, 'counsel': 7746, 'cinema.': 7747, 'burial': 7748, 'fearless': 7749, 'accolad': 7750, 'moments.': 7751, 'pee': 7752, 'marti': 7753, 'tug': 7754, 'eagl': 7755, 'dern': 7756, 'muse': 7757, 'neutral': 7758, 'sniper': 7759, 'u.': 7760, 'carrot': 7761, 'wwe': 7762, 'toxic': 7763, 'categor': 7764, 'nich': 7765, 're-watch': 7766, 'data': 7767, 'holland': 7768, 'merg': 7769, 'frat': 7770, 'circuit': 7771, 'dvd.': 7772, 'underlin': 7773, 'attic': 7774, 'bind': 7775, 'toll': 7776, 'chloe': 7777, 'censorship': 7778, 'brilliant.': 7779, 'plethora': 7780, 'post-apocalypt': 7781, 'harriet': 7782, 'pregnanc': 7783, 'rail': 7784, 'prom': 7785, 'poop': 7786, 'tina': 7787, 'veil': 7788, 'hotti': 7789, 'campfir': 7790, 'leonardo': 7791, 'awful.': 7792, 'jo': 7793, 're-anim': 7794, 'prestigi': 7795, 'hale': 7796, 'tow': 7797, 'damsel': 7798, 'seventh': 7799, 'uninvolv': 7800, 'gross-out': 7801, 'imbecil': 7802, 'captor': 7803, 'cramp': 7804, 'renegad': 7805, 'fee': 7806, '<UNK>': 7807}\n"
     ]
    }
   ],
   "source": [
    "print(vocab)"
   ]
  },
  {
   "cell_type": "code",
   "execution_count": 13,
   "metadata": {
    "scrolled": false
   },
   "outputs": [],
   "source": [
    "def tfidf_feature_extractor(doc, vocab, IDF):\n",
    "    tokens = pre_processing_by_nltk(doc)\n",
    "    for i, token in enumerate(tokens):\n",
    "        if token not in vocab:\n",
    "            tokens[i] = '<UNK>'\n",
    "    TF = defaultdict(int)\n",
    "    for token in tokens:\n",
    "        TF[token] += 1\n",
    "    x = [0] * len(vocab)\n",
    "    for token in set(tokens):\n",
    "        tfidf = log(TF[token] + 1) * IDF[token]\n",
    "        token_id = vocab[token]\n",
    "#         print(token, TF[token], IDF[token])\n",
    "        x[token_id] = tfidf # this will be a dense matrix\n",
    "    return x\n",
    "\n",
    "\n",
    "x = tfidf_feature_extractor('I love this movie movie', vocab, IDF)"
   ]
  },
  {
   "cell_type": "code",
   "execution_count": 14,
   "metadata": {},
   "outputs": [
    {
     "name": "stderr",
     "output_type": "stream",
     "text": [
      "100%|██████████| 50000/50000 [02:26<00:00, 340.88it/s]\n"
     ]
    }
   ],
   "source": [
    "X = []\n",
    "for doc in tqdm(df.review):\n",
    "    X.append(tfidf_feature_extractor(doc, vocab, IDF))\n",
    "y = list(df.sentiment)"
   ]
  },
  {
   "cell_type": "code",
   "execution_count": 15,
   "metadata": {},
   "outputs": [
    {
     "name": "stdout",
     "output_type": "stream",
     "text": [
      "50000 50000\n"
     ]
    }
   ],
   "source": [
    "print(len(X), len(y))"
   ]
  },
  {
   "cell_type": "code",
   "execution_count": 16,
   "metadata": {},
   "outputs": [
    {
     "name": "stdout",
     "output_type": "stream",
     "text": [
      "40000 10000\n"
     ]
    }
   ],
   "source": [
    "from sklearn.model_selection import train_test_split\n",
    "\n",
    "X_train, X_test, y_train, y_test = train_test_split(X, y, random_state=1, test_size=0.2, shuffle=False)\n",
    "\n",
    "print(len(X_train), len(X_test))"
   ]
  },
  {
   "cell_type": "code",
   "execution_count": 17,
   "metadata": {},
   "outputs": [
    {
     "data": {
      "text/plain": [
       "0.8279"
      ]
     },
     "execution_count": 17,
     "metadata": {},
     "output_type": "execute_result"
    }
   ],
   "source": [
    "# train a logistic regression model\n",
    "from sklearn.linear_model import LogisticRegression\n",
    "\n",
    "clf = LogisticRegression(random_state=0).fit(X_train[:1000], y_train[:1000])\n",
    "\n",
    "clf.score(X_test, y_test)"
   ]
  },
  {
   "cell_type": "code",
   "execution_count": 19,
   "metadata": {},
   "outputs": [
    {
     "data": {
      "text/plain": [
       "0.4987"
      ]
     },
     "execution_count": 19,
     "metadata": {},
     "output_type": "execute_result"
    }
   ],
   "source": [
    "import numpy as np\n",
    "np.mean(y_test)"
   ]
  },
  {
   "cell_type": "code",
   "execution_count": null,
   "metadata": {},
   "outputs": [],
   "source": []
  },
  {
   "cell_type": "code",
   "execution_count": 20,
   "metadata": {},
   "outputs": [
    {
     "name": "stdout",
     "output_type": "stream",
     "text": [
      "{'the': 6, 'sun': 4, 'is': 1, 'shining': 3, 'weather': 8, 'sweet': 5, 'and': 0, 'one': 2, 'two': 7}\n",
      "[[0 1 0 1 1 0 1 0 0]\n",
      " [0 1 0 0 0 1 1 0 1]\n",
      " [2 3 2 1 1 1 2 1 1]]\n"
     ]
    }
   ],
   "source": [
    "import numpy as np\n",
    "from sklearn.feature_extraction.text import CountVectorizer\n",
    "\n",
    "count = CountVectorizer()\n",
    "docs = (['The sun is shining',\n",
    "         'The weather is sweet',\n",
    "         'The sun is shining, the weather is sweet, and one and one is two'])\n",
    "bag = count.fit_transform(docs)\n",
    "\n",
    "print(count.vocabulary_)\n",
    "print(bag.toarray())"
   ]
  },
  {
   "cell_type": "code",
   "execution_count": null,
   "metadata": {},
   "outputs": [],
   "source": []
  },
  {
   "cell_type": "code",
   "execution_count": null,
   "metadata": {},
   "outputs": [],
   "source": []
  },
  {
   "cell_type": "code",
   "execution_count": null,
   "metadata": {},
   "outputs": [],
   "source": []
  },
  {
   "cell_type": "code",
   "execution_count": null,
   "metadata": {},
   "outputs": [],
   "source": []
  },
  {
   "cell_type": "markdown",
   "metadata": {},
   "source": [
    "### TF-IDF using 3rd-party libs"
   ]
  },
  {
   "cell_type": "code",
   "execution_count": 21,
   "metadata": {},
   "outputs": [
    {
     "name": "stdout",
     "output_type": "stream",
     "text": [
      "[[0.   0.43 0.   0.56 0.56 0.   0.43 0.   0.  ]\n",
      " [0.   0.43 0.   0.   0.   0.56 0.43 0.   0.56]\n",
      " [0.5  0.45 0.5  0.19 0.19 0.19 0.3  0.25 0.19]]\n"
     ]
    }
   ],
   "source": [
    "from sklearn.feature_extraction.text import TfidfTransformer\n",
    "np.set_printoptions(precision=2)\n",
    "\n",
    "tfidf = TfidfTransformer(use_idf=True, norm='l2', smooth_idf=True)\n",
    "\n",
    "print(tfidf.fit_transform(bag).toarray())"
   ]
  },
  {
   "cell_type": "code",
   "execution_count": 22,
   "metadata": {},
   "outputs": [
    {
     "name": "stdout",
     "output_type": "stream",
     "text": [
      "bag-of-words features ready!\n"
     ]
    }
   ],
   "source": [
    "from sklearn.feature_extraction.text import TfidfVectorizer\n",
    "\n",
    "tfidf = TfidfVectorizer(strip_accents=None,\n",
    "                        lowercase=True,\n",
    "                        preprocessor=None,  # applied preprocessor in Data Cleaning\n",
    "                        tokenizer=pre_processing_by_nltk,\n",
    "                        use_idf=True,\n",
    "                        norm='l2',\n",
    "                        smooth_idf=True)\n",
    "\n",
    "small_df = df.head(10000)\n",
    "y = small_df.sentiment.values\n",
    "X = tfidf.fit_transform(small_df.review)\n",
    "\n",
    "print('bag-of-words features ready!')"
   ]
  },
  {
   "cell_type": "code",
   "execution_count": 23,
   "metadata": {},
   "outputs": [
    {
     "name": "stdout",
     "output_type": "stream",
     "text": [
      "<class 'scipy.sparse.csr.csr_matrix'>\n"
     ]
    }
   ],
   "source": [
    "print(type(X))"
   ]
  },
  {
   "cell_type": "code",
   "execution_count": 24,
   "metadata": {},
   "outputs": [
    {
     "name": "stderr",
     "output_type": "stream",
     "text": [
      "[Parallel(n_jobs=-1)]: Using backend LokyBackend with 8 concurrent workers.\n",
      "[Parallel(n_jobs=-1)]: Done   2 out of   5 | elapsed:    8.1s remaining:   12.2s\n",
      "[Parallel(n_jobs=-1)]: Done   5 out of   5 | elapsed:    8.2s finished\n"
     ]
    }
   ],
   "source": [
    "from sklearn.model_selection import train_test_split\n",
    "import pickle\n",
    "from sklearn.linear_model import LogisticRegressionCV\n",
    "\n",
    "\n",
    "X_train, X_test, y_train, y_test = train_test_split(X, y, random_state=1, test_size=0.5, shuffle=False)\n",
    "\n",
    "clf = LogisticRegressionCV(cv=5,\n",
    "                           scoring='accuracy',\n",
    "                           random_state=0,\n",
    "                           n_jobs=-1,\n",
    "                           verbose=3,\n",
    "                           max_iter=300).fit(X_train, y_train)"
   ]
  },
  {
   "cell_type": "code",
   "execution_count": null,
   "metadata": {},
   "outputs": [],
   "source": []
  },
  {
   "cell_type": "code",
   "execution_count": 25,
   "metadata": {},
   "outputs": [
    {
     "data": {
      "text/plain": [
       "0.8662"
      ]
     },
     "execution_count": 25,
     "metadata": {},
     "output_type": "execute_result"
    }
   ],
   "source": [
    "clf.score(X_test, y_test)"
   ]
  },
  {
   "cell_type": "code",
   "execution_count": 26,
   "metadata": {},
   "outputs": [
    {
     "data": {
      "text/plain": [
       "array([1, 1, 0, ..., 1, 1, 0])"
      ]
     },
     "execution_count": 26,
     "metadata": {},
     "output_type": "execute_result"
    }
   ],
   "source": [
    "yhat = clf.predict(X_test)\n",
    "yhat"
   ]
  },
  {
   "cell_type": "code",
   "execution_count": 27,
   "metadata": {},
   "outputs": [
    {
     "data": {
      "text/plain": [
       "array([[0.07, 0.93]])"
      ]
     },
     "execution_count": 27,
     "metadata": {},
     "output_type": "execute_result"
    }
   ],
   "source": [
    "text = 'this is my favorite movie!'\n",
    "x_ins = tfidf.transform([text])\n",
    "clf.predict(x_ins)\n",
    "clf.predict_proba(x_ins)"
   ]
  },
  {
   "cell_type": "code",
   "execution_count": 28,
   "metadata": {},
   "outputs": [
    {
     "data": {
      "text/plain": [
       "array([[0.71, 0.29]])"
      ]
     },
     "execution_count": 28,
     "metadata": {},
     "output_type": "execute_result"
    }
   ],
   "source": [
    "text = 'it was alright'\n",
    "x_ins = tfidf.transform([text])\n",
    "clf.predict(x_ins)\n",
    "clf.predict_proba(x_ins)"
   ]
  }
 ],
 "metadata": {
  "kernelspec": {
   "display_name": "Python 3",
   "language": "python",
   "name": "python3"
  },
  "language_info": {
   "codemirror_mode": {
    "name": "ipython",
    "version": 3
   },
   "file_extension": ".py",
   "mimetype": "text/x-python",
   "name": "python",
   "nbconvert_exporter": "python",
   "pygments_lexer": "ipython3",
   "version": "3.7.0"
  }
 },
 "nbformat": 4,
 "nbformat_minor": 4
}
