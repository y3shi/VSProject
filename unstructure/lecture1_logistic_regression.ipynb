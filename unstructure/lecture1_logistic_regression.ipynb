{
 "cells": [
  {
   "cell_type": "markdown",
   "metadata": {},
   "source": [
    "### Logistic Regression with the [Iris Dataset](https://archive.ics.uci.edu/ml/datasets/iris)"
   ]
  },
  {
   "cell_type": "code",
   "execution_count": 1,
   "metadata": {
    "scrolled": true
   },
   "outputs": [
    {
     "name": "stdout",
     "output_type": "stream",
     "text": [
      "Feature vector for the first instance [5.1 3.5 1.4 0.2]\n",
      "Label for the first instance: 0\n",
      "Label set: {0, 1, 2}\n"
     ]
    }
   ],
   "source": [
    "from sklearn.datasets import load_iris\n",
    "\n",
    "# load iris dataset\n",
    "X, y = load_iris(return_X_y=True)\n",
    "\n",
    "print('Feature vector for the first instance', X[0])\n",
    "print('Label for the first instance:', y[0])\n",
    "print('Label set:', set(y))"
   ]
  },
  {
   "cell_type": "code",
   "execution_count": null,
   "metadata": {},
   "outputs": [],
   "source": [
    "print(len(X), len(y))"
   ]
  },
  {
   "cell_type": "code",
   "execution_count": 3,
   "metadata": {},
   "outputs": [
    {
     "name": "stdout",
     "output_type": "stream",
     "text": [
      "120 30\n"
     ]
    }
   ],
   "source": [
    "from sklearn.model_selection import train_test_split\n",
    "\n",
    "# splitting the train-test sets\n",
    "X_train, X_test, y_train, y_test = train_test_split(X, y, random_state=1, test_size=0.2, shuffle=False)\n",
    "\n",
    "print(len(X_train), len(X_test))"
   ]
  },
  {
   "cell_type": "code",
   "execution_count": null,
   "metadata": {},
   "outputs": [],
   "source": []
  },
  {
   "cell_type": "code",
   "execution_count": 4,
   "metadata": {},
   "outputs": [
    {
     "name": "stdout",
     "output_type": "stream",
     "text": [
      "LogisticRegression(random_state=0)\n"
     ]
    },
    {
     "name": "stderr",
     "output_type": "stream",
     "text": [
      "/opt/homebrew/Caskroom/miniforge/base/lib/python3.9/site-packages/sklearn/linear_model/_logistic.py:763: ConvergenceWarning: lbfgs failed to converge (status=1):\n",
      "STOP: TOTAL NO. of ITERATIONS REACHED LIMIT.\n",
      "\n",
      "Increase the number of iterations (max_iter) or scale the data as shown in:\n",
      "    https://scikit-learn.org/stable/modules/preprocessing.html\n",
      "Please also refer to the documentation for alternative solver options:\n",
      "    https://scikit-learn.org/stable/modules/linear_model.html#logistic-regression\n",
      "  n_iter_i = _check_optimize_result(\n"
     ]
    }
   ],
   "source": [
    "# train a logistic regression model\n",
    "from sklearn.linear_model import LogisticRegression\n",
    "\n",
    "iris_classifier = LogisticRegression(random_state=0).fit(X_train, y_train)\n",
    "\n",
    "print(iris_classifier)"
   ]
  },
  {
   "cell_type": "code",
   "execution_count": 5,
   "metadata": {},
   "outputs": [
    {
     "name": "stdout",
     "output_type": "stream",
     "text": [
      "30\n",
      "[2 2 2 1 2 2 1 1 2 2 2 2 2 1 2 2 2 2 1 2 2 2 2 2 2 2 2 2 2 2]\n"
     ]
    }
   ],
   "source": [
    "y_pred = iris_classifier.predict(X_test)\n",
    "print(len(y_pred))\n",
    "print(y_pred)"
   ]
  },
  {
   "cell_type": "code",
   "execution_count": 6,
   "metadata": {},
   "outputs": [
    {
     "name": "stdout",
     "output_type": "stream",
     "text": [
      "[[1.80888396e-05 1.03276787e-01 8.96705124e-01]\n",
      " [9.59122207e-04 3.79718522e-01 6.19322356e-01]\n",
      " [1.56824331e-07 2.76504223e-02 9.72349421e-01]\n",
      " [7.55809295e-04 6.03390149e-01 3.95854042e-01]\n",
      " [3.64063133e-05 1.42508542e-01 8.57455052e-01]\n",
      " [1.39855609e-05 1.76814189e-01 8.23171825e-01]\n",
      " [1.27813913e-03 6.53777651e-01 3.44944210e-01]\n",
      " [1.29542224e-03 5.96058232e-01 4.02646345e-01]\n",
      " [2.93295706e-05 1.26892903e-01 8.73077767e-01]\n",
      " [3.63748411e-05 3.44951936e-01 6.55011689e-01]\n",
      " [3.59585315e-06 1.16195668e-01 8.83800736e-01]\n",
      " [2.86312472e-06 9.00184957e-02 9.09978641e-01]\n",
      " [2.30241203e-05 1.03163338e-01 8.96813638e-01]\n",
      " [6.52499188e-04 6.58405239e-01 3.40942261e-01]\n",
      " [1.10551709e-04 3.61506794e-01 6.38382654e-01]\n",
      " [1.65552949e-06 6.37196541e-02 9.36278690e-01]\n",
      " [3.65219894e-05 7.70209373e-02 9.22942541e-01]\n",
      " [1.37638026e-04 2.95395771e-01 7.04466591e-01]\n",
      " [1.91749100e-03 6.38524776e-01 3.59557733e-01]\n",
      " [9.07469032e-05 2.73220116e-01 7.26689137e-01]\n",
      " [2.03593831e-05 8.96877038e-02 9.10291937e-01]\n",
      " [2.05889281e-04 3.32924042e-01 6.66870069e-01]\n",
      " [4.14445616e-04 3.41673772e-01 6.57911782e-01]\n",
      " [7.41579051e-06 6.11937969e-02 9.38798787e-01]\n",
      " [1.35966573e-05 6.12264651e-02 9.38759938e-01]\n",
      " [1.28970239e-04 2.46392262e-01 7.53478767e-01]\n",
      " [3.51000237e-04 4.66269107e-01 5.33379892e-01]\n",
      " [2.55548086e-04 3.65067181e-01 6.34677271e-01]\n",
      " [1.19419909e-04 1.39751729e-01 8.60128851e-01]\n",
      " [7.23737483e-04 4.38645530e-01 5.60630733e-01]]\n"
     ]
    }
   ],
   "source": [
    "y_pred_prob = iris_classifier.predict_proba(X_test)\n",
    "print(y_pred_prob)"
   ]
  },
  {
   "cell_type": "code",
   "execution_count": 7,
   "metadata": {},
   "outputs": [
    {
     "data": {
      "text/plain": [
       "0.8333333333333334"
      ]
     },
     "execution_count": 7,
     "metadata": {},
     "output_type": "execute_result"
    }
   ],
   "source": [
    "iris_classifier.score(X_test, y_test)"
   ]
  }
 ],
 "metadata": {
  "kernelspec": {
   "display_name": "Python [conda env:root] *",
   "language": "python",
   "name": "conda-root-py"
  },
  "language_info": {
   "codemirror_mode": {
    "name": "ipython",
    "version": 3
   },
   "file_extension": ".py",
   "mimetype": "text/x-python",
   "name": "python",
   "nbconvert_exporter": "python",
   "pygments_lexer": "ipython3",
   "version": "3.7.0"
  }
 },
 "nbformat": 4,
 "nbformat_minor": 4
}
